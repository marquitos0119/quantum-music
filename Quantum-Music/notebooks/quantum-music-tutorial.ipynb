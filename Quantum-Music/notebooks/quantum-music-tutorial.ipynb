{
 "cells": [
  {
   "cell_type": "markdown",
   "id": "cf12dbcf",
   "metadata": {},
   "source": [
    "# Step through and play each column of the quantum circuit"
   ]
  },
  {
   "cell_type": "code",
   "execution_count": null,
   "id": "9d003ec7",
   "metadata": {},
   "outputs": [],
   "source": [
    "# Install quantum-music package\n",
    "! pip install --index-url https://test.pypi.org/simple/ --extra-index-url https://pypi.org/simple quantum-music"
   ]
  },
  {
   "cell_type": "code",
   "execution_count": null,
   "id": "5a9044bf",
   "metadata": {},
   "outputs": [],
   "source": [
    "from quantum_music.Jukebox import Jukebox\n",
    "from qiskit import QuantumCircuit"
   ]
  },
  {
   "cell_type": "markdown",
   "id": "e12b2f3c-7aa6-47bf-afd1-a31bd655e14f",
   "metadata": {},
   "source": [
    "### Paste QASM code in the cell below"
   ]
  },
  {
   "cell_type": "code",
   "execution_count": null,
   "id": "c5fdee24",
   "metadata": {},
   "outputs": [],
   "source": [
    "qasm = \"\"\"\n",
    "OPENQASM 2.0;\n",
    "include \"qelib1.inc\";\n",
    "\n",
    "qreg q[3];\n",
    "creg c[3];\n",
    "\n",
    "h q[0];\n",
    "h q[1];\n",
    "s q[0];\n",
    "s q[1];\n",
    "t q[0];\n",
    "s q[1];\n",
    "tdg q[0];\n",
    "cx q[1],q[2];\n",
    "t q[0];\n",
    "s q[1];\n",
    "h q[1];\n",
    "cx q[0],q[1];\n",
    "t q[0];\n",
    "h q[1];\n",
    "t q[0];\n",
    "\"\"\"\n",
    "\n",
    "circuit = QuantumCircuit.from_qasm_str(qasm)"
   ]
  },
  {
   "cell_type": "code",
   "execution_count": null,
   "id": "68ef1b7a",
   "metadata": {},
   "outputs": [],
   "source": [
    "jukebox = Jukebox(circuit)"
   ]
  },
  {
   "cell_type": "code",
   "execution_count": null,
   "id": "94b01ae6-0496-456e-b1e3-6e3b403648f7",
   "metadata": {},
   "outputs": [],
   "source": []
  }
 ],
 "metadata": {
  "kernelspec": {
   "display_name": "Python 3",
   "language": "python",
   "name": "python3"
  },
  "language_info": {
   "codemirror_mode": {
    "name": "ipython",
    "version": 3
   },
   "file_extension": ".py",
   "mimetype": "text/x-python",
   "name": "python",
   "nbconvert_exporter": "python",
   "pygments_lexer": "ipython3",
   "version": "3.8.0"
  }
 },
 "nbformat": 4,
 "nbformat_minor": 5
}
