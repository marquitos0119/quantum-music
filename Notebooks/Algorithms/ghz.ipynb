{
 "cells": [
  {
   "cell_type": "code",
   "execution_count": 8,
   "id": "b40f71e6",
   "metadata": {},
   "outputs": [
    {
     "name": "stderr",
     "output_type": "stream",
     "text": [
      "ibmqfactory.load_account:WARNING:2021-04-15 21:20:27,545: Credentials are already in use. The existing account in the session will be replaced.\n"
     ]
    }
   ],
   "source": [
    "import numpy as np\n",
    "# Importing standard Qiskit libraries\n",
    "from qiskit import QuantumCircuit, transpile, Aer, IBMQ, execute\n",
    "from qiskit.tools.jupyter import *\n",
    "from qiskit.visualization import *\n",
    "from ibm_quantum_widgets import *\n",
    "\n",
    "# Loading your IBM Q account(s)\n",
    "provider = IBMQ.load_account()"
   ]
  },
  {
   "cell_type": "code",
   "execution_count": 19,
   "id": "156e60e5",
   "metadata": {},
   "outputs": [
    {
     "data": {
      "text/plain": [
       "<qiskit.circuit.instructionset.InstructionSet at 0x7fe92c9b1d90>"
      ]
     },
     "execution_count": 19,
     "metadata": {},
     "output_type": "execute_result"
    }
   ],
   "source": [
    "\"\"\"Demo of a 5-qubit Greenberger-Horne-Zeilinger (GHZ) state\"\"\"\n",
    "# Create a 5-qubit circuit\n",
    "circuit = QuantumCircuit(5)\n",
    "\n",
    "# Apply a Hadamard gate to qubit 0\n",
    "circuit.h(0)\n",
    "\n",
    "# Apply a CNOT gate between each pair of qubits with qubit 0\n",
    "circuit.cx(0, 1)\n",
    "circuit.cx(0, 2)\n",
    "circuit.cx(0, 3)\n",
    "circuit.cx(0, 4)"
   ]
  },
  {
   "cell_type": "code",
   "execution_count": 20,
   "id": "e13b4b90",
   "metadata": {},
   "outputs": [
    {
     "data": {
      "image/png": "[encoded data removed]",
      "text/plain": [
       "<Figure size 387.597x325.08 with 1 Axes>"
      ]
     },
     "execution_count": 20,
     "metadata": {},
     "output_type": "execute_result"
    }
   ],
   "source": [
    "# Visualize the circuit\n",
    "circuit.draw()"
   ]
  },
  {
   "cell_type": "code",
   "execution_count": 21,
   "id": "96b2080d",
   "metadata": {},
   "outputs": [
    {
     "name": "stdout",
     "output_type": "stream",
     "text": [
      "unitary_matrix [[ 0.71+0.j  0.71-0.j  0.  +0.j ...  0.  +0.j  0.  +0.j  0.  +0.j]\n",
      " [ 0.  +0.j  0.  +0.j  0.  +0.j ...  0.  +0.j  0.71+0.j -0.71+0.j]\n",
      " [ 0.  +0.j  0.  +0.j  0.71+0.j ...  0.  +0.j  0.  +0.j  0.  +0.j]\n",
      " ...\n",
      " [ 0.  +0.j  0.  +0.j  0.71+0.j ...  0.  +0.j  0.  +0.j  0.  +0.j]\n",
      " [ 0.  +0.j  0.  +0.j  0.  +0.j ...  0.  +0.j  0.71+0.j  0.71-0.j]\n",
      " [ 0.71+0.j -0.71+0.j  0.  +0.j ...  0.  +0.j  0.  +0.j  0.  +0.j]]\n",
      "matrix size:  (32, 32)\n"
     ]
    }
   ],
   "source": [
    "# View the unitary matrix\n",
    "simulator = Aer.get_backend('unitary_simulator')\n",
    "unitary_matrix = execute(circuit, simulator).result().get_unitary()\n",
    "print('unitary_matrix', np.around(unitary_matrix, 2)) # round floating points values\n",
    "print('matrix size: ', unitary_matrix.shape)"
   ]
  },
  {
   "cell_type": "code",
   "execution_count": null,
   "id": "0413820b",
   "metadata": {},
   "outputs": [],
   "source": []
  }
 ],
 "metadata": {
  "kernelspec": {
   "display_name": "Python 3",
   "language": "python",
   "name": "python3"
  },
  "language_info": {
   "codemirror_mode": {
    "name": "ipython",
    "version": 3
   },
   "file_extension": ".py",
   "mimetype": "text/x-python",
   "name": "python",
   "nbconvert_exporter": "python",
   "pygments_lexer": "ipython3",
   "version": "3.8.8"
  }
 },
 "nbformat": 4,
 "nbformat_minor": 5
}
