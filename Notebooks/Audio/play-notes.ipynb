{
 "cells": [
  {
   "cell_type": "code",
   "execution_count": 34,
   "id": "2a6f915f",
   "metadata": {},
   "outputs": [
    {
     "name": "stderr",
     "output_type": "stream",
     "text": [
      "ibmqfactory.load_account:WARNING:2021-05-08 11:12:37,748: Credentials are already in use. The existing account in the session will be replaced.\n"
     ]
    }
   ],
   "source": [
    "import numpy as np\n",
    "# Importing standard Qiskit libraries\n",
    "from qiskit import QuantumCircuit, transpile, Aer, IBMQ\n",
    "from qiskit.tools.jupyter import *\n",
    "from qiskit.visualization import *\n",
    "from ibm_quantum_widgets import *\n",
    "\n",
    "# Loading your IBM Q account(s)\n",
    "provider = IBMQ.load_account()"
   ]
  },
  {
   "cell_type": "code",
   "execution_count": 35,
   "id": "f5cfdadb",
   "metadata": {},
   "outputs": [],
   "source": [
    "# Additional imports for audio\n",
    "from time import sleep\n",
    "import matplotlib.pyplot as plt\n",
    "from IPython.display import Audio, display, clear_output\n",
    "from ipywidgets import widgets\n",
    "from functools import partial\n",
    "%matplotlib inline"
   ]
  },
  {
   "cell_type": "code",
   "execution_count": 36,
   "id": "1eacf568",
   "metadata": {},
   "outputs": [],
   "source": [
    "def plot_sound(x, y, frequency, xlim=None):\n",
    "    \"\"\"\n",
    "    Plot the frequency (sound) as a visual graph.\n",
    "    Optionally pass in the x-axis limits (xlim) as an array of two numbers\n",
    "    \"\"\"\n",
    "    # Zooms in so we can actually see the waves\n",
    "    if xlim and len(xlim) == 2:\n",
    "        plt.xlim(xlim[0], xlim[1])\n",
    "    plt.title(f'Frequency {frequency} Hz')\n",
    "    plt.plot(x, y)"
   ]
  },
  {
   "cell_type": "code",
   "execution_count": 37,
   "id": "2cff58ed",
   "metadata": {},
   "outputs": [
    {
     "name": "stdout",
     "output_type": "stream",
     "text": [
      "Number of samples: 4000\n"
     ]
    }
   ],
   "source": [
    "rate = 16000.0\n",
    "duration = 0.25\n",
    "# The x-values to plot in the sin-wave function\n",
    "x = np.linspace(\n",
    "    0., duration, int(rate * duration)\n",
    ")\n",
    "\n",
    "num_samples = len(x)\n",
    "print(f'Number of samples: {num_samples}')"
   ]
  },
  {
   "cell_type": "code",
   "execution_count": null,
   "id": "50ec8ed5",
   "metadata": {},
   "outputs": [],
   "source": [
    "def synth(frequency, xlim=None):\n",
    "    # https://ipython-books.github.io/117-creating-a-sound-synthesizer-in-the-notebook/\n",
    "    y = np.sin(frequency * 2.0 * np.pi * x)\n",
    "    if xlim:\n",
    "        plot_sound(x, y, frequency, xlim=xlim)\n",
    "    # Play the note and display the widget\n",
    "    display(Audio(y, rate=rate, autoplay=True))"
   ]
  },
  {
   "cell_type": "code",
   "execution_count": null,
   "id": "ad40ad28",
   "metadata": {},
   "outputs": [],
   "source": [
    "synth(440, xlim=[0.10, 0.11]) # 440Hz ~ A4 note"
   ]
  },
  {
   "cell_type": "code",
   "execution_count": null,
   "id": "0b648810",
   "metadata": {},
   "outputs": [],
   "source": [
    "# Play a simple tune\n",
    "notes = [\n",
    "    ('A', 880),\n",
    "    ('A', 880),\n",
    "    ('A', 880),\n",
    "    ('F#', 739.99),\n",
    "    ('D', 1174.66)\n",
    "]\n",
    "for (note, frequency) in notes:\n",
    "    synth(frequency)\n",
    "    sleep(0.50) # prevents notes from playing at the same time"
   ]
  },
  {
   "cell_type": "code",
   "execution_count": null,
   "id": "854f3cb5",
   "metadata": {},
   "outputs": [],
   "source": []
  }
 ],
 "metadata": {
  "kernelspec": {
   "display_name": "Python 3",
   "language": "python",
   "name": "python3"
  },
  "language_info": {
   "codemirror_mode": {
    "name": "ipython",
    "version": 3
   },
   "file_extension": ".py",
   "mimetype": "text/x-python",
   "name": "python",
   "nbconvert_exporter": "python",
   "pygments_lexer": "ipython3",
   "version": "3.8.8"
  }
 },
 "nbformat": 4,
 "nbformat_minor": 5
}
