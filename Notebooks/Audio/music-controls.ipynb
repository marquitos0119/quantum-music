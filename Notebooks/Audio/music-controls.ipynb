{
 "cells": [
  {
   "cell_type": "markdown",
   "metadata": {},
   "source": [
    "# Step through and play each column of the quantum circuit"
   ]
  },
  {
   "cell_type": "code",
   "execution_count": 1,
   "metadata": {},
   "outputs": [],
   "source": [
    "from circuit_functions import *\n",
    "from ipywidgets import widgets\n",
    "from qiskit import QuantumCircuit\n",
    "import IPython"
   ]
  },
  {
   "cell_type": "markdown",
   "metadata": {},
   "source": [
    "### Paste QASM code in the cell below"
   ]
  },
  {
   "cell_type": "code",
   "execution_count": 2,
   "metadata": {},
   "outputs": [
    {
     "data": {
      "text/html": [
       "<pre style=\"word-wrap: normal;white-space: pre;background: #fff0;line-height: 1.1;font-family: &quot;Courier New&quot;,Courier,monospace\">     ┌───┐┌───┐┌───┐┌─────┐┌───┐          ┌───┐┌───┐\n",
       "q_0: ┤ H ├┤ S ├┤ T ├┤ TDG ├┤ T ├───────■──┤ T ├┤ T ├\n",
       "     ├───┤├───┤├───┤└─────┘├───┤┌───┐┌─┴─┐├───┤└───┘\n",
       "q_1: ┤ H ├┤ S ├┤ S ├───■───┤ S ├┤ H ├┤ X ├┤ H ├─────\n",
       "     └───┘└───┘└───┘ ┌─┴─┐ └───┘└───┘└───┘└───┘     \n",
       "q_2: ────────────────┤ X ├──────────────────────────\n",
       "                     └───┘                          \n",
       "c: 3/═══════════════════════════════════════════════\n",
       "                                                    </pre>"
      ],
      "text/plain": [
       "     ┌───┐┌───┐┌───┐┌─────┐┌───┐          ┌───┐┌───┐\n",
       "q_0: ┤ H ├┤ S ├┤ T ├┤ TDG ├┤ T ├───────■──┤ T ├┤ T ├\n",
       "     ├───┤├───┤├───┤└─────┘├───┤┌───┐┌─┴─┐├───┤└───┘\n",
       "q_1: ┤ H ├┤ S ├┤ S ├───■───┤ S ├┤ H ├┤ X ├┤ H ├─────\n",
       "     └───┘└───┘└───┘ ┌─┴─┐ └───┘└───┘└───┘└───┘     \n",
       "q_2: ────────────────┤ X ├──────────────────────────\n",
       "                     └───┘                          \n",
       "c: 3/═══════════════════════════════════════════════\n",
       "                                                    "
      ]
     },
     "execution_count": 2,
     "metadata": {},
     "output_type": "execute_result"
    }
   ],
   "source": [
    "qasm = \"\"\"\n",
    "OPENQASM 2.0;\n",
    "include \"qelib1.inc\";\n",
    "\n",
    "qreg q[3];\n",
    "creg c[3];\n",
    "\n",
    "h q[0];\n",
    "h q[1];\n",
    "s q[0];\n",
    "s q[1];\n",
    "t q[0];\n",
    "s q[1];\n",
    "tdg q[0];\n",
    "cx q[1],q[2];\n",
    "t q[0];\n",
    "s q[1];\n",
    "h q[1];\n",
    "cx q[0],q[1];\n",
    "t q[0];\n",
    "h q[1];\n",
    "t q[0];\n",
    "\"\"\"\n",
    "\n",
    "circuit = QuantumCircuit.from_qasm_str(qasm)\n",
    "circuit.draw()"
   ]
  },
  {
   "cell_type": "code",
   "execution_count": 3,
   "metadata": {},
   "outputs": [],
   "source": [
    "class Jukebox:\n",
    "    def __init__(self, circuit: QuantumCircuit):\n",
    "        self.index = 0\n",
    "        self.circuit = circuit\n",
    "        self.sub_circuits = None\n",
    "        self.state_vectors = None\n",
    "        self.buttons = self.get_buttons()\n",
    "            \n",
    "        self.load_circuit(circuit)\n",
    "        \n",
    "        # Display UI controls\n",
    "        self.display()\n",
    "    \n",
    "    def clear_output(self):\n",
    "        \"\"\"Clears all output except the button controls\"\"\"\n",
    "        IPython.display.clear_output(wait=True)\n",
    "        self.display()\n",
    "    \n",
    "    def load_circuit(self, circuit: QuantumCircuit):\n",
    "        \"\"\"Overwrite the current circuit with the new circuit\"\"\"\n",
    "        self.sub_circuits = get_circuits_by_column(circuit)\n",
    "        self.state_vectors = get_cummulative_state_vectors(self.sub_circuits)\n",
    "    \n",
    "    def play(self, button):\n",
    "        self.clear_output()\n",
    "        notes = get_notes(self.state_vectors[self.index])\n",
    "        play_notes(notes)\n",
    "        \n",
    "    def play_all_from(self, button):\n",
    "        self.clear_output()\n",
    "        self.index = 0\n",
    "        all_notes = []\n",
    "        for i in range(self.index, len(self.state_vectors)):\n",
    "            notes = get_notes(self.state_vectors[i])\n",
    "            all_notes.append(notes)\n",
    "        \n",
    "        print(len(all_notes))\n",
    "        play_notes(all_notes, plot=True)\n",
    "        \n",
    "    def restart(self, button):\n",
    "        \"\"\"Moves back to the first column\"\"\"\n",
    "        if self.index == 0:\n",
    "            return\n",
    "        self.clear_output()\n",
    "        self.index = 0\n",
    "        print(f'Column={self.index}')\n",
    "        \n",
    "    def back(self, button):\n",
    "        if self.index == 0:\n",
    "            return\n",
    "        self.clear_output()\n",
    "        self.index -= 1\n",
    "        self.play(button)\n",
    "        print(f'Column={self.index}')\n",
    "\n",
    "    def forward(self, button):\n",
    "        if self.index == len(self.sub_circuits) - 1:\n",
    "            return\n",
    "        self.clear_output()\n",
    "        self.index += 1\n",
    "        self.play(button)\n",
    "        print(f'Column={self.index}')\n",
    "    \n",
    "    def get_buttons(self):\n",
    "        restart_button = widgets.Button(icon='fast-backward', tooltip='Restart to beginning')\n",
    "        restart_button.on_click(self.restart)\n",
    "        \n",
    "        back_button = widgets.Button(icon='backward')\n",
    "        back_button.on_click(self.back)\n",
    "        \n",
    "        play_button = widgets.Button(icon='play')\n",
    "        play_button.on_click(self.play)\n",
    "        \n",
    "        play_all_from_button = widgets.Button(icon='play-circle', tooltip='Automatically play to the end')\n",
    "        play_all_from_button.on_click(self.play_all_from)\n",
    "\n",
    "        forward_button = widgets.Button(icon='forward')\n",
    "        forward_button.on_click(self.forward)\n",
    "        \n",
    "        return [\n",
    "            restart_button,\n",
    "            back_button,\n",
    "            play_button,\n",
    "            play_all_from_button,\n",
    "            forward_button\n",
    "        ]\n",
    "        \n",
    "    def display(self):\n",
    "        \"\"\"Display the audio controls UI\"\"\"\n",
    "        # Display in HBox\n",
    "        display(self.circuit.draw())\n",
    "        display(self.sub_circuits[self.index].draw())\n",
    "        buttons = widgets.HBox(self.buttons)\n",
    "        display(buttons)"
   ]
  },
  {
   "cell_type": "code",
   "execution_count": 4,
   "metadata": {
    "scrolled": false
   },
   "outputs": [
    {
     "data": {
      "text/html": [
       "<pre style=\"word-wrap: normal;white-space: pre;background: #fff0;line-height: 1.1;font-family: &quot;Courier New&quot;,Courier,monospace\">     ┌───┐┌───┐┌───┐┌─────┐┌───┐          ┌───┐┌───┐\n",
       "q_0: ┤ H ├┤ S ├┤ T ├┤ TDG ├┤ T ├───────■──┤ T ├┤ T ├\n",
       "     ├───┤├───┤├───┤└─────┘├───┤┌───┐┌─┴─┐├───┤└───┘\n",
       "q_1: ┤ H ├┤ S ├┤ S ├───■───┤ S ├┤ H ├┤ X ├┤ H ├─────\n",
       "     └───┘└───┘└───┘ ┌─┴─┐ └───┘└───┘└───┘└───┘     \n",
       "q_2: ────────────────┤ X ├──────────────────────────\n",
       "                     └───┘                          \n",
       "c: 3/═══════════════════════════════════════════════\n",
       "                                                    </pre>"
      ],
      "text/plain": [
       "     ┌───┐┌───┐┌───┐┌─────┐┌───┐          ┌───┐┌───┐\n",
       "q_0: ┤ H ├┤ S ├┤ T ├┤ TDG ├┤ T ├───────■──┤ T ├┤ T ├\n",
       "     ├───┤├───┤├───┤└─────┘├───┤┌───┐┌─┴─┐├───┤└───┘\n",
       "q_1: ┤ H ├┤ S ├┤ S ├───■───┤ S ├┤ H ├┤ X ├┤ H ├─────\n",
       "     └───┘└───┘└───┘ ┌─┴─┐ └───┘└───┘└───┘└───┘     \n",
       "q_2: ────────────────┤ X ├──────────────────────────\n",
       "                     └───┘                          \n",
       "c: 3/═══════════════════════════════════════════════\n",
       "                                                    "
      ]
     },
     "metadata": {},
     "output_type": "display_data"
    },
    {
     "data": {
      "text/html": [
       "<pre style=\"word-wrap: normal;white-space: pre;background: #fff0;line-height: 1.1;font-family: &quot;Courier New&quot;,Courier,monospace\">     ┌───┐\n",
       "q_0: ┤ H ├\n",
       "     ├───┤\n",
       "q_1: ┤ H ├\n",
       "     └───┘\n",
       "q_2: ─────\n",
       "          \n",
       "c: 3/═════\n",
       "          </pre>"
      ],
      "text/plain": [
       "     ┌───┐\n",
       "q_0: ┤ H ├\n",
       "     ├───┤\n",
       "q_1: ┤ H ├\n",
       "     └───┘\n",
       "q_2: ─────\n",
       "          \n",
       "c: 3/═════\n",
       "          "
      ]
     },
     "metadata": {},
     "output_type": "display_data"
    },
    {
     "data": {
      "application/vnd.jupyter.widget-view+json": {
       "model_id": "bc91f58350004eb28b7b96f7f18b1e6e",
       "version_major": 2,
       "version_minor": 0
      },
      "text/plain": [
       "HBox(children=(Button(icon='fast-backward', style=ButtonStyle(), tooltip='Restart to beginning'), Button(icon=…"
      ]
     },
     "metadata": {},
     "output_type": "display_data"
    },
    {
     "name": "stdout",
     "output_type": "stream",
     "text": [
      "9\n",
      "[0.         0.2040533  0.39951995 ... 0.94000162 0.98984064 0.99802673]\n"
     ]
    },
    {
     "ename": "IndexError",
     "evalue": "list index out of range",
     "output_type": "error",
     "traceback": [
      "\u001b[0;31m---------------------------------------------------------------------------\u001b[0m",
      "\u001b[0;31mIndexError\u001b[0m                                Traceback (most recent call last)",
      "\u001b[0;32m<ipython-input-3-7b6aa7901644>\u001b[0m in \u001b[0;36mplay_all_from\u001b[0;34m(self, button)\u001b[0m\n\u001b[1;32m     36\u001b[0m \u001b[0;34m\u001b[0m\u001b[0m\n\u001b[1;32m     37\u001b[0m         \u001b[0mprint\u001b[0m\u001b[0;34m(\u001b[0m\u001b[0mlen\u001b[0m\u001b[0;34m(\u001b[0m\u001b[0mall_notes\u001b[0m\u001b[0;34m)\u001b[0m\u001b[0;34m)\u001b[0m\u001b[0;34m\u001b[0m\u001b[0;34m\u001b[0m\u001b[0m\n\u001b[0;32m---> 38\u001b[0;31m         \u001b[0mplay_notes\u001b[0m\u001b[0;34m(\u001b[0m\u001b[0mall_notes\u001b[0m\u001b[0;34m,\u001b[0m \u001b[0mplot\u001b[0m\u001b[0;34m=\u001b[0m\u001b[0;32mTrue\u001b[0m\u001b[0;34m)\u001b[0m\u001b[0;34m\u001b[0m\u001b[0;34m\u001b[0m\u001b[0m\n\u001b[0m\u001b[1;32m     39\u001b[0m \u001b[0;34m\u001b[0m\u001b[0m\n\u001b[1;32m     40\u001b[0m     \u001b[0;32mdef\u001b[0m \u001b[0mrestart\u001b[0m\u001b[0;34m(\u001b[0m\u001b[0mself\u001b[0m\u001b[0;34m,\u001b[0m \u001b[0mbutton\u001b[0m\u001b[0;34m)\u001b[0m\u001b[0;34m:\u001b[0m\u001b[0;34m\u001b[0m\u001b[0;34m\u001b[0m\u001b[0m\n",
      "\u001b[0;32m~/Development/pc/SuperComposers/Notebooks/Audio/circuit_functions.py\u001b[0m in \u001b[0;36mplay_notes\u001b[0;34m(columns, merge, plot, volume)\u001b[0m\n\u001b[1;32m    173\u001b[0m                     \u001b[0my\u001b[0m \u001b[0;34m=\u001b[0m \u001b[0myi\u001b[0m\u001b[0;34m\u001b[0m\u001b[0;34m\u001b[0m\u001b[0m\n\u001b[1;32m    174\u001b[0m                 \u001b[0;32melse\u001b[0m\u001b[0;34m:\u001b[0m\u001b[0;34m\u001b[0m\u001b[0;34m\u001b[0m\u001b[0m\n\u001b[0;32m--> 175\u001b[0;31m                     \u001b[0my\u001b[0m\u001b[0;34m[\u001b[0m\u001b[0mi\u001b[0m\u001b[0;34m]\u001b[0m \u001b[0;34m+=\u001b[0m \u001b[0myi\u001b[0m\u001b[0;34m\u001b[0m\u001b[0;34m\u001b[0m\u001b[0m\n\u001b[0m\u001b[1;32m    176\u001b[0m \u001b[0;34m\u001b[0m\u001b[0m\n\u001b[1;32m    177\u001b[0m         \u001b[0;32mif\u001b[0m \u001b[0mplot\u001b[0m\u001b[0;34m:\u001b[0m\u001b[0;34m\u001b[0m\u001b[0;34m\u001b[0m\u001b[0m\n",
      "\u001b[0;31mIndexError\u001b[0m: list index out of range"
     ]
    }
   ],
   "source": [
    "jukebox = Jukebox(circuit)"
   ]
  },
  {
   "cell_type": "code",
   "execution_count": null,
   "metadata": {},
   "outputs": [],
   "source": []
  }
 ],
 "metadata": {
  "kernelspec": {
   "display_name": "Python 3",
   "language": "python",
   "name": "python3"
  },
  "language_info": {
   "codemirror_mode": {
    "name": "ipython",
    "version": 3
   },
   "file_extension": ".py",
   "mimetype": "text/x-python",
   "name": "python",
   "nbconvert_exporter": "python",
   "pygments_lexer": "ipython3",
   "version": "3.8.5"
  }
 },
 "nbformat": 4,
 "nbformat_minor": 5
}
