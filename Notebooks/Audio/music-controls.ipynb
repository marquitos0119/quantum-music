{
 "cells": [
  {
   "cell_type": "markdown",
   "id": "cf12dbcf",
   "metadata": {},
   "source": [
    "# Step through and play each column of the quantum circuit"
   ]
  },
  {
   "cell_type": "code",
   "execution_count": 5,
   "id": "5a9044bf",
   "metadata": {},
   "outputs": [],
   "source": [
    "from circuit_functions import *\n",
    "from ipywidgets import widgets\n",
    "from qiskit import QuantumCircuit\n",
    "import IPython"
   ]
  },
  {
   "cell_type": "markdown",
   "id": "e12b2f3c-7aa6-47bf-afd1-a31bd655e14f",
   "metadata": {},
   "source": [
    "### Paste QASM code in the cell below"
   ]
  },
  {
   "cell_type": "code",
   "execution_count": 6,
   "id": "c5fdee24",
   "metadata": {},
   "outputs": [
    {
     "data": {
      "text/html": [
       "<pre style=\"word-wrap: normal;white-space: pre;background: #fff0;line-height: 1.1;font-family: &quot;Courier New&quot;,Courier,monospace\">     ┌───┐┌───┐┌───┐┌─────┐┌───┐          ┌───┐┌───┐\n",
       "q_0: ┤ H ├┤ S ├┤ T ├┤ TDG ├┤ T ├───────■──┤ T ├┤ T ├\n",
       "     ├───┤├───┤├───┤└─────┘├───┤┌───┐┌─┴─┐├───┤└───┘\n",
       "q_1: ┤ H ├┤ S ├┤ S ├───■───┤ S ├┤ H ├┤ X ├┤ H ├─────\n",
       "     └───┘└───┘└───┘ ┌─┴─┐ └───┘└───┘└───┘└───┘     \n",
       "q_2: ────────────────┤ X ├──────────────────────────\n",
       "                     └───┘                          \n",
       "c: 3/═══════════════════════════════════════════════\n",
       "                                                    </pre>"
      ],
      "text/plain": [
       "     ┌───┐┌───┐┌───┐┌─────┐┌───┐          ┌───┐┌───┐\n",
       "q_0: ┤ H ├┤ S ├┤ T ├┤ TDG ├┤ T ├───────■──┤ T ├┤ T ├\n",
       "     ├───┤├───┤├───┤└─────┘├───┤┌───┐┌─┴─┐├───┤└───┘\n",
       "q_1: ┤ H ├┤ S ├┤ S ├───■───┤ S ├┤ H ├┤ X ├┤ H ├─────\n",
       "     └───┘└───┘└───┘ ┌─┴─┐ └───┘└───┘└───┘└───┘     \n",
       "q_2: ────────────────┤ X ├──────────────────────────\n",
       "                     └───┘                          \n",
       "c: 3/═══════════════════════════════════════════════\n",
       "                                                    "
      ]
     },
     "execution_count": 6,
     "metadata": {},
     "output_type": "execute_result"
    }
   ],
   "source": [
    "qasm = \"\"\"\n",
    "OPENQASM 2.0;\n",
    "include \"qelib1.inc\";\n",
    "\n",
    "qreg q[3];\n",
    "creg c[3];\n",
    "\n",
    "h q[0];\n",
    "h q[1];\n",
    "s q[0];\n",
    "s q[1];\n",
    "t q[0];\n",
    "s q[1];\n",
    "tdg q[0];\n",
    "cx q[1],q[2];\n",
    "t q[0];\n",
    "s q[1];\n",
    "h q[1];\n",
    "cx q[0],q[1];\n",
    "t q[0];\n",
    "h q[1];\n",
    "t q[0];\n",
    "\"\"\"\n",
    "\n",
    "circuit = QuantumCircuit.from_qasm_str(qasm)\n",
    "circuit.draw()"
   ]
  },
  {
   "cell_type": "code",
   "execution_count": 7,
   "id": "f9e3bdda",
   "metadata": {},
   "outputs": [],
   "source": [
    "class Jukebox:\n",
    "    def __init__(self, circuit: QuantumCircuit):\n",
    "        self.index = 0\n",
    "        self.circuit = circuit\n",
    "        self.sub_circuits = None\n",
    "        self.state_vectors = None\n",
    "        self.buttons = self.get_buttons()\n",
    "            \n",
    "        self.load_circuit(circuit)\n",
    "        \n",
    "        # Display UI controls\n",
    "        self.display()\n",
    "    \n",
    "    def clear_output(self):\n",
    "        \"\"\"Clears all output except the button controls\"\"\"\n",
    "        IPython.display.clear_output(wait=True)\n",
    "        self.display()\n",
    "    \n",
    "    def load_circuit(self, circuit: QuantumCircuit):\n",
    "        \"\"\"Overwrite the current circuit with the new circuit\"\"\"\n",
    "        self.sub_circuits = get_circuits_by_column(circuit)\n",
    "        self.state_vectors = get_cummulative_state_vectors(self.sub_circuits)\n",
    "    \n",
    "    def play(self, button):\n",
    "        self.clear_output()\n",
    "        notes = get_notes(self.state_vectors[self.index])\n",
    "        play_notes(notes)\n",
    "        \n",
    "    def play_all_from(self, button):\n",
    "        for i in range(self.index, len(self.state_vectors)):\n",
    "            self.clear_output()\n",
    "            self.index = i\n",
    "            self.play(button)\n",
    "            sleep(1)\n",
    "        \n",
    "    def restart(self, button):\n",
    "        \"\"\"Moves back to the first column\"\"\"\n",
    "        if self.index == 0:\n",
    "            return\n",
    "        self.clear_output()\n",
    "        self.index = 0\n",
    "        print(f'Column={self.index}')\n",
    "        \n",
    "    def back(self, button):\n",
    "        if self.index == 0:\n",
    "            return\n",
    "        self.clear_output()\n",
    "        self.index -= 1\n",
    "        self.play(button)\n",
    "        print(f'Column={self.index}')\n",
    "\n",
    "    def forward(self, button):\n",
    "        if self.index == len(self.sub_circuits) - 1:\n",
    "            return\n",
    "        self.clear_output()\n",
    "        self.index += 1\n",
    "        self.play(button)\n",
    "        print(f'Column={self.index}')\n",
    "    \n",
    "    def get_buttons(self):\n",
    "        restart_button = widgets.Button(icon='fast-backward', tooltip='Restart to beginning')\n",
    "        restart_button.on_click(self.restart)\n",
    "        \n",
    "        back_button = widgets.Button(icon='backward')\n",
    "        back_button.on_click(self.back)\n",
    "        \n",
    "        play_button = widgets.Button(icon='play')\n",
    "        play_button.on_click(self.play)\n",
    "        \n",
    "        play_all_from_button = widgets.Button(icon='play-circle', tooltip='Automatically play to the end')\n",
    "        play_all_from_button.on_click(self.play_all_from)\n",
    "\n",
    "        forward_button = widgets.Button(icon='forward')\n",
    "        forward_button.on_click(self.forward)\n",
    "        \n",
    "        return [\n",
    "            restart_button,\n",
    "            back_button,\n",
    "            play_button,\n",
    "            play_all_from_button,\n",
    "            forward_button\n",
    "        ]\n",
    "        \n",
    "    def display(self):\n",
    "        \"\"\"Display the audio controls UI\"\"\"\n",
    "        # Display in HBox\n",
    "        display(self.circuit.draw())\n",
    "        display(self.sub_circuits[self.index].draw())\n",
    "        buttons = widgets.HBox(self.buttons)\n",
    "        display(buttons)"
   ]
  },
  {
   "cell_type": "code",
   "execution_count": 8,
   "id": "68ef1b7a",
   "metadata": {},
   "outputs": [
    {
     "data": {
      "text/html": [
       "<pre style=\"word-wrap: normal;white-space: pre;background: #fff0;line-height: 1.1;font-family: &quot;Courier New&quot;,Courier,monospace\">     ┌───┐┌───┐┌───┐┌─────┐┌───┐          ┌───┐┌───┐\n",
       "q_0: ┤ H ├┤ S ├┤ T ├┤ TDG ├┤ T ├───────■──┤ T ├┤ T ├\n",
       "     ├───┤├───┤├───┤└─────┘├───┤┌───┐┌─┴─┐├───┤└───┘\n",
       "q_1: ┤ H ├┤ S ├┤ S ├───■───┤ S ├┤ H ├┤ X ├┤ H ├─────\n",
       "     └───┘└───┘└───┘ ┌─┴─┐ └───┘└───┘└───┘└───┘     \n",
       "q_2: ────────────────┤ X ├──────────────────────────\n",
       "                     └───┘                          \n",
       "c: 3/═══════════════════════════════════════════════\n",
       "                                                    </pre>"
      ],
      "text/plain": [
       "     ┌───┐┌───┐┌───┐┌─────┐┌───┐          ┌───┐┌───┐\n",
       "q_0: ┤ H ├┤ S ├┤ T ├┤ TDG ├┤ T ├───────■──┤ T ├┤ T ├\n",
       "     ├───┤├───┤├───┤└─────┘├───┤┌───┐┌─┴─┐├───┤└───┘\n",
       "q_1: ┤ H ├┤ S ├┤ S ├───■───┤ S ├┤ H ├┤ X ├┤ H ├─────\n",
       "     └───┘└───┘└───┘ ┌─┴─┐ └───┘└───┘└───┘└───┘     \n",
       "q_2: ────────────────┤ X ├──────────────────────────\n",
       "                     └───┘                          \n",
       "c: 3/═══════════════════════════════════════════════\n",
       "                                                    "
      ]
     },
     "metadata": {},
     "output_type": "display_data"
    },
    {
     "data": {
      "text/html": [
       "<pre style=\"word-wrap: normal;white-space: pre;background: #fff0;line-height: 1.1;font-family: &quot;Courier New&quot;,Courier,monospace\">     ┌───┐\n",
       "q_0: ┤ H ├\n",
       "     ├───┤\n",
       "q_1: ┤ H ├\n",
       "     └───┘\n",
       "q_2: ─────\n",
       "          \n",
       "c: 3/═════\n",
       "          </pre>"
      ],
      "text/plain": [
       "     ┌───┐\n",
       "q_0: ┤ H ├\n",
       "     ├───┤\n",
       "q_1: ┤ H ├\n",
       "     └───┘\n",
       "q_2: ─────\n",
       "          \n",
       "c: 3/═════\n",
       "          "
      ]
     },
     "metadata": {},
     "output_type": "display_data"
    },
    {
     "data": {
      "application/vnd.jupyter.widget-view+json": {
       "model_id": "9f7dd554ceaa4227ad615e1d54e7eb83",
       "version_major": 2,
       "version_minor": 0
      },
      "text/plain": [
       "HBox(children=(Button(icon='fast-backward', style=ButtonStyle(), tooltip='Restart to beginning'), Button(icon=…"
      ]
     },
     "metadata": {},
     "output_type": "display_data"
    },
    {
     "data": {
      "text/html": [
       "\n",
       "                <audio  controls=\"controls\" autoplay=\"autoplay\">\n",
       "                    <source src=\"data:audio/wav;base64,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\" type=\"audio/wav\" />\n",
       "                    Your browser does not support the audio element.\n",
       "                </audio>\n",
       "              "
      ],
      "text/plain": [
       "<IPython.lib.display.Audio object>"
      ]
     },
     "metadata": {},
     "output_type": "display_data"
    }
   ],
   "source": [
    "jukebox = Jukebox(circuit)"
   ]
  },
  {
   "cell_type": "code",
   "execution_count": null,
   "id": "6e5e8d36",
   "metadata": {},
   "outputs": [],
   "source": []
  }
 ],
 "metadata": {
  "kernelspec": {
   "display_name": "Python 3",
   "language": "python",
   "name": "python3"
  },
  "language_info": {
   "codemirror_mode": {
    "name": "ipython",
    "version": 3
   },
   "file_extension": ".py",
   "mimetype": "text/x-python",
   "name": "python",
   "nbconvert_exporter": "python",
   "pygments_lexer": "ipython3",
   "version": "3.8.0"
  }
 },
 "nbformat": 4,
 "nbformat_minor": 5
}
