{
 "cells": [
  {
   "cell_type": "markdown",
   "id": "cf12dbcf",
   "metadata": {},
   "source": [
    "# Step through and play each column of the quantum circuit"
   ]
  },
  {
   "cell_type": "code",
   "execution_count": 41,
   "id": "5a9044bf",
   "metadata": {},
   "outputs": [],
   "source": [
    "from quantum_music.circuit_functions import *\n",
    "from qiskit import QuantumCircuit\n",
    "import IPython"
   ]
  },
  {
   "cell_type": "markdown",
   "id": "e12b2f3c-7aa6-47bf-afd1-a31bd655e14f",
   "metadata": {},
   "source": [
    "### Paste QASM code in the cell below"
   ]
  },
  {
   "cell_type": "code",
   "execution_count": 2,
   "id": "c5fdee24",
   "metadata": {},
   "outputs": [
    {
     "data": {
      "text/html": [
       "<pre style=\"word-wrap: normal;white-space: pre;background: #fff0;line-height: 1.1;font-family: &quot;Courier New&quot;,Courier,monospace\">     ┌───┐┌───┐┌───┐┌─────┐┌───┐          ┌───┐┌───┐\n",
       "q_0: ┤ H ├┤ S ├┤ T ├┤ TDG ├┤ T ├───────■──┤ T ├┤ T ├\n",
       "     ├───┤├───┤├───┤└─────┘├───┤┌───┐┌─┴─┐├───┤└───┘\n",
       "q_1: ┤ H ├┤ S ├┤ S ├───■───┤ S ├┤ H ├┤ X ├┤ H ├─────\n",
       "     └───┘└───┘└───┘ ┌─┴─┐ └───┘└───┘└───┘└───┘     \n",
       "q_2: ────────────────┤ X ├──────────────────────────\n",
       "                     └───┘                          \n",
       "c: 3/═══════════════════════════════════════════════\n",
       "                                                    </pre>"
      ],
      "text/plain": [
       "     ┌───┐┌───┐┌───┐┌─────┐┌───┐          ┌───┐┌───┐\n",
       "q_0: ┤ H ├┤ S ├┤ T ├┤ TDG ├┤ T ├───────■──┤ T ├┤ T ├\n",
       "     ├───┤├───┤├───┤└─────┘├───┤┌───┐┌─┴─┐├───┤└───┘\n",
       "q_1: ┤ H ├┤ S ├┤ S ├───■───┤ S ├┤ H ├┤ X ├┤ H ├─────\n",
       "     └───┘└───┘└───┘ ┌─┴─┐ └───┘└───┘└───┘└───┘     \n",
       "q_2: ────────────────┤ X ├──────────────────────────\n",
       "                     └───┘                          \n",
       "c: 3/═══════════════════════════════════════════════\n",
       "                                                    "
      ]
     },
     "execution_count": 2,
     "metadata": {},
     "output_type": "execute_result"
    }
   ],
   "source": [
    "qasm = \"\"\"\n",
    "OPENQASM 2.0;\n",
    "include \"qelib1.inc\";\n",
    "\n",
    "qreg q[3];\n",
    "creg c[3];\n",
    "\n",
    "h q[0];\n",
    "h q[1];\n",
    "s q[0];\n",
    "s q[1];\n",
    "t q[0];\n",
    "s q[1];\n",
    "tdg q[0];\n",
    "cx q[1],q[2];\n",
    "t q[0];\n",
    "s q[1];\n",
    "h q[1];\n",
    "cx q[0],q[1];\n",
    "t q[0];\n",
    "h q[1];\n",
    "t q[0];\n",
    "\"\"\"\n",
    "\n",
    "circuit = QuantumCircuit.from_qasm_str(qasm)\n",
    "circuit.draw()"
   ]
  },
  {
   "cell_type": "code",
   "execution_count": 100,
   "id": "f9e3bdda",
   "metadata": {},
   "outputs": [],
   "source": [
    "class Jukebox:\n",
    "    def __init__(self, circuit: QuantumCircuit):\n",
    "        self.index = 0\n",
    "        self.circuit = circuit\n",
    "        self.sub_circuits = None\n",
    "        self.state_vectors = None\n",
    "        self.buttons = self.get_buttons()\n",
    "            \n",
    "        self.load_circuit(circuit)\n",
    "        \n",
    "        # Display UI controls\n",
    "        self.display()\n",
    "    \n",
    "    def clear_output(self):\n",
    "        \"\"\"Clears all output except the button controls\"\"\"\n",
    "        IPython.display.clear_output(wait=True)\n",
    "        self.display()\n",
    "    \n",
    "    def load_circuit(self, circuit: QuantumCircuit):\n",
    "        \"\"\"Overwrite the current circuit with the new circuit\"\"\"\n",
    "        self.sub_circuits = get_circuits_by_column(circuit)\n",
    "        self.state_vectors = get_cummulative_state_vectors(self.sub_circuits)\n",
    "    \n",
    "    def play(self, button):\n",
    "        self.clear_output()\n",
    "        notes = get_notes(state_vectors[self.index])\n",
    "        play_notes(notes)\n",
    "        \n",
    "    def play_all_from(self, button):\n",
    "        for i in range(self.index, len(self.state_vectors)):\n",
    "            self.clear_output()\n",
    "            self.index = i\n",
    "            self.play(button)\n",
    "            sleep(1)\n",
    "        \n",
    "    def restart(self, button):\n",
    "        \"\"\"Moves back to the first column\"\"\"\n",
    "        if self.index == 0:\n",
    "            return\n",
    "        self.clear_output()\n",
    "        self.index = 0\n",
    "        print(f'Column={self.index}')\n",
    "        \n",
    "    def back(self, button):\n",
    "        if self.index == 0:\n",
    "            return\n",
    "        self.clear_output()\n",
    "        self.index -= 1\n",
    "        self.play(button)\n",
    "        print(f'Column={self.index}')\n",
    "\n",
    "    def forward(self, button):\n",
    "        if self.index == len(self.sub_circuits) - 1:\n",
    "            return\n",
    "        self.clear_output()\n",
    "        self.index += 1\n",
    "        self.play(button)\n",
    "        print(f'Column={self.index}')\n",
    "    \n",
    "    def get_buttons(self):\n",
    "        restart_button = widgets.Button(icon='fast-backward', tooltip='Restart to beginning')\n",
    "        restart_button.on_click(self.restart)\n",
    "        \n",
    "        back_button = widgets.Button(icon='backward')\n",
    "        back_button.on_click(self.back)\n",
    "        \n",
    "        play_button = widgets.Button(icon='play')\n",
    "        play_button.on_click(self.play)\n",
    "        \n",
    "        play_all_from_button = widgets.Button(icon='play-circle', tooltip='Automatically play to the end')\n",
    "        play_all_from_button.on_click(self.play_all_from)\n",
    "\n",
    "        forward_button = widgets.Button(icon='forward')\n",
    "        forward_button.on_click(self.forward)\n",
    "        \n",
    "        return [\n",
    "            restart_button,\n",
    "            back_button,\n",
    "            play_button,\n",
    "            play_all_from_button,\n",
    "            forward_button\n",
    "        ]\n",
    "        \n",
    "    def display(self):\n",
    "        \"\"\"Display the audio controls UI\"\"\"\n",
    "        # Display in HBox\n",
    "        display(self.circuit.draw())\n",
    "        display(self.sub_circuits[self.index].draw())\n",
    "        buttons = widgets.HBox(self.buttons)\n",
    "        display(buttons)"
   ]
  },
  {
   "cell_type": "code",
   "execution_count": 101,
   "id": "68ef1b7a",
   "metadata": {},
   "outputs": [
    {
     "data": {
      "text/html": [
       "<pre style=\"word-wrap: normal;white-space: pre;background: #fff0;line-height: 1.1;font-family: &quot;Courier New&quot;,Courier,monospace\">     ┌───┐┌───┐┌───┐┌─────┐┌───┐          ┌───┐┌───┐\n",
       "q_0: ┤ H ├┤ S ├┤ T ├┤ TDG ├┤ T ├───────■──┤ T ├┤ T ├\n",
       "     ├───┤├───┤├───┤└─────┘├───┤┌───┐┌─┴─┐├───┤└───┘\n",
       "q_1: ┤ H ├┤ S ├┤ S ├───■───┤ S ├┤ H ├┤ X ├┤ H ├─────\n",
       "     └───┘└───┘└───┘ ┌─┴─┐ └───┘└───┘└───┘└───┘     \n",
       "q_2: ────────────────┤ X ├──────────────────────────\n",
       "                     └───┘                          \n",
       "c: 3/═══════════════════════════════════════════════\n",
       "                                                    </pre>"
      ],
      "text/plain": [
       "     ┌───┐┌───┐┌───┐┌─────┐┌───┐          ┌───┐┌───┐\n",
       "q_0: ┤ H ├┤ S ├┤ T ├┤ TDG ├┤ T ├───────■──┤ T ├┤ T ├\n",
       "     ├───┤├───┤├───┤└─────┘├───┤┌───┐┌─┴─┐├───┤└───┘\n",
       "q_1: ┤ H ├┤ S ├┤ S ├───■───┤ S ├┤ H ├┤ X ├┤ H ├─────\n",
       "     └───┘└───┘└───┘ ┌─┴─┐ └───┘└───┘└───┘└───┘     \n",
       "q_2: ────────────────┤ X ├──────────────────────────\n",
       "                     └───┘                          \n",
       "c: 3/═══════════════════════════════════════════════\n",
       "                                                    "
      ]
     },
     "metadata": {},
     "output_type": "display_data"
    },
    {
     "data": {
      "text/html": [
       "<pre style=\"word-wrap: normal;white-space: pre;background: #fff0;line-height: 1.1;font-family: &quot;Courier New&quot;,Courier,monospace\">     ┌───┐\n",
       "q_0: ┤ T ├\n",
       "     └───┘\n",
       "q_1: ─────\n",
       "          \n",
       "q_2: ─────\n",
       "          \n",
       "c: 3/═════\n",
       "          </pre>"
      ],
      "text/plain": [
       "     ┌───┐\n",
       "q_0: ┤ T ├\n",
       "     └───┘\n",
       "q_1: ─────\n",
       "          \n",
       "q_2: ─────\n",
       "          \n",
       "c: 3/═════\n",
       "          "
      ]
     },
     "metadata": {},
     "output_type": "display_data"
    },
    {
     "data": {
      "application/vnd.jupyter.widget-view+json": {
       "model_id": "d55ae56f883f408b940b24ba9324e04d",
       "version_major": 2,
       "version_minor": 0
      },
      "text/plain": [
       "HBox(children=(Button(icon='fast-backward', style=ButtonStyle(), tooltip='Restart to beginning'), Button(icon=…"
      ]
     },
     "metadata": {},
     "output_type": "display_data"
    },
    {
     "name": "stdout",
     "output_type": "stream",
     "text": [
      "Column=0\n"
     ]
    }
   ],
   "source": [
    "jukebox = Jukebox(circuit)"
   ]
  },
  {
   "cell_type": "code",
   "execution_count": null,
   "id": "6e5e8d36",
   "metadata": {},
   "outputs": [],
   "source": []
  }
 ],
 "metadata": {
  "kernelspec": {
   "display_name": "Python 3",
   "language": "python",
   "name": "python3"
  },
  "language_info": {
   "codemirror_mode": {
    "name": "ipython",
    "version": 3
   },
   "file_extension": ".py",
   "mimetype": "text/x-python",
   "name": "python",
   "nbconvert_exporter": "python",
   "pygments_lexer": "ipython3",
   "version": "3.8.0"
  }
 },
 "nbformat": 4,
 "nbformat_minor": 5
}
