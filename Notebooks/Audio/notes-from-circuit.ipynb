{
 "cells": [
  {
   "cell_type": "code",
   "execution_count": null,
   "id": "98169bfd",
   "metadata": {},
   "outputs": [],
   "source": [
    "from circuit_functions import *\n",
    "from qiskit import QuantumCircuit, transpile, Aer, IBMQ, execute\n",
    "import numpy as np\n",
    "from numpy import pi\n",
    "from time import sleep"
   ]
  },
  {
   "cell_type": "markdown",
   "id": "6691a811",
   "metadata": {},
   "source": [
    "## Plays a note from each column of the circuit"
   ]
  },
  {
   "cell_type": "code",
   "execution_count": null,
   "id": "12e9ac01",
   "metadata": {},
   "outputs": [],
   "source": [
    "\"\"\"Insert circuit in this cell\"\"\"\n",
    "\n",
    "qasm = \"\"\"\n",
    "OPENQASM 2.0;\n",
    "include \"qelib1.inc\";\n",
    "\n",
    "qreg q[3];\n",
    "creg c[3];\n",
    "\n",
    "h q[0];\n",
    "h q[1];\n",
    "s q[0];\n",
    "s q[1];\n",
    "t q[0];\n",
    "s q[1];\n",
    "tdg q[0];\n",
    "cx q[1],q[2];\n",
    "t q[0];\n",
    "s q[1];\n",
    "h q[1];\n",
    "cx q[0],q[1];\n",
    "t q[0];\n",
    "h q[1];\n",
    "t q[0];\n",
    "\"\"\"\n",
    "\n",
    "circuit = QuantumCircuit.from_qasm_str(qasm)\n",
    "circuit.draw()\n",
    "print(f'{len(circuit.qubits)} qubits')"
   ]
  },
  {
   "cell_type": "code",
   "execution_count": null,
   "id": "2493b7eb",
   "metadata": {},
   "outputs": [],
   "source": [
    "# Get circuits by column\n",
    "sub_circuits = get_circuits_by_column(circuit)"
   ]
  },
  {
   "cell_type": "code",
   "execution_count": null,
   "id": "7a014c4c",
   "metadata": {},
   "outputs": [],
   "source": [
    "# Use first column as the starting state vector\n",
    "state_vector = get_state_vector(sub_circuits[0])\n",
    "print_vector(state_vector)\n",
    "\n",
    "sub_circuits[0].draw()\n",
    "print_vector(get_phases(state_vector), comment='phases')\n",
    "print_vector(get_probabilities(state_vector), comment='probabilities')"
   ]
  },
  {
   "cell_type": "code",
   "execution_count": null,
   "id": "545e691a",
   "metadata": {},
   "outputs": [],
   "source": [
    "# Iterate through circuit\n",
    "prev_state_vector = get_state_vector(sub_circuits[0])\n",
    "for i in range(1, len(sub_circuits)):\n",
    "    print(f'Column {i}')\n",
    "    sub_circuit = sub_circuits[i]\n",
    "    unitary_matrix = get_unitary_matrix(sub_circuit)\n",
    "    \n",
    "    # Multiply this column's unitary matrix with previous state_vector\n",
    "    state_vector = np.matmul(unitary_matrix, prev_state_vector)\n",
    "    print_vector(state_vector, comment='state')\n",
    "    print_vector(get_phases(state_vector), comment='phases')\n",
    "    print_vector(get_probabilities(state_vector), comment='probabilities')\n",
    "    \n",
    "    notes = get_notes(state_vector)\n",
    "    print('notes', notes)\n",
    "    \n",
    "    play_notes(notes)\n",
    "    sleep(1) # Add some delay\n",
    "        \n",
    "    # Update this state vector to next iteration's prev_state_vector\n",
    "    prev_state_vector = state_vector\n",
    "        \n",
    "    print('\\n')"
   ]
  },
  {
   "cell_type": "code",
   "execution_count": null,
   "id": "de075ec4",
   "metadata": {},
   "outputs": [],
   "source": []
  }
 ],
 "metadata": {
  "kernelspec": {
   "display_name": "Python 3",
   "language": "python",
   "name": "python3"
  },
  "language_info": {
   "codemirror_mode": {
    "name": "ipython",
    "version": 3
   },
   "file_extension": ".py",
   "mimetype": "text/x-python",
   "name": "python",
   "nbconvert_exporter": "python",
   "pygments_lexer": "ipython3",
   "version": "3.8.0"
  }
 },
 "nbformat": 4,
 "nbformat_minor": 5
}
