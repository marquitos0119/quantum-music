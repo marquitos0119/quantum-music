{
 "cells": [
  {
   "cell_type": "code",
   "execution_count": 98,
   "id": "2a6f915f",
   "metadata": {},
   "outputs": [
    {
     "name": "stderr",
     "output_type": "stream",
     "text": [
      "ibmqfactory.load_account:WARNING:2021-05-18 10:31:35,995: Credentials are already in use. The existing account in the session will be replaced.\n"
     ]
    }
   ],
   "source": [
    "import numpy as np\n",
    "from numpy import pi\n",
    "# Importing standard Qiskit libraries\n",
    "from qiskit import QuantumCircuit, transpile, Aer, IBMQ, execute\n",
    "from qiskit.tools.jupyter import *\n",
    "from qiskit.visualization import *\n",
    "from ibm_quantum_widgets import *\n",
    "from qiskit.visualization.utils import _get_layered_instructions\n",
    "\n",
    "# Loading your IBM Q account(s)\n",
    "provider = IBMQ.load_account()\n",
    "\n",
    "# Additional imports for audio\n",
    "from time import sleep\n",
    "import matplotlib.pyplot as plt\n",
    "from IPython.display import Audio, display, clear_output\n",
    "from ipywidgets import widgets\n",
    "from functools import partial\n",
    "%matplotlib inline"
   ]
  },
  {
   "cell_type": "code",
   "execution_count": 83,
   "id": "f5cfdadb",
   "metadata": {},
   "outputs": [
    {
     "data": {
      "text/plain": [
       "'Plays a note from each column of the circuit'"
      ]
     },
     "execution_count": 83,
     "metadata": {},
     "output_type": "execute_result"
    }
   ],
   "source": [
    "\"\"\"Plays a note from each column of the circuit\"\"\""
   ]
  },
  {
   "cell_type": "code",
   "execution_count": 108,
   "id": "1eacf568",
   "metadata": {},
   "outputs": [],
   "source": [
    "\"\"\"Global variables and utility functions\"\"\"\n",
    "\n",
    "# Simulators\n",
    "state_vector_sim = Aer.get_backend('statevector_simulator')\n",
    "unitary_sim = Aer.get_backend('unitary_simulator')\n",
    "\n",
    "# Utility functions\n",
    "def get_state_vector(circuit):\n",
    "    return state_vector_sim.run(circuit).result().get_statevector()\n",
    "\n",
    "def get_unitary_matrix(circuit):\n",
    "    return execute(circuit, unitary_sim).result().get_unitary()\n",
    "\n",
    "def get_amplitudes(matrix):\n",
    "    return abs(matrix)\n",
    "\n",
    "def get_phases(matrix):\n",
    "    return np.angle(matrix)\n",
    "\n",
    "# Pretty-printing\n",
    "def print_matrix(matrix):\n",
    "    print('Matrix shape ', matrix.shape)\n",
    "    for row in matrix:\n",
    "        for num in row:\n",
    "            print(f\"{np.around(num, 2)}   \", end='')\n",
    "        print('')\n",
    "    print('\\n---')\n",
    "    \n",
    "def print_vector(vector, comment=''):\n",
    "    print(f'Vector {comment} with shape {vector.shape}')\n",
    "    for num in vector:\n",
    "        print(np.around(num, 2))\n",
    "    print('---')\n",
    "    \n",
    "def get_circuits_by_column(circuit):\n",
    "    \"\"\"circuit-splitter.ipynb\"\"\"\n",
    "    # Get circuit metadata\n",
    "    num_qubits = circuit.num_qubits\n",
    "    num_clbits = circuit.num_clbits\n",
    "    _, _, ops = _get_layered_instructions(circuit)\n",
    "    num_columns = len(ops)\n",
    "    \n",
    "    # Initialize column information\n",
    "    curr_column = [0] * num_qubits\n",
    "    columns = []\n",
    "    for i in range(num_columns):\n",
    "        columns.append([])\n",
    "        \n",
    "    # Organize instructions by column\n",
    "    for (insn, qargs, cargs) in circuit.data:    \n",
    "        col = -1\n",
    "        anchor_qubit = -1\n",
    "        for qubit in qargs:\n",
    "            index = qubit.index\n",
    "            if curr_column[index] > col:\n",
    "                col = curr_column[index]\n",
    "                anchor_qubit = index\n",
    "        if col == -1 or anchor_qubit == -1:\n",
    "            print('Something went wrong...')\n",
    "            continue\n",
    "\n",
    "        columns[col].append((insn, qargs, cargs))\n",
    "        curr_column[anchor_qubit] += 1\n",
    "        for qubit in qargs:\n",
    "            index = qubit.index\n",
    "            curr_column[index] = curr_column[anchor_qubit]\n",
    "        \n",
    "    # Build the subcircuits by column\n",
    "    sub_circuits = []\n",
    "    for col in range(0, num_columns):\n",
    "        sub_circuit = QuantumCircuit(num_qubits, num_clbits)\n",
    "        for (insn, qargs, cargs) in columns[col]:\n",
    "            sub_circuit.append(insn, qargs, cargs)\n",
    "        sub_circuits.append(sub_circuit)\n",
    "\n",
    "    assert len(sub_circuits) == num_columns\n",
    "    return sub_circuits\n",
    "\n",
    "\"\"\"Audio variables and functions\"\"\"\n",
    "def synth(frequency):\n",
    "    rate = 16000.0\n",
    "    duration = 0.25\n",
    "    x = np.linspace(0.0, duration, int(rate * duration))\n",
    "\n",
    "    y = np.sin(frequency * 2.0 * np.pi * x)\n",
    "    display(Audio(y, rate=rate, autoplay=True))\n",
    "\n",
    "# Start with middle C = C4\n",
    "# Each note increments by a phase of pi/4\n",
    "# https://pages.mtu.edu/~suits/notefreqs.html#:~:text=Frequencies%20of%20Musical%20Notes%2C%20A4%20%3D%20440%20Hz\n",
    "c_scale = {\n",
    "    round(0, 2): ('C4', 261.63),\n",
    "    round(pi/4, 2): ('D4', 293.66),\n",
    "    round(2*pi/4, 2): ('E4', 329.63),\n",
    "    round(3*pi/4, 2): ('F4', 349.23),\n",
    "    round(4*pi/4, 2): ('G4', 392.00),\n",
    "    round(-pi/4, 2): ('A4', 440.00), # after pi, phases are negative\n",
    "    round(-2*pi/4, 2): ('B4', 493.88),\n",
    "    round(-3*pi/4, 2): ('C5', 523.25)\n",
    "}\n",
    "\n",
    "def get_note(phase):\n",
    "    \"\"\"Return music note given a phase\"\"\"\n",
    "    # Round to the nearest multiple of pi/4\n",
    "    base = pi/4\n",
    "    key = round(base * round(phase/base), 2)\n",
    "    if key not in c_scale:\n",
    "        print(f'{key} not in scale!')\n",
    "        return None\n",
    "    \n",
    "    return c_scale[key]"
   ]
  },
  {
   "cell_type": "code",
   "execution_count": 109,
   "id": "899a0f23",
   "metadata": {},
   "outputs": [
    {
     "name": "stdout",
     "output_type": "stream",
     "text": [
      "note ('D4', 293.66)\n"
     ]
    }
   ],
   "source": [
    "# Test get_note()\n",
    "phases_c_scale = [\n",
    "    (0, 'C4'),\n",
    "    (pi/4, 'D4'),\n",
    "    (pi/2, 'E4'),\n",
    "    (-pi/4, 'A4')\n",
    "]\n",
    "for (phase, note) in phases_c_scale:\n",
    "    note = get_note(phase)\n",
    "    print('Correct?: ', note)"
   ]
  },
  {
   "cell_type": "code",
   "execution_count": 102,
   "id": "3e85f4e9",
   "metadata": {},
   "outputs": [
    {
     "data": {
      "image/png": "[encoded data removed]",
      "text/plain": [
       "<Figure size 267.052x204.68 with 1 Axes>"
      ]
     },
     "execution_count": 102,
     "metadata": {},
     "output_type": "execute_result"
    },
    {
     "data": {
      "image/png": "[encoded data removed]",
      "text/plain": [
       "<Figure size 267.052x204.68 with 1 Axes>"
      ]
     },
     "metadata": {},
     "output_type": "display_data"
    }
   ],
   "source": [
    "\"\"\"Insert circuit in this cell\"\"\"\n",
    "\n",
    "qasm = \"\"\"\n",
    "OPENQASM 2.0;\n",
    "include \"qelib1.inc\";\n",
    "\n",
    "qreg q[2];\n",
    "creg c[2];\n",
    "\n",
    "h q[0];\n",
    "h q[1];\n",
    "tdg q[0];\n",
    "s q[1];\n",
    "ry(pi/4) q[0];\n",
    "ry(pi/2) q[1];\n",
    "\"\"\"\n",
    "\n",
    "circuit = QuantumCircuit.from_qasm_str(qasm)\n",
    "circuit.draw()"
   ]
  },
  {
   "cell_type": "code",
   "execution_count": 103,
   "id": "2bf66d1c",
   "metadata": {},
   "outputs": [
    {
     "name": "stderr",
     "output_type": "stream",
     "text": [
      "<ipython-input-101-f58a911e79ef>:54: DeprecationWarning: Back-references to from Bit instances to their containing Registers have been deprecated. Instead, inspect Registers to find their contained Bits.\n",
      "  index = qubit.index\n",
      "<ipython-input-101-f58a911e79ef>:65: DeprecationWarning: Back-references to from Bit instances to their containing Registers have been deprecated. Instead, inspect Registers to find their contained Bits.\n",
      "  index = qubit.index\n"
     ]
    }
   ],
   "source": [
    "# Get circuits by column\n",
    "sub_circuits = get_circuits_by_column(circuit)"
   ]
  },
  {
   "cell_type": "code",
   "execution_count": 104,
   "id": "b23bc2cf",
   "metadata": {},
   "outputs": [
    {
     "name": "stdout",
     "output_type": "stream",
     "text": [
      "Vector  with shape (4,)\n",
      "(0.5+0j)\n",
      "(0.5+0j)\n",
      "(0.5+0j)\n",
      "(0.5+0j)\n",
      "---\n",
      "Vector  with shape (4,)\n",
      "0.5\n",
      "0.5\n",
      "0.5\n",
      "0.5\n",
      "---\n"
     ]
    }
   ],
   "source": [
    "# Use first column as the starting state vector\n",
    "state_vector = get_state_vector(sub_circuits[0])\n",
    "print_vector(state_vector)\n",
    "\n",
    "print_vector(get_amplitudes(state_vector))"
   ]
  },
  {
   "cell_type": "code",
   "execution_count": null,
   "id": "ef8bcfa8",
   "metadata": {},
   "outputs": [],
   "source": []
  },
  {
   "cell_type": "code",
   "execution_count": 72,
   "id": "ad40ad28",
   "metadata": {},
   "outputs": [
    {
     "data": {
      "text/html": [
       "\n",
       "                <audio  controls=\"controls\" autoplay=\"autoplay\">\n",
       "                    <source src=\"data:audio/wav;base64,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\" type=\"audio/wav\" />\n",
       "                    Your browser does not support the audio element.\n",
       "                </audio>\n",
       "              "
      ],
      "text/plain": [
       "<IPython.lib.display.Audio object>"
      ]
     },
     "metadata": {},
     "output_type": "display_data"
    }
   ],
   "source": [
    "synth(440) # 440Hz ~ A4 note"
   ]
  },
  {
   "cell_type": "code",
   "execution_count": 8,
   "id": "0b648810",
   "metadata": {},
   "outputs": [
    {
     "data": {
      "text/html": [
       "\n",
       "                <audio  controls=\"controls\" autoplay=\"autoplay\">\n",
       "                    <source src=\"data:audio/wav;base64,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\" type=\"audio/wav\" />\n",
       "                    Your browser does not support the audio element.\n",
       "                </audio>\n",
       "              "
      ],
      "text/plain": [
       "<IPython.lib.display.Audio object>"
      ]
     },
     "metadata": {},
     "output_type": "display_data"
    },
    {
     "data": {
      "text/html": [
       "\n",
       "                <audio  controls=\"controls\" autoplay=\"autoplay\">\n",
       "                    <source src=\"data:audio/wav;base64,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\" type=\"audio/wav\" />\n",
       "                    Your browser does not support the audio element.\n",
       "                </audio>\n",
       "              "
      ],
      "text/plain": [
       "<IPython.lib.display.Audio object>"
      ]
     },
     "metadata": {},
     "output_type": "display_data"
    },
    {
     "data": {
      "text/html": [
       "\n",
       "                <audio  controls=\"controls\" autoplay=\"autoplay\">\n",
       "                    <source src=\"data:audio/wav;base64,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\" type=\"audio/wav\" />\n",
       "                    Your browser does not support the audio element.\n",
       "                </audio>\n",
       "              "
      ],
      "text/plain": [
       "<IPython.lib.display.Audio object>"
      ]
     },
     "metadata": {},
     "output_type": "display_data"
    },
    {
     "data": {
      "text/html": [
       "\n",
       "                <audio  controls=\"controls\" autoplay=\"autoplay\">\n",
       "                    <source src=\"data:audio/wav;base64,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\" type=\"audio/wav\" />\n",
       "                    Your browser does not support the audio element.\n",
       "                </audio>\n",
       "              "
      ],
      "text/plain": [
       "<IPython.lib.display.Audio object>"
      ]
     },
     "metadata": {},
     "output_type": "display_data"
    },
    {
     "data": {
      "text/html": [
       "\n",
       "                <audio  controls=\"controls\" autoplay=\"autoplay\">\n",
       "                    <source src=\"data:audio/wav;base64,UklGRmQfAABXQVZFZm10IBAAAAABAAEAgD4AAAB9AAACABAAZGF0YUAfAAAAAPw4DWbGfTF72F6pLrn0JL2Kk6CAWYgZqQbceBY4TAdy/X8uc0lOBBmE3gWrS4llgDCS8rol8j0sFl12ejp+mGdLO5cCWsmJm7yCIYRvn+/OsQijQBBrGH+MeMpYdSYX7OG1LY8RgLaLrq9z5PkeB1O2dch/H286R24QNNa3pFGGXoHolmzC0vpLNNZitXx/fD9iczPl+Z3BYpY9gZuGXaUU11kR/keUb9V/WXVSUhQejOP3rlSLGYCdj6O2Ae1XJ3NZ23j7fo1q1j/FBxXO1Z7ng+2CHZwwyoQDHDwiaGF+MXpzXF8rOvErureRVICkibarad/sGQNPlXP6f5txeUuPFSPbbKgGiLiACZTuvaX1hS92X3B7mX19ZSc4FP8xxmWZD4IQhcehM9IyDKVD82x3f1J3OVYXI6DoC7OPjQKAOo1zsuTnYCKsVQx3h39WbUdE8Azl0kmiRoXugfSYh8VV/nw3CWV0faJ79V82MGP2kb5vlM2AxIfhp23a0xTfSkJx9n/mc5lPphoh4Eas7YlHgFeRi7l98Ksq71v4eX5+kGjEPEIE3cqUnBaDuYNZnmbNBwcxPyNq434ZeftZDCi97T+3+Y8ggAeLZK7S4lodwFEMdd5/8W+bSBUSyNfkpdiGI4H2lffAJ/nFMsVhUnzgfE9j+TSQ+xTDVZd7gRaGMqSA1bEPm0bAbrx/AXaXU7IfLeVDsAeMC4DTjke1W+u/JUBYTHguf3hrR0FvCZ/P7Z9ShJWCFJuuyNkBojonZxp+rXqYXfAs4vKSu5KSdYAEiXeqzd1JGLJN23L+f11y0EwzF73cpamdiI6AJpOCvPzz+C1YXv166X1/ZqY5vgCvx2eaXoKchKigpdCJCjlCEGxNf+p3clexJETqYrRQjgaAf4whsULmxCBsVG12qX8ybq9FmA521G2jwoWngfmXDcSq/Po1AGQcfQ58DWHBMQ34AsBZlf+ANIeuptXYLRODSXlw6X+ZdOZQRxy/4YutlYougIKQKLjV7hgpw1pzeb1+hGk6Pu0FY8yjnXaDVYNHnd/LXAW8PTJpqH6heSlboSlk76C4ypA2gFyKHK0z4bobdVBddO5/vnD5SbwTX9kVp2SH7YAKlYW/ffc7Ma9g6ns7fVpkfTY7/YzETZi+gZeFCqPu0wkONUXobZ5/pHbZVE8hz+aTsb6MBIAOju2ztuknJAlXt3dcf11stUIZCyzRCaHDhEOCD5ouxy4AJTkoZs59JHu5Xn8ui/T9vHKTm4BqiDupMtylFl1MHHL9fxpzJE7XGFje4qo6iWmAR5IYu1PyaCw1XYR6M359ZyI7aQIwyW2bsoIthI2fGs/fCMtAKWsef314qFhJJunrvLUXjw+AyovSr6DkJh8qU8h1xX8JbxNHQBAI1pakQ4ZlgQKXlcIA+3U09GLAfHR8ImJJM7f5dcFIljeBqoZ+pT/XhhEkSKtv139GdS9S5x1f49OuQYsagLOPybYu7YMnlFnqePZ+dGquP5cH6823ntuD94I5nFrKsgNFPD1oaH4jelNcMysM8QS6oJFRgLaJ2auV3xkaKE+oc/l/hXFUS2EV99pKqPaHvYAhlBW+0/WwL5VffHuQfWFl/jfm/gjGSpkHgh2F5qFe0mAMzUMLbXt/QXcXVusicujmsnqNAoBOjZiyEuiMIs5VHXeDfz5tIETCDLrSKaI5hfaBD5mwxYT+pTclZX19lnvWXwswNfZqvlaUx4DUhwOomdoAFQRLWHH3f9JzdU95GvXfI6zciUqAbpGyuarw1yoPXAV6d352aJs8FASzynecDIPEg3eekM01B1k/PWrpfgp52lngJ5DtGbfijx6AGYuHrv/ihx3jUR9123/bb3VI6BGd18OlyYYpgRCWH8FV+e8y42FdfNV8MmPPNGL768I7l3SBJYZSpKzV3w/BRthuv3/vdXRThh8A5R+w84sNgOmObLWI6+slYVhbeCl/X2sfQUEJdc/On0aEn4Iwm9fIBwLLOkNnIn6genldxCy08mu7epJxgBaJmar53XYY1k3vcv5/SHKrTAYXkNyDqY2IkoA+k6m8KfQjLndeCXvgfWNmfTmQAIbHS5pVgqiEx6DQ0LcKYUIpbFJ/2ndRV4UkF+o9tDuOBYCTjEWxb+bwII9UfnamfxpuiEVrDkvUTqO0ha6BFJg1xNn8JDYdZCZ9A3zvYJYx3/fav0CV+YBEh8+mAdlaE6lJj3Drf4Z0wlAaHJPhaK2DijCAmZBPuAPvQynkWoJ5tn5qaRI+vwU4zIadbINgg2SdCcyKBeQ9TWmvfpJ5CVt1KTbverizkDOAbopArWDh5xuZUHB07H+ocNNJjhMz2fSmVYfzgCOVrb+r92YxzWD2ezF9PmRTNg39ZMQymLeBpYUqoxnUNw5cRQBuon+SdrZUIyGi5m6xqowEgCOOE7Tj6VMkK1fHd1d/RWyOQusKAdHqoLaES4IrmlfHXABOOURm130Ye5peVC5d9NW8WZOXgHqIXale3NIWgkwxcv5/BnMATqkYK97AqimJbYBfkj+7gPKULFVdkXorfmJn+To7AgbJUJupgjmErJ9Ezw0J8kBCayN/bXiHWB0mvOuWtQGPDoDdi/avzeRTH01T2nXCf/Ju7UYTEN3VdqQ1hmyBHZe9wi77oDQRY8p8anwEYh8ziflNwS6WMIG5hp6la9e0EUpIwW/ZfzR1C1K6HTLjsK4vixyAyY/utlztrie1Wfl48H5aaoY/aQfAzZme0IMBg1achMrgA208V2hvfhV6M1wIK97w3rmIkU2AyIn8q8LfRhpMT7xz+H9wcS9LNBXL2imo5ofCgDqUPb4B9tsvtF+Je4d9RWXUN7j+38Uumf+BKoUGoonSjgz0QyNtf38wd/VVviJF6MGyZY0BgGONvLI/6Lki8FUud39/Jm35Q5QMj9IKoiyF/oErmdnFsv7PN0Flhn2Ke7hf4S8H9kK+PpTCgOSHJKjF2i4VKkttcfh/v3NRT0wayN8ArMqJTYCFkdi52PACKy9cE3pwfltoczzmA4nKWpwCg8+DlZ66zWMHgT9Xau9++3i6WbQnYu30tsyPHYAsi6uuLOO0HQdSMXXZf8RvT0i6EXHXo6W7hi+BKpZIwYP5GTMAYmh8y3wVY6U0NPvDwiCXbYEzhnKk19UNEOhG727Cf911UVNZH9Pk+6/giw6A/o6RtbbrFyaDWGt4JH9Fa/hAEwlKz7CfOoSogkybAck1AvQ6XmcqfpN6WV2ZLIfyRLtikm2AJ4m7qiXeoxj7TQNz/n8zcodM2BZk3GGpfIiWgFaT0LxX9E4ull4We9h9SGZUOWIAXccvmk2CtYTmoPvQ5QqIQkFsVn/Kdy9XWSTp6Re0Jo4EgKeMarGc5h0hslSQdqJ/A25hRT0OH9Quo6aFtoEvmF7EB/1NNjpkMH33e9FgbDGx97K/JpXzgFOH8KYt2YgTzkmlcOx/c3SeUO0bZuFErXCKM4CwkHW4MO9vKQRbkHmwflBp6j2RBQ7MaJ1hg2qDgp0zzLgFDT5nabV+hHnoWkkpCe9UuJyQMYCAimOtjeEUHL1Qg3Trf5JwrklhEwfZ06ZGh/iAPJXVv9n3kDHrYAF8J30hZCk23/w7xBeYr4GyhUmjRdRlDoNFF26lf4F2lFT2IHXmSrGWjAWAOI44tBHqfyRMV9h3Un8sbGZCvQrW0MugqoRUgkeagMeKAHc5YGbffQt7e14pLjD0rrxBk5OAi4h/qYrcABemTEVy/n/ycttNfBj/3Z6qGIlwgHeSZruu8r8sdF2eeiN+RmfQOg0C3cg0m6CCRYTKn2/POwkaQVtrKH9deGZY8SWO63G17I4NgPCLGrD65IAfcFPsdb9/227HRuUPsdVWpCaGc4E3l+bCXPvJNC5j1HxffOZh9DJb+SXBFJYqgceGv6WX1+IRcEjYb9t/IXXoUY0dBeOMrhyLHoDfjxS3ie3aJ9ZZCHnqfkBqXj87B5bNe57FgwuDc5ytyg4EljxyaHZ+B3oTXN0qsPC3uXGRSoDZiR6s799zGnBP0HP3f1txCUsGFZ/aB6jWh8eAU5Rlvi/2BjDSX5V7fn0pZas3iv62xROZ94E3hSWitNK8DBtEO22DfyB30lWSIhjonbJRjQKAd43hsmzo5SISVj93e38ObdJDZgxk0uuhH4UGgkaZAsbg/vg3XWWPfX57mV+2L9n1G74llL2A9IdGqPHaWxVPS4Jx+X+rcyxPHxqb396ruIlQgJyR/7kG8S4rT1wheml+QGhKPLgDX8o9nPiC2oOznuXNkQepP3Bq9X7seJlZiCc07c62to8bgD+Lzq5Z4+EdKlJEddd/rm8pSIwRRdeCpayGNoFElnDBsflDMx5ic3zBfPdiezQG+5rCBpdmgUGGkqQD1joQDkcFb8V/y3UuUywfpuTXr8yLD4AUj7e14+tDJqRYengefyxr0EDlCB/PkZ8vhLGCaZsqyWMCHDt5ZzJ+hno6XW4sWfIeu0uSaoA4id6qUt7QGB9OF3P9fx5yYkyrFjjcP6lsiJuAb5P3vIX0eS61XiN7z30sZio5NAAzxxOaRILBhAWhJtETC7BCWmxbf7l3DVctJLzp8rMRjgSAu4yOscnmSSHUVKF2n3/rbTpFDw700w6jmYW9gUqYh8Q1/Xc2VmQ5fex7s2BBMYP3ir8Nle6AYocRp1nZthP0Sbtw7n9fdHpQwBs54SGtXoo1gMeQm7he75spJVufeal+NmnBPWMF5MtLnVeDdYOfnV3M5wU1PoFpvH51echaHinb7i64hpAugJKKhq254UEc4VCWdOl/fHCISTMT29iypjaH/oBWlf2/B/i7MQlhDHwefQRk/zWx/BLE/JeogcCFaaNw1JIOqUUvbqh/b3ZxVMogSOYmsYKMBoBNjl20PuqrJG5X6HdOfxNsP0KPCqvQrKCehF2CY5qqx7gAoDl7Zud9/npcXv4tAvSHvCmTjoCbiKGpt9wtF8tMWnL+f91yt01PGNPde6oHiXSAj5KNu9zy6iyUXat6G34rZ6c63wGzyBibl4JQhOmfms9pCUJBdGsuf054RVjFJWHrTLXWjgyABIw+sCflrB+TU/51vX/EbqBGtw+G1TakGIZ6gVKXDsOK+/M0S2PefFR8yWHKMi35/cD6lSSB1obgpcPXDxKWSO5v3X8PdcVRYB3Y4miuCYsggPaPOre37QYo91kXeeR+J2o2Pw0Ha81dnrqDFYOQnNfKPAS+PI1ofX75efNbsSqD8JG5WpFHgOuJQawb4KAalE/jc/Z/RXHkStkUctrmp8aHzIBslIy+XfYwMPFfoXt1fQxlgTdc/o3F+JjvgUSFRKLf0uoMQkRTbYd/D3ewVWYi6+d4sjyNAoCMjQazmugRIzRWUHd3f/Zsq0M5DDnSy6EShQ6CYpksxg7/Ijh5ZZh9cnt7X4svq/XzvQyUuYAEiGeoHduIFXRLmHH5f5dzCE/yGW/fu6uniVOAtJEmujTxWStuXC96Yn4maCE8igM2yiCc74Llg9GeD86/B9E/imr7ft14eFldJwftqLagjxmAUovyrobjDh5NUlZ11X+XbwNIXxEa12GlnYY8gV6WmMHf+W4zO2J+fLd82mJRNNj6csLrll+BT4aypC7WaBA0Rxxvx3+5dQtT/x555LOvuYsQgCqP3LUR7G8mxViKeBl/E2uoQLcI9c5znyOEu4KFm1TJkQJFO5RnOX54ehpdQywr8ve6M5JmgEmJAKt+3v4YRE4sc/1/CnI9TH4WDNweqVuIn4CHkx+9s/SkLtReL3vHfRBmATkGAArH95k7gs2EJKFR0UEL10JybGB/qXfsVgAkjunNs/yNA4DPjLKx9uZ2IfdUsnabf9RtFEXhDcnT76KLhcWBZZiwxGP9oTZzZEN94HuVYBcxVfdjv/SU6IByhzKnhdnjExlK0HDvf0x0VlCTGw3h/qxMijiA3ZDBuIzvxilFW615on4caZk9NQW6yy6dTIN/g72dh8wVBl0+m2nCfmd5p1ryKK3uB7hvkCyApYqprebhbhwEUal06H9mcGJJBROv2JGmJ4cEgW+VJMA1+OUxJ2EYfBR952PWNYP86cPil6CBzYWJo5vUwA7QRUZurH9edk5UnSAb5gKxbowGgGOOgrRr6tckkFf4d0l/+2sXQmEKgNCOoJGEZoJ/mtPH5gDJOZdm8H3yej1e0y3U82C8EZOKgKyIw6nj3FoX8Exvcv5/yXKSTSIYpt1ZqvaIeICnkrS7CvMVLbNduXoTfhBnfjqxAYrI+5qNglyEB6DEz5cJaUGNazN/PngjWJklM+smtcGOCoAXjGKwVOXZH7VTEHa6f6xuekaKD1rVFqQKhoGBbJc3w7j7HTVoY+h8SXyrYaAy//jVwOCVHoHlhgCm7tc9ErxIBHDff/x0oVE0HaziRa72iiKADJBgt+XtMigYWiZ53n4Nag4/3wZBzT+er4Mfg62cActqBOc8p2iEfut501uGKlXwarlDkUSA/YlkrEjgzRq4T/dz9X8wcb9KqxRG2sSnt4fRgIWUtL6L9lswD2Cse2x98GRYNy7+ZMXcmOeBUYVkogvTGA1pRGtti3/+do5VOSK951OyKI0CgKCNK7PH6D0jVlZgd3N/3myEQwsMDtKsoQWFFoJ9mVXGPP9LOJVloX1me1xfYC999cy985O0gBSIiahJ27YVmUutcfp/g3PkTsQZQt+Yq5WJV4DLkUy6YfGEK45cPXpafgto+TtcAwzKBJzlgvGD7546zu0H+T+jagB/znhXWTEn2eyCtoqPF4Blixavs+M7HnFSaXXSf4Fv3UcxEe7WQaWPhkKBeJbAwQ36mDNZYoh8rHy9Yic0qvpJwtGWWYFdhtOkWtaWEFtHM2/Kf6d16FLTHkzkj6+mixKAP48Ctj7smybmWJl4FH/6aoBAiQjKzlWfF4TEgqKbfsm/Am47r2dBfmt6+lwYLP3x0LobkmKAWokjq6veKxloTkBz/H/1cRhMUBbf2/yoS4ikgKCTRr3h9M8u8148e7599GXYONn/4cbbmTOC2oRDoXzRbwv+QotsZH+Zd8pW1CNh6aiz540DgOOM17Ej56IhGVXEdpd/vG3tRLQNndPPon6FzIGAmNnEkf3KNo9kTH3Ue3dg7DAn9zu/25TjgIGHU6ex2REUP0rmcPF/OXQyUGYb4ODbrDqKO4D0kOi4ue/yKWVbu3mcfgFpcT0HBZDLEJ1Cg4qD2p2xzEMGhT61acl+WHmHWsYogO7ht1iQKYC3is2tE+KbHChRvHTmf1BwPEnYEoPYcKYYhwqBiZVMwGP4EDJFYSN8Cn3KY6w1VfzBw8eXmYHbhamjx9TuDvdFXW6vf0x2LFRxIO3l3bBajAeAeI6ntJnqAyWxVwh4RH/ia/BBMwpW0G+ghYRvgpua/ccUAfM5s2b4feV6Hl6oLabzObz5koaAvYjlqQ/diBcVTYNy/n+1cm1N9Bd63Teq5Yh8gL+S27s480At013Gegt+9GZVOoMBYMjfmoSCaIQloO/PxQmRQaZrOH8ueAJYbSUG6wG1q44JgCuMhrCB5QUg2FMidrd/lW5TRlwPL9X2o/yFiIGHl1/D5vtHNYVj8nw+fI1hdjLR+K3AxpUYgfSGIaYa2GoS4kgbcOF/6XR+UQcdf+IiruSKJIAikIa3Eu5dKDhaNXnYfvNp5j6xBhfNIZ6kgymDypwry5gEED3CaIt+3XmzW1oqJ/BEuSyRQYAPioesdeD6GtxPCnT0fxpxmUp+FBrao6enh9aAnpTbvrn2hjAuYLh7Y33UZC43//07xcGY34FehYOiNtNFDZBEg22Pf+12bFUNIpDnL7IUjQKAtY1Qs/ToaiN4VnF3b3/FbFxD3Qvj0Y2h+IQfgpmZfsZq/3U4sWWpfVl7PV82L0/1pL3bk6+AJIirqHXb4xW+S8Jx+39wc8BOlxkW33arhIlagOORc7qP8bArrlxKelN+8GfQOy4D4snnm9uC/IMNn2TOGwghQL1qBn++eDZZBSes7Fy2dI8WgHiLOa/g42celFJ7ddB/am+2RwMRwtYgpYCGSYGSlujBO/rCM3Zik3yifKBi/TN8+iHCt5ZSgWyG86SF1sMQgUdKb81/lXXFUqYeH+Rsr5OLE4BVjyi2bOzHJgdZqXgOf+BqWUBbCKDON58MhM6Cv5unye0ClzvKZ0h+XXrbXOwrz/GpugSSX4BriUWr195YGY1OVHP8f+Bx8ksjFrPb2qg7iKiAuJNtvQ/1+S4SX0h7tn3ZZa44q/+4xsCZKoLnhGKhp9GcCyVDo2xof4h3qFaoIzTpg7PSjQKA94z7sVHnzyE7VdV2lH+kbcZEhg1y06+icYXUgZuYAsW//fQ2rGRWfcl7WGDBMPn2E7/BlN6AkYd0p93ZPhRlSvxw8n8mdA9QORuz4LisKIo9gAuRDrnn7x0qhlvKeZV+52hIPdgEZsvznDiDlYP4ndzMcQauPs9pz35JeWZamyhS7ru3QpAngMqK8K1A4sgcTFHPdOR/OnAXSaoSWNhPpgmHD4GilXTAkfg6MmNhLnwAfa5jgjUm/JjDrJeSgemFyaPy1BwPHUZ1brJ/O3YJVEQgwOW5sEeMCICNjsy0xuovJdNXGHg/f8lryEEFCivQUKB5hHiCt5omyEIBHDrOZgB+2Hr+XX0tePMSvOCSgoDNiAeqPN21FzpNmHL+f6BySU3HF03dFarUiICA15ICvGbzay3yXdN6A37ZZiw6VQE3yMOae4J0hESgGtDzCbhBv2s9fx544FdBJdjq27SWjgiAP4yrsK7lMiD7UzR2s39+bi1GLg8E1daj74WPgaGXiMMU/HE1omP8fDN8b2FLMqP4hMCtlRKBA4dCpkbYmBIHSTFw43/WdFpR2hxS4v6t0YomgDmQrLdA7okoWVpEedF+2Wm+PoMG7cwEnpmDM4PnnFXLxgQ4Pdxokn7PeZJbLyr67x25FZE/gCGKqqyh4CcbAFAedPJ/BXF0SlAU7tmCp5eH3IC3lAO/5/awMExgxHtZfbdkBTfR/RLFppjXgWuFo6Jh03MNtkSbbZJ/3HZJVeEhY+cKsgCNAoDKjXWzIumWI5pWgXdqf61sNUOvC7jRbqHshCeCtJmnxpj/njjNZbJ9TXseXwsvIfV9vcKTqoA0iMyoodsRFuRL13H8f1xzm05qGeneU6tyiV2A+pGaur3x2yvOXFh6S37VZ6c7AAO4ycqb0oIHhCufj85JCElA1moMf694FVnZJn7sN7ZejxSAi4tdrw3klB63Uo11zn9Tb5BH1hCX1gClcoZPgayWEcJp+uwzlGKefJd8gmLTM076+cGdlkyBeoYTpbHW8RCnR2Fvz3+CdaJSeR7y40ivf4sVgGuPTbaZ7PMmKVm4eAh/x2oxQC0Idc4ZnwCE14Lbm9HJGwPAO+VnUH5QertcwSui8YK67JFbgH2JaKsE34UZsU5oc/t/y3HNS/YVh9u4qCuIrYDRk5W9PfUkLzFfVHutfb1lhTh8/47GpJkigvOEgaHS0coLTUO8bG1/eHeGVnwjBules72NAoAMjSCyfuf7IV5V5naQf4xtn0RYDUfTkKJjhdyBtpgqxe39HjfIZF99vXs6YJcwy/brvqiU2IChh5anCdpsFIpKEXHzfxJ0608MG4bglawWikCAIpE0uRXwSSqmW9h5jn7MaCA9qgQ8y9acLYOggxaeBs2fBtY+6WnVfjt5RVpvKCXulbcrkCWA3IoTrm3i9RxvUeJ04n8jcPFIfRIs2C6m+oYVgbyVnMC/+GUygWE5fPZ8kWNYNfj7cMORl4uB94Xpox7VSQ9ERoxutX8pduZTFyCT5ZWwM4wJgKOO8rT06lwl9FcoeDp/sGuhQdcJANAyoG2EgYLUmk/IcAFFOulmCH7Let9dUS1K8+u7yJJ+gN6IKapo3eIXX02scv5/jHIkTZoXId3yqcOIhIDvkim8k/OWLRFe4Hr7fb5mAzomAQ3Ip5pygoCEY6BE0CEK4EHYa0J/Dni/VxUlq+q2tICOB4BSjM+w2+VfIB5URXawf2duBkYAD9jUtqPhhZaBvJeww0L8mzW/YwZ9KHxRYSEydfhcwJOVDIESh2OmctjGEi1JR3Dlf8R0NlGtHCXi262/iimAT5DSt23utSh6WlJ5y36/aZY+VQbCzOadjoM+gwWdf8v0BGA992iZfsF5clsDKszv97j+kDyAM4rNrM7gVBskUDF08X/vcE5KIxTC2WCniIfhgNCUK78V99swamDQe1B9m2TbNqP96cSLmM+BeYXCoozToQ3dRLJtln/LdidVtCE25+ax64wDgN+NmbNP6cIjvFaSd2Z/lWwOQ4ELjdFPod+EL4LQmdDGxv/HOOllu31Be/9e4C7z9Fa9qZOmgEWI7qjO2z4WCUzscfx/SHN3Tj0Zvd4wq2GJYYASksC66/EGLO5cZXpEfrpnfjvRAo/JrpvIghOESZ+5zncIcEDwahF/oHj0WK0mUewRtkiPEoCei4GvOuTBHtpSn3XLfzxvakeoEGvW4KRjhlaBx5Y5wpf6FjSxYqh8jXxlYqkzIPrQwYOWRYGJhjSl3NYfEc1Hd2/Rf3B1f1JNHsXjJK9sixeAgY9ztsfsHydKWch4A3+uaglA/wdLzvue9YPhgvib+8lJA+g7AGhXfkJ6m1yWK3TxXLrVkQ==\" type=\"audio/wav\" />\n",
       "                    Your browser does not support the audio element.\n",
       "                </audio>\n",
       "              "
      ],
      "text/plain": [
       "<IPython.lib.display.Audio object>"
      ]
     },
     "metadata": {},
     "output_type": "display_data"
    }
   ],
   "source": [
    "# # Commented out because sometimes the notes play at the same time and it sounds horrible.\n",
    "# # Play a simple tune\n",
    "# notes = [\n",
    "#     ('A', 880),\n",
    "#     ('A', 880),\n",
    "#     ('A', 880),\n",
    "#     ('F#', 739.99),\n",
    "#     ('D', 1174.66)\n",
    "# ]\n",
    "# for (note, frequency) in notes:\n",
    "#     synth(frequency)\n",
    "#     # sleep(0.50) # prevents notes from playing at the same time"
   ]
  },
  {
   "cell_type": "code",
   "execution_count": null,
   "id": "854f3cb5",
   "metadata": {},
   "outputs": [],
   "source": []
  }
 ],
 "metadata": {
  "kernelspec": {
   "display_name": "Python 3",
   "language": "python",
   "name": "python3"
  },
  "language_info": {
   "codemirror_mode": {
    "name": "ipython",
    "version": 3
   },
   "file_extension": ".py",
   "mimetype": "text/x-python",
   "name": "python",
   "nbconvert_exporter": "python",
   "pygments_lexer": "ipython3",
   "version": "3.8.8"
  }
 },
 "nbformat": 4,
 "nbformat_minor": 5
}
