{
 "cells": [
  {
   "cell_type": "code",
   "execution_count": 159,
   "id": "2a6f915f",
   "metadata": {},
   "outputs": [
    {
     "name": "stderr",
     "output_type": "stream",
     "text": [
      "ibmqfactory.load_account:WARNING:2021-05-18 11:35:35,695: Credentials are already in use. The existing account in the session will be replaced.\n"
     ]
    }
   ],
   "source": [
    "import numpy as np\n",
    "from numpy import pi\n",
    "from \n",
    "# Importing standard Qiskit libraries\n",
    "from qiskit import QuantumCircuit, transpile, Aer, IBMQ, execute\n",
    "from qiskit.tools.jupyter import *\n",
    "from qiskit.visualization import *\n",
    "from ibm_quantum_widgets import *\n",
    "from qiskit.visualization.utils import _get_layered_instructions\n",
    "\n",
    "# Loading your IBM Q account(s)\n",
    "provider = IBMQ.load_account()\n",
    "\n",
    "# Additional imports for audio\n",
    "from time import sleep\n",
    "import matplotlib.pyplot as plt\n",
    "from IPython.display import Audio, display, clear_output\n",
    "from ipywidgets import widgets\n",
    "from functools import partial\n",
    "%matplotlib inline"
   ]
  },
  {
   "cell_type": "code",
   "execution_count": 83,
   "id": "f5cfdadb",
   "metadata": {},
   "outputs": [
    {
     "data": {
      "text/plain": [
       "'Plays a note from each column of the circuit'"
      ]
     },
     "execution_count": 83,
     "metadata": {},
     "output_type": "execute_result"
    }
   ],
   "source": [
    "\"\"\"Plays a note from each column of the circuit\"\"\""
   ]
  },
  {
   "cell_type": "code",
   "execution_count": 155,
   "id": "1eacf568",
   "metadata": {},
   "outputs": [],
   "source": [
    "\"\"\"Global variables and utility functions\"\"\"\n",
    "\n",
    "# Simulators\n",
    "state_vector_sim = Aer.get_backend('statevector_simulator')\n",
    "unitary_sim = Aer.get_backend('unitary_simulator')\n",
    "\n",
    "# Utility functions\n",
    "def get_state_vector(circuit):\n",
    "    return state_vector_sim.run(circuit).result().get_statevector()\n",
    "\n",
    "def get_unitary_matrix(circuit):\n",
    "    return execute(circuit, unitary_sim).result().get_unitary()\n",
    "\n",
    "def get_amplitudes(matrix):\n",
    "    return abs(matrix)\n",
    "\n",
    "def get_probabilities(matrix):\n",
    "    return abs(matrix**2)\n",
    "\n",
    "def get_phases(matrix):\n",
    "    return np.angle(matrix)\n",
    "\n",
    "# Pretty-printing\n",
    "def print_matrix(matrix):\n",
    "    print('Matrix shape ', matrix.shape)\n",
    "    for row in matrix:\n",
    "        for num in row:\n",
    "            print(f\"{np.around(num, 2)}   \", end='')\n",
    "        print('')\n",
    "    print('\\n---')\n",
    "    \n",
    "def print_vector(vector, comment=''):\n",
    "    print(f'Vector {comment} with shape {vector.shape}')\n",
    "    for num in vector:\n",
    "        print(np.around(num, 2))\n",
    "    print('---')\n",
    "    \n",
    "def get_circuits_by_column(circuit):\n",
    "    \"\"\"circuit-splitter.ipynb\"\"\"\n",
    "    # Get circuit metadata\n",
    "    num_qubits = circuit.num_qubits\n",
    "    num_clbits = circuit.num_clbits\n",
    "    _, _, ops = _get_layered_instructions(circuit)\n",
    "    num_columns = len(ops)\n",
    "    \n",
    "    # Initialize column information\n",
    "    curr_column = [0] * num_qubits\n",
    "    columns = []\n",
    "    for i in range(num_columns):\n",
    "        columns.append([])\n",
    "        \n",
    "    # Organize instructions by column\n",
    "    for (insn, qargs, cargs) in circuit.data:    \n",
    "        col = -1\n",
    "        anchor_qubit = -1\n",
    "        for qubit in qargs:\n",
    "            index = qubit.index\n",
    "            if curr_column[index] > col:\n",
    "                col = curr_column[index]\n",
    "                anchor_qubit = index\n",
    "        if col == -1 or anchor_qubit == -1:\n",
    "            print('Something went wrong...')\n",
    "            continue\n",
    "\n",
    "        columns[col].append((insn, qargs, cargs))\n",
    "        curr_column[anchor_qubit] += 1\n",
    "        for qubit in qargs:\n",
    "            index = qubit.index\n",
    "            curr_column[index] = curr_column[anchor_qubit]\n",
    "        \n",
    "    # Build the subcircuits by column\n",
    "    sub_circuits = []\n",
    "    for col in range(0, num_columns):\n",
    "        sub_circuit = QuantumCircuit(num_qubits, num_clbits)\n",
    "        for (insn, qargs, cargs) in columns[col]:\n",
    "            sub_circuit.append(insn, qargs, cargs)\n",
    "        sub_circuits.append(sub_circuit)\n",
    "\n",
    "    assert len(sub_circuits) == num_columns\n",
    "    return sub_circuits\n",
    "\n",
    "\"\"\"Audio variables and functions\"\"\"\n",
    "def synth(frequency):\n",
    "    rate = 16000.0\n",
    "    duration = 0.25\n",
    "    x = np.linspace(0.0, duration, int(rate * duration))\n",
    "\n",
    "    y = np.sin(frequency * 2.0 * np.pi * x)\n",
    "    display(Audio(y, rate=rate, autoplay=True))\n",
    "\n",
    "# Start with middle C = C4\n",
    "# Each note increments by a phase of pi/4\n",
    "# https://pages.mtu.edu/~suits/notefreqs.html#:~:text=Frequencies%20of%20Musical%20Notes%2C%20A4%20%3D%20440%20Hz\n",
    "c_scale = {\n",
    "    round(0, 2): ('C4', 261.63),\n",
    "    round(pi/4, 2): ('D4', 293.66),\n",
    "    round(2*pi/4, 2): ('E4', 329.63),\n",
    "    round(3*pi/4, 2): ('F4', 349.23),\n",
    "    round(4*pi/4, 2): ('G4', 392.00),\n",
    "    round(-pi/4, 2): ('A4', 440.00), # after pi, phases are negative\n",
    "    round(-2*pi/4, 2): ('B4', 493.88),\n",
    "    round(-3*pi/4, 2): ('C5', 523.25)\n",
    "}\n",
    "\n",
    "def get_note(phase):\n",
    "    \"\"\"Return music note given a phase\"\"\"\n",
    "    # Round to the nearest multiple of pi/4\n",
    "    base = pi/4\n",
    "    key = round(base * round(phase/base), 2)\n",
    "    if key not in c_scale:\n",
    "        print(f'{key} not in scale!')\n",
    "        return None\n",
    "    \n",
    "    return c_scale[key]\n",
    "\n",
    "def get_notes(state_vector):\n",
    "    notes = []\n",
    "    phases = get_phases(state_vector)\n",
    "    for phase in phases:\n",
    "        notes.append(get_note(phase))\n",
    "    \n",
    "    return notes\n",
    "\n",
    "def play_notes(notes):\n",
    "    \"\"\"Notes is a list of tuples of form (note_name, frequency)\"\"\"\n",
    "    for (note, frequency) in notes:\n",
    "        synth(frequency)\n",
    "        "
   ]
  },
  {
   "cell_type": "code",
   "execution_count": 113,
   "id": "c63ec6cc",
   "metadata": {},
   "outputs": [
    {
     "name": "stdout",
     "output_type": "stream",
     "text": [
      "Got C4, expected C4\n",
      "Correct?  True\n",
      "Got D4, expected D4\n",
      "Correct?  True\n",
      "Got E4, expected E4\n",
      "Correct?  True\n",
      "Got A4, expected A4\n",
      "Correct?  True\n",
      "Got B4, expected B4\n",
      "Correct?  True\n"
     ]
    }
   ],
   "source": [
    "# Test get_note()\n",
    "phases_c_scale = [\n",
    "    (0, 'C4'),\n",
    "    (pi/4, 'D4'),\n",
    "    (pi/2, 'E4'),\n",
    "    (-pi/4, 'A4'),\n",
    "    (-pi/2, 'B4')\n",
    "]\n",
    "for (phase, note_name) in phases_c_scale:\n",
    "    note = get_note(phase)\n",
    "    print(f'Got {note[0]}, expected {note_name}')\n",
    "    print('Correct? ', note[0] == note_name)"
   ]
  },
  {
   "cell_type": "code",
   "execution_count": 114,
   "id": "3e85f4e9",
   "metadata": {},
   "outputs": [
    {
     "data": {
      "image/png": "[encoded data removed]",
      "text/plain": [
       "<Figure size 267.052x204.68 with 1 Axes>"
      ]
     },
     "execution_count": 114,
     "metadata": {},
     "output_type": "execute_result"
    },
    {
     "data": {
      "image/png": "[encoded data removed]",
      "text/plain": [
       "<Figure size 267.052x204.68 with 1 Axes>"
      ]
     },
     "metadata": {},
     "output_type": "display_data"
    }
   ],
   "source": [
    "\"\"\"Insert circuit in this cell\"\"\"\n",
    "\n",
    "qasm = \"\"\"\n",
    "OPENQASM 2.0;\n",
    "include \"qelib1.inc\";\n",
    "\n",
    "qreg q[2];\n",
    "creg c[2];\n",
    "\n",
    "h q[0];\n",
    "h q[1];\n",
    "tdg q[0];\n",
    "s q[1];\n",
    "ry(pi/4) q[0];\n",
    "ry(pi/2) q[1];\n",
    "\"\"\"\n",
    "\n",
    "circuit = QuantumCircuit.from_qasm_str(qasm)\n",
    "circuit.draw()"
   ]
  },
  {
   "cell_type": "code",
   "execution_count": 121,
   "id": "2bf66d1c",
   "metadata": {},
   "outputs": [
    {
     "name": "stderr",
     "output_type": "stream",
     "text": [
      "<ipython-input-120-a9a4f5f941bf>:57: DeprecationWarning: Back-references to from Bit instances to their containing Registers have been deprecated. Instead, inspect Registers to find their contained Bits.\n",
      "  index = qubit.index\n",
      "<ipython-input-120-a9a4f5f941bf>:68: DeprecationWarning: Back-references to from Bit instances to their containing Registers have been deprecated. Instead, inspect Registers to find their contained Bits.\n",
      "  index = qubit.index\n"
     ]
    }
   ],
   "source": [
    "# Get circuits by column\n",
    "sub_circuits = get_circuits_by_column(circuit)"
   ]
  },
  {
   "cell_type": "code",
   "execution_count": 130,
   "id": "b23bc2cf",
   "metadata": {},
   "outputs": [
    {
     "name": "stdout",
     "output_type": "stream",
     "text": [
      "Vector  with shape (4,)\n",
      "(0.5+0j)\n",
      "(0.5+0j)\n",
      "(0.5+0j)\n",
      "(0.5+0j)\n",
      "---\n",
      "Vector phases with shape (4,)\n",
      "0.0\n",
      "0.0\n",
      "0.0\n",
      "0.0\n",
      "---\n",
      "Vector probabilities with shape (4,)\n",
      "0.25\n",
      "0.25\n",
      "0.25\n",
      "0.25\n",
      "---\n"
     ]
    }
   ],
   "source": [
    "# Use first column as the starting state vector\n",
    "state_vector = get_state_vector(sub_circuits[0])\n",
    "print_vector(state_vector)\n",
    "\n",
    "print_vector(get_phases(state_vector), comment='phases')\n",
    "print_vector(get_probabilities(state_vector), comment='probabilities')"
   ]
  },
  {
   "cell_type": "code",
   "execution_count": 163,
   "id": "01f4c3b9",
   "metadata": {},
   "outputs": [
    {
     "name": "stdout",
     "output_type": "stream",
     "text": [
      "Column 1\n",
      "Vector state with shape (4,)\n",
      "(0.5+0j)\n",
      "(0.35-0.35j)\n",
      "0.5j\n",
      "(0.35+0.35j)\n",
      "---\n",
      "Vector phases with shape (4,)\n",
      "0.0\n",
      "-0.79\n",
      "1.57\n",
      "0.79\n",
      "---\n",
      "Vector probabilities with shape (4,)\n",
      "0.25\n",
      "0.25\n",
      "0.25\n",
      "0.25\n",
      "---\n",
      "notes [('C4', 261.63), ('A4', 440.0), ('E4', 329.63), ('D4', 293.66)]\n",
      "\n",
      "\n",
      "Column 2\n",
      "Vector state with shape (4,)\n",
      "(0.33-0.14j)\n",
      "(0.14-0.6j)\n",
      "(0.14+0.33j)\n",
      "(0.6+0.14j)\n",
      "---\n",
      "Vector phases with shape (4,)\n",
      "-0.39\n",
      "-1.35\n",
      "1.18\n",
      "0.22\n",
      "---\n",
      "Vector probabilities with shape (4,)\n",
      "0.13\n",
      "0.37\n",
      "0.12\n",
      "0.38\n",
      "---\n",
      "notes [('C4', 261.63), ('B4', 493.88), ('E4', 329.63), ('C4', 261.63)]\n"
     ]
    },
    {
     "data": {
      "text/html": [
       "\n",
       "                <audio  controls=\"controls\" autoplay=\"autoplay\">\n",
       "                    <source src=\"data:audio/wav;base64,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\" type=\"audio/wav\" />\n",
       "                    Your browser does not support the audio element.\n",
       "                </audio>\n",
       "              "
      ],
      "text/plain": [
       "<IPython.lib.display.Audio object>"
      ]
     },
     "metadata": {},
     "output_type": "display_data"
    },
    {
     "data": {
      "text/html": [
       "\n",
       "                <audio  controls=\"controls\" autoplay=\"autoplay\">\n",
       "                    <source src=\"data:audio/wav;base64,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\" type=\"audio/wav\" />\n",
       "                    Your browser does not support the audio element.\n",
       "                </audio>\n",
       "              "
      ],
      "text/plain": [
       "<IPython.lib.display.Audio object>"
      ]
     },
     "metadata": {},
     "output_type": "display_data"
    },
    {
     "data": {
      "text/html": [
       "\n",
       "                <audio  controls=\"controls\" autoplay=\"autoplay\">\n",
       "                    <source src=\"data:audio/wav;base64,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\" type=\"audio/wav\" />\n",
       "                    Your browser does not support the audio element.\n",
       "                </audio>\n",
       "              "
      ],
      "text/plain": [
       "<IPython.lib.display.Audio object>"
      ]
     },
     "metadata": {},
     "output_type": "display_data"
    },
    {
     "data": {
      "text/html": [
       "\n",
       "                <audio  controls=\"controls\" autoplay=\"autoplay\">\n",
       "                    <source src=\"data:audio/wav;base64,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\" type=\"audio/wav\" />\n",
       "                    Your browser does not support the audio element.\n",
       "                </audio>\n",
       "              "
      ],
      "text/plain": [
       "<IPython.lib.display.Audio object>"
      ]
     },
     "metadata": {},
     "output_type": "display_data"
    },
    {
     "name": "stdout",
     "output_type": "stream",
     "text": [
      "\n",
      "\n"
     ]
    }
   ],
   "source": [
    "# Iterate through circuit\n",
    "prev_state_vector = get_state_vector(sub_circuits[0])\n",
    "for i in range(1, len(sub_circuits)):\n",
    "    print(f'Column {i}')\n",
    "    sub_circuit = sub_circuits[i]\n",
    "    unitary_matrix = get_unitary_matrix(sub_circuit)\n",
    "    \n",
    "    # Multiply this column's unitary matrix with previous state_vector\n",
    "    state_vector = np.matmul(unitary_matrix, prev_state_vector)\n",
    "    print_vector(state_vector, comment='state')\n",
    "    print_vector(get_phases(state_vector), comment='phases')\n",
    "    print_vector(get_probabilities(state_vector), comment='probabilities')\n",
    "    \n",
    "    notes = get_notes(state_vector)\n",
    "    print('notes', notes)\n",
    "    \n",
    "    # Sounds horrible!\n",
    "    play_notes(notes)\n",
    "        \n",
    "    # Update this state vector to next iteration's prev_state_vector\n",
    "    prev_state_vector = state_vector\n",
    "        \n",
    "    print('\\n')"
   ]
  },
  {
   "cell_type": "code",
   "execution_count": null,
   "id": "69888c85",
   "metadata": {},
   "outputs": [],
   "source": []
  }
 ],
 "metadata": {
  "kernelspec": {
   "display_name": "Python 3",
   "language": "python",
   "name": "python3"
  },
  "language_info": {
   "codemirror_mode": {
    "name": "ipython",
    "version": 3
   },
   "file_extension": ".py",
   "mimetype": "text/x-python",
   "name": "python",
   "nbconvert_exporter": "python",
   "pygments_lexer": "ipython3",
   "version": "3.8.8"
  }
 },
 "nbformat": 4,
 "nbformat_minor": 5
}
