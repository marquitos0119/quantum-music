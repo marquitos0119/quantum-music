{
 "cells": [
  {
   "cell_type": "code",
   "execution_count": 1,
   "id": "2a6f915f",
   "metadata": {},
   "outputs": [],
   "source": [
    "import numpy as np\n",
    "from numpy import pi\n",
    "from time import sleep\n",
    "# Importing standard Qiskit libraries\n",
    "from qiskit import QuantumCircuit, transpile, Aer, IBMQ, execute\n",
    "from qiskit.tools.jupyter import *\n",
    "from qiskit.visualization import *\n",
    "from ibm_quantum_widgets import *\n",
    "from qiskit.visualization.utils import _get_layered_instructions\n",
    "\n",
    "# Loading your IBM Q account(s)\n",
    "provider = IBMQ.load_account()\n",
    "\n",
    "# Additional imports for audio\n",
    "from time import sleep\n",
    "import matplotlib.pyplot as plt\n",
    "from IPython.display import Audio, display, clear_output\n",
    "from ipywidgets import widgets\n",
    "from functools import partial\n",
    "%matplotlib inline"
   ]
  },
  {
   "cell_type": "code",
   "execution_count": 2,
   "id": "f5cfdadb",
   "metadata": {},
   "outputs": [
    {
     "data": {
      "text/plain": [
       "'Plays a note from each column of the circuit'"
      ]
     },
     "execution_count": 2,
     "metadata": {},
     "output_type": "execute_result"
    }
   ],
   "source": [
    "\"\"\"Plays a note from each column of the circuit\"\"\""
   ]
  },
  {
   "cell_type": "code",
   "execution_count": 19,
   "id": "1eacf568",
   "metadata": {},
   "outputs": [],
   "source": [
    "\"\"\"Global variables and utility functions\"\"\"\n",
    "\n",
    "# Simulators\n",
    "state_vector_sim = Aer.get_backend('statevector_simulator')\n",
    "unitary_sim = Aer.get_backend('unitary_simulator')\n",
    "\n",
    "# Utility functions\n",
    "def get_state_vector(circuit):\n",
    "    return state_vector_sim.run(circuit).result().get_statevector()\n",
    "\n",
    "def get_unitary_matrix(circuit):\n",
    "    return execute(circuit, unitary_sim).result().get_unitary()\n",
    "\n",
    "def get_amplitudes(matrix):\n",
    "    return abs(matrix)\n",
    "\n",
    "def get_probabilities(matrix):\n",
    "    return abs(matrix**2)\n",
    "\n",
    "def get_phases(matrix):\n",
    "    return np.angle(matrix)\n",
    "\n",
    "# Pretty-printing\n",
    "def print_matrix(matrix):\n",
    "    print('Matrix shape ', matrix.shape)\n",
    "    for row in matrix:\n",
    "        for num in row:\n",
    "            print(f\"{np.around(num, 2)}   \", end='')\n",
    "        print('')\n",
    "    print('\\n---')\n",
    "    \n",
    "def print_vector(vector, comment=''):\n",
    "    print(f'Vector {comment} with shape {vector.shape}')\n",
    "    for num in vector:\n",
    "        print(np.around(num, 2))\n",
    "    print('---')\n",
    "    \n",
    "def get_circuits_by_column(circuit):\n",
    "    \"\"\"circuit-splitter.ipynb\"\"\"\n",
    "    # Get circuit metadata\n",
    "    num_qubits = circuit.num_qubits\n",
    "    num_clbits = circuit.num_clbits\n",
    "    _, _, ops = _get_layered_instructions(circuit)\n",
    "    num_columns = len(ops)\n",
    "    \n",
    "    # Initialize column information\n",
    "    curr_column = [0] * num_qubits\n",
    "    columns = []\n",
    "    for i in range(num_columns):\n",
    "        columns.append([])\n",
    "        \n",
    "    # Organize instructions by column\n",
    "    for (insn, qargs, cargs) in circuit.data:    \n",
    "        col = -1\n",
    "        anchor_qubit = -1\n",
    "        for qubit in qargs:\n",
    "            index = qubit.index\n",
    "            if curr_column[index] > col:\n",
    "                col = curr_column[index]\n",
    "                anchor_qubit = index\n",
    "        if col == -1 or anchor_qubit == -1:\n",
    "            print('Something went wrong...')\n",
    "            continue\n",
    "\n",
    "        columns[col].append((insn, qargs, cargs))\n",
    "        curr_column[anchor_qubit] += 1\n",
    "        for qubit in qargs:\n",
    "            index = qubit.index\n",
    "            curr_column[index] = curr_column[anchor_qubit]\n",
    "        \n",
    "    # Build the subcircuits by column\n",
    "    sub_circuits = []\n",
    "    for col in range(0, num_columns):\n",
    "        sub_circuit = QuantumCircuit(num_qubits, num_clbits)\n",
    "        for (insn, qargs, cargs) in columns[col]:\n",
    "            sub_circuit.append(insn, qargs, cargs)\n",
    "        sub_circuits.append(sub_circuit)\n",
    "\n",
    "    assert len(sub_circuits) == num_columns\n",
    "    return sub_circuits\n",
    "\n",
    "\"\"\"Audio variables and functions\"\"\"\n",
    "def synth(frequency):\n",
    "    rate = 16000.0\n",
    "    duration = 0.25\n",
    "    x = np.linspace(0.0, duration, int(rate * duration))\n",
    "\n",
    "    y = np.sin(frequency * 2.0 * np.pi * x)\n",
    "    display(Audio(y, rate=rate, autoplay=True))\n",
    "\n",
    "# Start with middle C = C4\n",
    "# Each note increments by a phase of pi/4\n",
    "# https://pages.mtu.edu/~suits/notefreqs.html#:~:text=Frequencies%20of%20Musical%20Notes%2C%20A4%20%3D%20440%20Hz\n",
    "c_scale = {\n",
    "    round(0, 2): ('C4', 261.63),\n",
    "    round(1*pi/4, 2): ('D4', 293.66),\n",
    "    round(2*pi/4, 2): ('E4', 329.63),\n",
    "    round(3*pi/4, 2): ('F4', 349.23),\n",
    "    round(4*pi/4, 2): ('G4', 392.00),\n",
    "    round(-3*pi/4, 2): ('A4', 440.00), # after pi, phases are negative\n",
    "    round(-2*pi/4, 2): ('B4', 493.88),\n",
    "    round(-1*pi/4, 2): ('C5', 523.25)\n",
    "}\n",
    "\n",
    "def get_note(phase):\n",
    "    \"\"\"Return music note given a phase\"\"\"\n",
    "    # Round to the nearest multiple of pi/4\n",
    "    base = pi/4\n",
    "    key = round(base * round(phase/base), 2)\n",
    "    if key not in c_scale:\n",
    "        print(f'{key} not in scale!')\n",
    "        return None\n",
    "    \n",
    "    note = c_scale[key]\n",
    "    print(f'Phase {phase} maps to {note[0]}')\n",
    "    return note\n",
    "\n",
    "def get_notes(state_vector):\n",
    "    notes = []\n",
    "    phases = get_phases(state_vector)\n",
    "    for phase in phases:\n",
    "        notes.append(get_note(phase))\n",
    "    \n",
    "    return notes\n",
    "\n",
    "def play_notes(notes):\n",
    "    \"\"\"Notes is a list of tuples of form (note_name, frequency)\"\"\"\n",
    "    for (note, frequency) in notes:\n",
    "        synth(frequency)\n",
    "        "
   ]
  },
  {
   "cell_type": "code",
   "execution_count": 20,
   "id": "634830cd",
   "metadata": {},
   "outputs": [
    {
     "name": "stdout",
     "output_type": "stream",
     "text": [
      "Phase 0 maps to C4\n",
      "Got C4, expected C4\n",
      "Correct?  True\n",
      "Phase 0.7853981633974483 maps to D4\n",
      "Got D4, expected D4\n",
      "Correct?  True\n",
      "Phase 1.5707963267948966 maps to E4\n",
      "Got E4, expected E4\n",
      "Correct?  True\n",
      "Phase -0.7853981633974483 maps to C5\n",
      "Got C5, expected C5\n",
      "Correct?  True\n",
      "Phase -1.5707963267948966 maps to B4\n",
      "Got B4, expected B4\n",
      "Correct?  True\n"
     ]
    }
   ],
   "source": [
    "# Test get_note()\n",
    "phases_c_scale = [\n",
    "    (0, 'C4'),\n",
    "    (pi/4, 'D4'),\n",
    "    (pi/2, 'E4'),\n",
    "    (-pi/4, 'C5'),\n",
    "    (-pi/2, 'B4')\n",
    "]\n",
    "for (phase, note_name) in phases_c_scale:\n",
    "    note = get_note(phase)\n",
    "    print(f'Got {note[0]}, expected {note_name}')\n",
    "    print('Correct? ', note[0] == note_name)"
   ]
  },
  {
   "cell_type": "code",
   "execution_count": 21,
   "id": "3e85f4e9",
   "metadata": {},
   "outputs": [
    {
     "name": "stdout",
     "output_type": "stream",
     "text": [
      "[Qubit(QuantumRegister(2, 'q'), 0), Qubit(QuantumRegister(2, 'q'), 1)] qubits\n"
     ]
    },
    {
     "data": {
      "image/png": "[encoded data removed]",
      "text/plain": [
       "<Figure size 267.052x204.68 with 1 Axes>"
      ]
     },
     "metadata": {},
     "output_type": "display_data"
    }
   ],
   "source": [
    "\"\"\"Insert circuit in this cell\"\"\"\n",
    "\n",
    "qasm = \"\"\"\n",
    "OPENQASM 2.0;\n",
    "include \"qelib1.inc\";\n",
    "\n",
    "qreg q[2];\n",
    "creg c[2];\n",
    "\n",
    "h q[0];\n",
    "h q[1];\n",
    "tdg q[0];\n",
    "s q[1];\n",
    "ry(pi/4) q[0];\n",
    "ry(pi/2) q[1];\n",
    "\"\"\"\n",
    "\n",
    "circuit = QuantumCircuit.from_qasm_str(qasm)\n",
    "circuit.draw()\n",
    "print(f'{circuit.qubits} qubits')"
   ]
  },
  {
   "cell_type": "code",
   "execution_count": 22,
   "id": "2bf66d1c",
   "metadata": {},
   "outputs": [
    {
     "name": "stderr",
     "output_type": "stream",
     "text": [
      "<ipython-input-19-060ae7b3f3f7>:57: DeprecationWarning: Back-references to from Bit instances to their containing Registers have been deprecated. Instead, inspect Registers to find their contained Bits.\n",
      "  index = qubit.index\n",
      "<ipython-input-19-060ae7b3f3f7>:68: DeprecationWarning: Back-references to from Bit instances to their containing Registers have been deprecated. Instead, inspect Registers to find their contained Bits.\n",
      "  index = qubit.index\n"
     ]
    }
   ],
   "source": [
    "# Get circuits by column\n",
    "sub_circuits = get_circuits_by_column(circuit)"
   ]
  },
  {
   "cell_type": "code",
   "execution_count": 23,
   "id": "b23bc2cf",
   "metadata": {},
   "outputs": [
    {
     "name": "stdout",
     "output_type": "stream",
     "text": [
      "Vector  with shape (4,)\n",
      "(0.5+0j)\n",
      "(0.5+0j)\n",
      "(0.5+0j)\n",
      "(0.5+0j)\n",
      "---\n",
      "Vector phases with shape (4,)\n",
      "0.0\n",
      "0.0\n",
      "0.0\n",
      "0.0\n",
      "---\n",
      "Vector probabilities with shape (4,)\n",
      "0.25\n",
      "0.25\n",
      "0.25\n",
      "0.25\n",
      "---\n"
     ]
    },
    {
     "data": {
      "image/png": "[encoded data removed]",
      "text/plain": [
       "<Figure size 146.652x204.68 with 1 Axes>"
      ]
     },
     "metadata": {},
     "output_type": "display_data"
    }
   ],
   "source": [
    "# Use first column as the starting state vector\n",
    "state_vector = get_state_vector(sub_circuits[0])\n",
    "print_vector(state_vector)\n",
    "\n",
    "sub_circuits[0].draw()\n",
    "print_vector(get_phases(state_vector), comment='phases')\n",
    "print_vector(get_probabilities(state_vector), comment='probabilities')"
   ]
  },
  {
   "cell_type": "code",
   "execution_count": 24,
   "id": "24770827",
   "metadata": {},
   "outputs": [
    {
     "name": "stdout",
     "output_type": "stream",
     "text": [
      "Column 1\n",
      "Vector state with shape (4,)\n",
      "(0.5+0j)\n",
      "(0.35-0.35j)\n",
      "0.5j\n",
      "(0.35+0.35j)\n",
      "---\n",
      "Vector phases with shape (4,)\n",
      "0.0\n",
      "-0.79\n",
      "1.57\n",
      "0.79\n",
      "---\n",
      "Vector probabilities with shape (4,)\n",
      "0.25\n",
      "0.25\n",
      "0.25\n",
      "0.25\n",
      "---\n",
      "Phase 0.0 maps to C4\n",
      "Phase -0.7853981633974483 maps to C5\n",
      "Phase 1.5707963267948966 maps to E4\n",
      "Phase 0.7853981633974483 maps to D4\n",
      "notes [('C4', 261.63), ('C5', 523.25), ('E4', 329.63), ('D4', 293.66)]\n"
     ]
    },
    {
     "data": {
      "text/html": [
       "\n",
       "                <audio  controls=\"controls\" autoplay=\"autoplay\">\n",
       "                    <source src=\"data:audio/wav;base64,UklGRmQfAABXQVZFZm10IBAAAAABAAEAgD4AAAB9AAACABAAZGF0YUAfAAAAACENHxrWJiUz6T4ESlZUxV02ZpNtyXPFeHt84X7wf6Z/A34Le8d2QnGMarVi1FkAUFRF7TnpLWkhjxR9B1n6Qu1e4NDTucc6vHKxfqd5nnyWnI/riXqFU4KAgAWA5IAbg6KGcot8kbGY/aBKqn60f78ty2rXFeQL8Sr+TAtRGBUldDFOPYJI8lKCXBhlnWz9ciZ4Cnygft9/xX9Sfop7dHcbco5r3mMhW21R3kaPO58vLyNfFlMJL/wU7yfii9Vhycu957LUqK2fiZeAkKSKBYavgq2AAoCwgLeCEIayipKQnpfEn++oBLPqvYLJrdVK4jjvU/x3CYMWUSPBL687/EaJUTpb9WOhaytygXeTe1h+x3/ef5t+AnwZeO1yimwCZWlc1lJkSC49UzHyJC4YKAsG/ufw8uNI1wzLX79htC+q5aCcmGqRY4uXhhOD4IAFgIOAWoKEhfmJrY+RlpGemKeOsVi82cfy04HgZu19+qIHsxSMIQsuDTpyRRxQ7lnMYqBqU3HVdhV7CX6pf+9/3H5zfLl4uXOBbSBmrF07VOZJyj4EM7Qm+xn9DNz/u/K+5QfZusz3wN+1j6sjorSZWpIojC+HfIMagQ+AXYAEgv+ERonOjoiVYp1Gphywy7o0xjnSut6V66f4zAXiEsUfUixoOOVDq06cWJ5hmWl2cCN2kXq0fYN/+n8Yf958Unl/dHFuOWfqXptVZEtiQLI0cyjIG9EOsgGP9IvnyNpqzpLCYLfzrGWj0ppQk/OMzoftg1uBH4A9gLSBgISaiPaNhpQ5nPmkr65BuZHEg9D03MXp0fb1AxAR/B2YKsA2VEI2TUZXa2CMaJJva3UGelh9V3/+f0x/Qn3leT91XG9NaCRg91bfTPdBXTYxKpIdpBCIA2X2WumM3B7QMcTmuFuurKT1m0uUxI1yiGOEooE3gCSAa4EIhPOHI42JkxSbsKNGrbq38sLPzjHb9uf89B8CPQ8yHNsoFTXAQLxL7FUzX3lnqG6sdHV59Xwkf/x/en+ffXF6+XVBcFtpWGFOWFVOiUMGOOwrWx92El8FOvgp61He09HTxW+6x6/5pR2dTJWcjh6J4YTwgVWAEoAogZaDU4dWjJKS9pltouGrOLZWwR7Nb9ko5ifzSABpDWYaHCdnMyg/P0qNVPZdYma5bedz3XiMfOt+83+hf/Z993qsdiFxY2qHYqBZx08XRaw5pS0jIUcUNQcQ+vrsGOCM03fH/Ls4sUmnSp5TlnmPz4llhUWCeoAGgO2AKoO5hpCLoZHcmC6hgKq5tL2/b8uv11zkU/Fy/pULmRhaJbcxjT29SClTtFxFZcRsHXM/eBx8qn7if8F/Rn53e1l3+nFma7Fj7lo1UaFGTjtcL+kiGBYLCeb7zO7h4UbVH8mNva2yn6h9n1+XXJCHiu+FoYKlgAKAuIDGgiaG0Iq2kMiX9J8kqT6zKL7DyfHVkeKA75z8wAnKFpcjBDDvOzhHwVFtWyJkyWtMcpp3pntjfsx/2n+Qfu97AHjNcmNs1WQ3XJ9SKEjuPBAxrSTnF+AKvf2f8KvjA9fKyiG/J7T5qbWgcZhGkUWLgIYDg9iABICKgGiCmYUVitCPupbAns2nyLGWvBvINtTI4K7txfrqB/oU0iFOLk46r0VVUCFa+mLIanVx8HYpexZ+rn/tf9N+YnyheJpzW230ZXtdBFSrSYo+wTJvJrQZtQyU/3PyduXC2HfMuMCktVir8aGJmTWSCYwXh2yDEYENgGKAEIIThWGJ8I6xlZCdeqZVsAi7dcZ90gDf3Ovv+BQGKhMLIJYsqTgjRORO0VjNYcJpmHA/dqZ6wX2Kf/l/D3/OfDt5YXRNbg5nul5lVSpLI0BwNC8ogRuJDmkBR/RE54PaKM5TwiW3u6wzo6WaKZPTjLWH24NQgRyAQYDAgZOEtIgXjq6UZpwspeeufbnSxMbQOt0M6hr3PgRYEUMe3CoCN5JCcE17V5tgtmi1b4d1HHpnfV5//n9EfzN9z3kidThvI2j0X8FWpUy5QRw27ClMHVwQQAMc9hLpRtzaz/HDqrgjrnqkx5sklKSNWYhRhJeBMoAngHaBGoQMiEONsJNBm+Ojfa32tzLDEs922z3oRPVnAoUPeRwfKVc1/0D3SyJWZF+kZ81uynSMeQV9LX/9f3N/kX1cetx1HnAyaSlhGVgcTktDxTeoKxUfLhIWBfL34uoL3pDRksUyuo+vxaXvnCSVeo4Dic2E5IFQgBSAMoGng2uHdoy4kiKanqIXrHO2lcFgzbTZb+Zv85EAsQ2tGmEnqjNoP3pKw1QnXo1m3m0GdPV4nXz0fvR/m3/pfeN6kXb/cDtqWGJsWY5P2kRrOWEt3SAAFOwGyPmz7NLfSNM2x7+7/7AVpxueKpZXj7OJUIU4gnOACID2gDuD0Yaui8aRB5lfobaq9LT8v7HL9Nej5Jvxu/7dC+AYoCX6Mc09+UhgU+ZccWXqbDxzWHgufLV+5X+8fzp+Y3s/d9lxP2uDY7ta/VBlRg47GC+jItAVwgie+4TumuEC1d7IT710smqoTZ82lzmQaorZhZKCnoACgMCA1YI8hu2K2pDylySgWal4s2a+Bco21tjiyO/k/AgKEhfdI0cwLzx1R/lRoFtPZPBrbHK0d7l7b37Pf9d/hX7de+d3rXI9bKhkBFxnUuxHrjzMMGcknxeYCnT9V/Bk477WiMrivuyzxKmEoEeYIZEni2mG84LPgAOAkIB2gq+FMorzj+OW754BqAGy1LxcyHrUDuH27Q77MwhCFRgiki6OOuxFjVBVWihj8GqXcQp3PXsifrN/63/JflF8iHh7czVtyGVJXc1Tb0lLPn4yKSZtGWwMS/8r8i/lfdg1zHnAabUiq8ChXZkPkuuL/4ZbgweBC4BogB2CJ4V9iROP2ZW/na6mjrBFu7XGwdJG3yTsOPldBnETUiDaLOo4YEQdTwVZ/GHqabtwWna6es99kH/4fwZ/vXwkeUN0KG7jZoleL1XvSuQ/LTTqJzobQQ4hAf/z/OY+2uXNE8LptoSsAaN5mgOTtIych8mDRoEZgEaAzIGmhM6IOI7VlJScX6Ufr7q5EsUK0YDdVOpi94YEoBGJHiArQzfQQqlNsFfLYN9o2W+kdTJ6dX1mf/5/PX8jfbh5BHUUb/hnw1+MVmpMe0HaNagpBR0UEPcC1PXL6ADcl8+xw224661HpJqb/ZODjT+IPoSMgS+AK4CBgSyEJohjjdeTbpsVpLStMrhyw1XPvNuE6I31sALND78cZCmZNT1BMUxXVpRfz2fxbud0onkUfTV//X9sf4N9R3rAdftvCGn5YORX4k0NQ4M3ZCvPHuYRzgSp95rqxd1M0VLF9blXr5KlwZz8lFmO6Ii5hNiBS4AXgDyBuIOEh5WM3pJOmtCiTqyuttXBo8352bbmuPPZAPoN9BqmJ+wzpz+1SvlUWF65ZgNuJXQMea18/X72f5V/3H3PenV23HASaipiOFlVT5xEKjkdLZcguBOkBn/5a+yL3wTT9caBu8aw4abtnQGWNI+YiTuFKoJtgAmA/oBLg+iGzYvrkTKZkKHsqi+1O8D0yznY6uTk8QT/JQwnGeUlPTINPjVJl1MYXZ1lEG1cc3B4P3y/fuh/uH8uflB7JXe3cRdrVWOHWsVQKEbOOtUuXSKIFXoIVfs87lPhvdScyBG9OrI1qB6fDJcWkE6KxIWEgpeAAoDHgOSCU4YKi/6QHZhVoI+ps7OlvkfKe9Ye4xDwLf1QClkXIySKMG88sUcxUtJbfGQXbI1yznfLe3p+03/Tf3p+y3vNd4xyFmx7ZNJbMFKwR248iTAhJFgXTwos/Q/wHeN61kbKpL6ys46pVKAcmP2QCotShuSCx4ACgJeAhILEhU6KFpANlx6fNqg7shK9nci/1FXhPu5W+3sIihVeItYuzzopRsZQiFpWYxhruHEld1B7Ln64f+h/v34/fHB4W3MPbZxlF12WUzRJCz48MuQlJhkkDAL/4vHp5DjY88s6wC6166qPoTKZ6pHMi+iGS4P+gAmAboArgjyFmIk1jwKW7Z3ipsewgrv2xgXTjN9s7ID5pQa5E5ggHi0rOZ1EVk85WStiE2rdcHZ2z3rcfZV/9n/9fq18DHkkdANuuGZYXvlUtEqmP+szpSfzGvgN2AC387Xm+NmizdTBrbZNrM+iTZrdkpSMg4e4gzyBF4BLgNiBuoTpiFmO/ZTCnJKlV6/2uVPFTdHG3ZvqqvfPBOgR0B5lK4Q3DkPjTeVX+mAJafxvwXVHeoN9bH/9fzV/FH2ieed08G7OZ5NfVlYwTDxBmDVjKb4czA+vAov1g+i721TPccMxuLStFKRtm9aTY40liCyEgIErgC+AjIE+hD+IhI3+k5ubSKTsrW64ssOYzwHczOjV9fgCFRAGHakp2zV8QWtMjVbEX/lnFW8Fdbl5JH09f/5/ZX91fTF6pHXYb99oymCwV6hNz0JCNx8riB6eEYUEYfdT6n/dCdERxbm5Hq9epZOc1ZQ3js6IpoTLgUaAGYBGgcqDnIe0jASTepoCo4Ws6rYUwubNP9r+5gD0IgFCDjsb6ycvNOU/8EowVYle5GYobkN0JHm+fAZ/+H+Pf899unpadrpw6mn7YQRZHE9fROk42SxQIHATWwY3+SPsRd/A0rTGRLuNsK2mvp3ZlRKPfIknhR2CaIALgAiBW4MAh+uLEJJemcGhI6tqtXrANsx+2DHlLPJM/24MbhkqJn8yTD5wSc5TSl3JZTZte3OJeFF8yX7rf7N/In48ewp3lnHvaidjVFqMUOtFjTqRLhciQRUxCA379e0N4XnUW8jTvACyAKjunuKW848xiq6FdoKQgAOAz4D0gmmGKIsikUeYhaDEqe2z476Jyr/WZeNY8Hb9mQqgF2gkzjCvPO1HaFIFXKlkPWytcud33nuFftd/z39vfrh7tHdscu9rTmSfW/hRdEcuPEYw3CMQFwcK4/zH79fiNdYEymW+eLNZqSSg8pfZkOyKPIbVgr+AAoCegJKC2oVrijqQNpdOn2uodbJQvd/IA9Wb4YXun/vDCNEVpCIZLw87Zkb+ULtahGM/a9lxP3dkezt+vH/lf7V+LnxXeDxz6WxwZeVcX1P4SMw9+TGfJd8Y3Au6/prxouTz17DL+7/ztLWqXqEHmcWRrovQhjqD9YAIgHSAOIJQhbSJV48rlhyeFqcAscC7N8dJ09PftOzJ+e4GARTeIGItbDnbRI9PbVlZYjxq/3CRduN66X2bf/R/9H6cfPR4BnTdbY1mJ17CVHlKZz+pM2AnrBqwDZAAbvNu5rPZX82UwXK2FqyeoiGat5J1jGuHp4MygRSAUIDkgc2EA4l7jiWV8JzGpZCvM7qTxZHRDN7j6vP3FwUvEhYfqSvGN0xDHE4aWClhMmkfcN11XHqRfXN//X8sfwV9i3nJdMxuo2djXyFW9kv+QFY1Hil4HIQPZgJD9TzoddsRzzHD9bd8reKjQJuvk0ONDIgZhHWBJ4AzgJeBUYRZiKSNJZTIm3qkJK6ruPLD289H3BPpHfZBA10QTR3tKR02ukGmTMJW9F8jaDlvInXPeTN9RH/+f15/Zn0ceod1tW+1aJpge1dvTZFCADfbKkIeVxE9BBj3C+o53cXQ0cR8ueauK6VlnK2UFo6ziJOEv4FBgByAUYHbg7WH1Iwqk6aaNKO8rCa3VMIpzoTaRedI9GoBig6CGzAocTQkQCtLZlW6Xg9nTW5hdDt5znwPf/l/iX/BfaV6PnaYcMFpzGHQWONOIkSoOJUsCiAoExMG7vjb6//efNJ0xge7VLB5ppCdsJXwjmGJE4UQgmKADYARgWyDF4cKjDWSiZnyoVmrpbW5wHjMw9h45XTylf+2DLUZcCbCMos+rEkFVHtd9WVcbZpzoXhifNN+7X+ufxZ+KXvvdnRxx2r5YiBaVFCuRU06TS7RIfkU6QfE+q3tx+A11BnIlbzHscynv565ls+PFYqZhWiCiYAEgNiAA4OAhkaLRpFymLWg+qkntCK/y8oE16zjoPC+/eEK6BeuJBEx7zwpSKBSN1zWZGRszXIBePB7kH7af8t/Y36me5p3S3LIayFkbFvAUTdH7jsDMJYjyRa/CZv8f++Q4vDVwsknvj2zI6n0n8iXtZDPiiaGxoK4gAKApYChgu+FiIpdkGCXfp+gqK6yjr0gyUfV4uHN7uj7DAkZFuoiXS9QO6JGNlHuWrFjZ2v6cVp3d3tGfsF/4n+qfhx8P3gcc8NsRGWzXChTvUiMPbYxWSWYGJQLcf5S8Vvkrtduy7y/uLR/qi2h3JigkY+LuYYqg+2ABoB6gEaCZYXQiXqPVJZLnkqnObH9u3nHjdMZ4PvsEfo2B0gUJCGmLa05GEXIT6FZiGJkaiFxrXb4evZ9oX/yf+t+jHzdeOdzuG1hZvVdjFQ+Sic/ZjMaJ2UaaA1HACbzJ+Zu2R3NVcE3tuCrbKL1mZKSVoxTh5WDKIESgFWA8YHhhB6JnI5NlR6d+aXIr3C61MXV0VLeKus7+GAFdxJdH+0rBziKQ1ZOTlhYYVxpQnD5dXJ6n316f/x/JH/1fHR5rHSobnlnMl/rVbtLv0AUNdooMRw8Dx4C+/T15zDbzs7xwrm3Ra2woxSbiZMjjfOHB4RrgSSAN4CigWSEc4jFjUyU9ZutpFyu57gyxB/Qjdxb6Wb2igOlEJMdMipfNvhB4Ez3ViRgTWhdbz915XlCfUx//n9Xf1h9BnpqdZFvi2hrYEZXNU1TQr82lyr7HQ8R9APQ9sTp89yC0JDEQLmurvikOJyFlPWNmYiAhLSBPYAfgFuB7YPOh/SMUJPSmmaj86xht5PCbM7K2oznkfSzAdIOyRt0KLM0Y0BlS5xV6146Z3JugHRTed58GH/6f4N/tH2ReiJ2dXCYaZ5hnFiqTuRDZzhRLMQf4RLKBab4lOu53jjSM8bKuhywRaZhnYiVzo5Gif6EA4JdgA+AGoF9gy+HKIxbkrWZI6KPq+C1+MC7zAjZv+W88t3//gz9GbUmBTPLPudJPFStXSFmgW26c7l4c3zdfu9/qX8JfhV71HZTcZ9qy2LtWRtQcUUMOgouiyGyFKEHfPpl7YDg8dPYx1e8jbGXp5CekJatj/mJhIVagoOABYDggBODl4Zji2uRnZjmoDCqYrRgvw3LSdfz4+jwB/4pCy8Y8yRUMS89ZUjXUmpcA2WLbO1yGngCfJt+3n/Hf1h+k3uAdytyoWv0YzlbiFH7Rq47wC9QI4IWdglS/DfvSeKs1YHJ6b0Ds+6oxJ+dl5GQsooQhreCsIABgK2AsIIFhqSKgZCKl62f1ajossy9YsmM1SjiFe8w/FQJYBYwI6AvkDvfRm5RIlvfY45rG3J0d4p7Un7Ff99/oH4KfCZ4/HKdbBdlgVzxUoFITT1zMRQlUBhLCyn+CvEU5GnXLMt+v320Sar9oLGYfJFxi6KGGoPkgAWAgIBTgnqF7Imcj32Wep5/p3OxO7y6x9HTX+BD7Vr6fweQFGoh6i3uOVVFAVDVWbZijGpDcch2DHsDfqZ/8H/hfnt8xXjIc5NtNWbEXVVUA0roPiQz1SYeGiAN///e8uDlKdnazBbB+7WpqzqiyZlskjeMO4eEgx+BEIBagP2B9YQ5ib6OdZVMnS2mAbCtuhTGGNKY3nLrhPipBb8Sox8xLEg4x0OPToNYiGGFaWVwFXaHeq19gH/7fxx/5XxdeY50g25OZwJftVWBS4BA0jSVKOob9A7VAbL0refq2ovOscJ9tw2tfaPnmmKTA43ah/WDYIEhgDuAroF3hI2I5o1zlCOc4KSUriO5csRi0NPcoumu9tID7RDaHXYqoDY2QhpNLVdUYHdogW9ddft5UX1Uf/5/UH9JffB5TXVub2FoO2AQV/tMFUJ9NlIqtB3HEKwDiPZ86a3cPtBQxAO5dq7FpAucXpTUjX+IbYSogTmAIoBmgf+D54cUjXeT/5qYoyutnbfTwq7OD9vT59n0/AEaDxAcuSj1NKJAoEvSVRxfZWeXbp50annufCB/+399f6Z9fHoGdlJwb2lvYWdYcU6nQyY4DSx+H5kSggVd+Ezrc9700fLFjbrjrxKmM51glayOK4nqhPeBV4ARgCSBjYNHh0eMgJLgmVWixqsbtjfB/cxN2QbmBPMlAEYNRBr6JkczCj8iSnJU3l1NZqdt2XPReIR85n7yf6N//H0Be7l2MXF3ap1iuVnjTzRFyznGLUUhahRYBzP6He064K3Tl8cavFSxY6dhnmeWio/diW+FTIJ9gAaA6YAjg66GgYuPkceYFqFmqp20n79Py47XOuQw8U/+cgt2GDkllzFvPaFIDlOcXC9lsWwNczN4FHylfuF/w39MfoB7ZncKcnlrx2MGW1BRv0ZuO3wvCyM6Fi4JCvzv7gPiZ9U/yau9ybK5qJSfdJdukJWK+oWogqmAAoC0gL+CG4bBiqSQtJfdnwqpIrMKvqTJ0NVv4l3vefydCagWdSPjL9A7G0emUVRbDGS2azxyjnede15+yn/cf5V++HsMeNxydmzrZE9culJFSA09MDHOJAkYAwvg/cLwzeMk1+rKP79DtBOqzKCGmFeRU4uLhgqD3IAEgIaAYYKPhQiKv4+mlqmes6essXi8+8cV1Kbgi+2i+scH2BSwIS4uLjqSRTlQCFrkYrRqZXHjdiB7EH6rf+5/135qfK14qXNtbQpmkl0fVMdJqT7hMpAm1xnYDLf/lvKZ5ePYmMzXwMC1cqsJop6ZR5IYjCOHdIMVgQ2AX4AKggmFVIngjp2Vep1hpjqw6rpVxlzS3t6668z48QUHE+kfdSyKOAVEyU63WLdhrmmHcDF2nHq7fYd/+n8Tf9V8RnlwdF5uI2fRXn9VRktCQJA0UCijG6wOjAFq9GbnpdpIznLCQrfWrEuju5o8k+OMwYfjg1WBHoA/gLqBioSniAeOmpRQnBOlzK5gubPEptAY3erp9vYbBDURIR67KuI2dEJUTWJXhGChaKRveXURel99W3/+f0h/On3aeTB1Sm83aAtg21bBTNdBPDYOKm4dfxBjAz/2Nelo3PvPEMTHuD6ukqTdmzeUtI1liFqEnIE0gCaAcIERhACINI2dkyybyqNirdm3E8PxzlXbG+gh9UQCYg9WHP4oNzXgQNpLCFZMX5Bnu267dIF5/Xwpf/x/dn+YfWZ66nUvcEZpP2EzWDdOaUPkN8krNx9REjkFFfgE6y3esdGxxVC6qq/epQWdOJWKjhCJ14TqgVKAE4AtgZ+DYIdnjKaSDJqGov2rVrZ3wUDNk9lN5k3zbgCODYsaPyeKM0k/XUqpVBBeeGbMbfdz6XiVfPB+83+ef+997Xqedg9xT2pvYoVZqk/3RIo5gi3/ICIUEAfr+dXs9N9p01bH3LsbsS6nMp4+lmePwYlahT6CdoAHgPGAM4PFhqCLtJHymEehnKrXtN6/kcvT14DkefGY/roLvhh+Jdoxrj3cSEZTzlxbZddsLXNMeCV8sH7kf79/QH5te0x36XFSa5lj01oYUYJGLTs5L8Ui8xXlCMH7p+684SPV/chtvZCyhKhkn0qXSpB4iuSFmYKhgAKAvIDOgjKG34rIkN6XDaBAqVyzSL7lyRXWteKl78H85QnvFrsjJzAQPFdH3lGHWzlk3Wtdcqh3sHtpfs5/2X+KfuZ783e8ck9svmQdXIJSCUjNPO0wiSTCF7sKmP168Ibj39aoygC/CLTeqZygW5gzkTaLdIb7gtOAA4CNgG+CpIUkiuKPz5bYnuin5bG2vDzIWdTs4NPt6/oQCB8V9iFxLm86z0VyUDxaEmPcaoZx/nYzexx+sH/sf85+WXyUeIpzR23eZWFd6FOMSWo+nzJLJpAZjwxu/07yUuWe2FXMl8CFtTyr2KFymSGS+YsLh2ODDIEMgGWAF4IdhXCJAo/GlaidlaZzsCe7lsag0iTfAewV+ToGTxMwILosyzhCRAJP7FjlYddpqnBNdrB6yH2Nf/h/Cn/FfC95UXQ6bvhmoF5JVQtLA0BONAsoXBtjDkQBIvQf51/aBc4ywga3n6wZo46aFpPDjKiH0oNLgRuARIDGgZ2EwYgojsKUfpxGpQSvnLnzxOnQXt0x6j/3YwR9EWce/yojN7JCjU2XV7Rgy2jIb5Z1J3pufWJ//n9Afyt9w3kTdSZvDWjbX6ZWh0yZQfo1ySknHTcQGgP39e3oIty4z9DDirgGrl+ksJsQlJONS4hHhJGBMIApgHuBI4QZiFSNxJNYm/2jmq0VuFPDNc+a22LoavWNAqoPnRxDKXk1H0EVTD1WfV+6Z99u2XSXeQ19MX/9f3B/in1Res51DHAcaRBh/lf+TStDozeFK/EeCRLxBMz3vern3W3RccUTunKvqqXXnBCVaY71iMOE3oFNgBWAN4Gwg3iHhozLkjiauKI0rJK2tsGDzdjZlOaV87YA1w3SGoQnzDOIP5hK31RBXqRm8W0WdAF5pXz5fvV/mH/ifdh6g3btcCZqQGJRWXFPukRKOT4tuSDbE8cGovmN7K3fJNMVx5+74rD6pgOeFZZFj6WJRYUxgnCACID6gEOD3Ya+i9mRHpl4odKqErUdwNTLGNjH5MHx4P4CDAUZxCUcMu49GEl9UwBdiGX9bE1zZHg3fLp+53+6fzR+WXsxd8hxKmtrY6Ba4FBFRg==\" type=\"audio/wav\" />\n",
       "                    Your browser does not support the audio element.\n",
       "                </audio>\n",
       "              "
      ],
      "text/plain": [
       "<IPython.lib.display.Audio object>"
      ]
     },
     "metadata": {},
     "output_type": "display_data"
    },
    {
     "data": {
      "text/html": [
       "\n",
       "                <audio  controls=\"controls\" autoplay=\"autoplay\">\n",
       "                    <source src=\"data:audio/wav;base64,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\" type=\"audio/wav\" />\n",
       "                    Your browser does not support the audio element.\n",
       "                </audio>\n",
       "              "
      ],
      "text/plain": [
       "<IPython.lib.display.Audio object>"
      ]
     },
     "metadata": {},
     "output_type": "display_data"
    },
    {
     "data": {
      "text/html": [
       "\n",
       "                <audio  controls=\"controls\" autoplay=\"autoplay\">\n",
       "                    <source src=\"data:audio/wav;base64,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\" type=\"audio/wav\" />\n",
       "                    Your browser does not support the audio element.\n",
       "                </audio>\n",
       "              "
      ],
      "text/plain": [
       "<IPython.lib.display.Audio object>"
      ]
     },
     "metadata": {},
     "output_type": "display_data"
    },
    {
     "data": {
      "text/html": [
       "\n",
       "                <audio  controls=\"controls\" autoplay=\"autoplay\">\n",
       "                    <source src=\"data:audio/wav;base64,UklGRmQfAABXQVZFZm10IBAAAAABAAEAgD4AAAB9AAACABAAZGF0YUAfAAAAALsORB1pK/s4y0WuUXpcDGZDbgN1NHrGfat/339ffjF7YHb9bxxo2V5TVK9IEzyrLqQgLhJ6A7v0Iubg1yfKJr0HsfalF5yMk3GM4IbrgqCABoAggemDWIhfjuiV2p4XqXu04MAdzgLcY+oN+c0HdBbPJKwy3T81TIlXs2GRagVy9HdMfPx+/X9Kf+Z82XgwcwBsYGNvWU1OIEITNVEnCRlsCqz7++yK3orQLcOetgmrlaBml5qPTYmUhH+BGIBlgGSCDoZWiyySeJodpPuu7LrIx2TVkeMe8toAkw8YHjYsvjmCRlVSEV2PZrFuWnV0eu19un/Ufzx+9XoNdpJvnWdGXq9T+0dSO+At0R9WEaAC4vNM5RHXYslsvFywW6WPmxiTFIybhr6Ci4ALgD2BH4SmiMSOY5Zpn7epLLWewebO1Nw66+b5pwhLF58ldDOZQONMJ1hAYgprZ3JAeH98F3/+fzJ/tXyQeNFyimvWYtJYoE1lQUw0gSYzGJIJ0voj7LfdwM9twuy1ZqoEoOmWM4/9iFuEX4ERgHeAjoJQhrGLnZL9mrWkpK+ku4zIMtZl5PfytAFsEOweAy2AOjdH/FKmXRFnHm+xdbN6FH7Hf8l/F364erh1J28cZ7JdClNGR5E6FC39Hn4QxgEJ83fkQ9adyLO7sq/CpAibppK4i1aGkoJ4gBCAXIFXhPaIKo/elvifWardtV3Cr8+m3RHswPqACSEYbyY7NFVBkU3FWMtigWvIcop4sXwwf/5/GX+DfEZ4cHIUa0tiNVjyTKlAhTOxJV0XuQj5+Uzr5dz2zq7BOrXFqXWfbZbMjq2IJIRAgQuAioC6gpWGDYwPk4SbT6VOsF28UckA1zrl0POOAkQRvx/PLUI77EehUzpekmeKbwZ28Ho5ftN/u3/xfXl6YnW6bppmHV1jUpFGzzlHLCoepQ/sADDyouN11dnH+7oJryqkg5o2kl6LE4ZngmaAGIB8gZCER4mSj1uXiaD7qo+2HcN50Hje6Oya+1oK9xg/JwI1EEI+TmJZVWP2ayhz0njifEh//X//flB8+3cNcpxqv2GWV0NM7T+9MuAkhhbfBx/5deoU3C3O8MCKtCSp5p7ylWeOX4jtgyKBBoCegOiC2oZpjIKTC5zppfmwFr0Xys/XEOap9GgDHBKSIJouAzygSEZUzV4RaPRvWXYse1x+3n+tf8l9OXoKdUxuF2aHXLxR20UMOXsrVh3NDhIAV/HO4qjUFcdEumCukqP/mcaRBYvRhT6CVoAhgJ6ByoSZifqP2ZcboZ+rQrfdw0TRSt/A7XT8MwvNGQ4oyDXLQupO/VneY2tsh3MaeRF9Xn/6f+N+HHyud6pxImoyYfdWlEsvP/QxDySvFQYHRfie6UPbZc0zwNqzhKhYnnmVA44SiLmDBoEDgLSAFoMhh8iM9pOUnISmpbHQvd3Kntjl5oL1QQTzEmUhZS/DPFNJ6VRfX5BoXXCsdmd7fn7nf51/oH34ebF03W2TZfBbFFEjRUg4rSqBHPQNOf9/8Prh29NSxo65ua38onyZWJGtipGFFoJHgCuAwYEGheyJZZBZmK2hQ6z2t57ED9Id4JjuTv0MDKIa3SiONoRDlU+YWmZk3mzkc2B5Pn1zf/Z/xX7me2B3RXGoaaNgVlbjSnE+KzE+I9gULAZs98foctqdzHa/K7Pmp8ydAJWhjcaHhYPrgAKAzIBHg2qHJ41slB6dIadSsou+o8tu2bvnW/YbBcsTNyIvMIM9BUqMVfBfDWnFcP12oHuffu5/i392fbV5V3RtbQ5lWFtqUGxEhDfgKa0bGw1f/qfvJuEO05DF2LgSrWei+pjrkFeKUoXvgTqANoDmgUOFQYrQkNmYQaLprKq4X8Xb0vHgcO8o/uUMdxusKVM3PURAUDFb7GRQbUB0pHlrfYZ/8H+nfq57EXffcCxpFGC1VTJKsz1iMGwiARRSBZL28eei2dXLur59skinQZ2JlECNfIdTg9KAAoDlgHiDtIeIjeKUqZ2+pwCzR79rzD7akeg19/UFohQJI/kwQj63Si5Wf2CJaStxTHfYe75+9X94f0p9cXn7c/tsiGS+WsBPs0O/NhEp2BpCDIX9zu5T4EPSzsQjuG2s06F5mH+QAYoVhcqBLoBEgAyCgYWXij2RW5nWoo+tYLkhxqfTxOFI8AL/vg1MHHoqFzj1ROlQyltyZcFtmnTneZV9mH/pf4Z+dXvAdndwr2iDXxJVgEnzPJgvmiEqE3gEufUb59LYD8v/vdCxrKa3nBSU4Iw0hyKDuoADgP+Aq4P/h+qNWpU1nl2orrMDwDLNDtto6Q74zwZ5FdsjwjEAP2dLzlYOYQRqkHGbdw582375f2N/HH0reZ5ziGwAZCRaFU/6Qvo1QygCGmkLq/z27YDfd9ENxG+3yKs/ofmXFZCuidmEp4EjgFKANILBhe+KqpHemWyjNq4WuuTGdNSZ4iHx3P+WDiAdRyvbOK1FklFhXPZlMG70dCl6v32pf+B/ZX47e252DnAxaPJeb1TNSDM8zS7HIFISngPf9EXmA9hIykW9JLEQpi6cn5OBjOyG84KkgAaAG4Hgg0uITo7UlcKe/KhetMHA+83f2z/q6PipB1AWrCSKMr0/F0xuV5xhfWr0ceh3Q3z4fvx/Tn/ufOV4QHMUbHdjiVlpTj9CNDVzJy0ZkArR+x/trd6s0E3DvLYkq62ge5esj1uJnoSFgRqAYoBdggKGR4sakmKaA6Ters26p8dB1W3j+vG1AG8P9B0ULJ45Y0Y5UvdceWafbkx1aXrnfbh/1n9Cfv96G3akb7JnX17LUxlIczsCLvQfehHEAgb0cOU014PJi7x5sHWlppsskySMpobFgo+ACoA4gRaEmYizjk6WUZ+cqQ61f8HEzrHcFuvC+YIIJxd8JVIzekDGTA1YKGL2aldyM3h3fBN//n82f718nHjhcp5r7mLsWL1NhEFtNKQmVxi3Cff6R+za3eLPjcIKtoKqHKD+lkSPCollhGSBEoB0gIeCRYaii4qS55qcpIevhbtsyA/WQuTS8o8BRxDIHuAsYDoZR+BSjV37ZgxvonWoeg1+xX/Lfx1+wnrGdTlvMmfLXSVTZUexOjYtIR+iEOoBLfOb5GbWvsjSu8+v3KQfm7mSyItihpmCe4APgFeBTYToiBmPyZbgnz6qv7U9wo3Pgt3t65z6XAn9F00mGjQ2QXRNq1i0Ym1ruHJ+eKl8LH/+fx1/jHxTeIByKGtjYk9YD03JQKYz1CWAF90IHfpw6wndGM/OwVi14KmNn4KW3Y66iC2ERYEMgIaAs4KJhv2L/JJtmzWlMbA+vDDJ3dYX5avzaQIfEZwfrC0iO85HhVMhXnxneG/4deZ6Mn7Sf75/932EenB1zW6wZjZdf1KvRu85aixNHsoPEAFU8sbjmNX6xxq7Ja9DpJmaSZJtix6GboJpgBaAd4GGhDmJgI9Gl3Gg4KpxtvzCV9BV3sTsdfs1CtMYHCfhNPFBIU5HWT5j42sYc8Z42nxEf/1/A39ZfAh4HnKwatdhsVdhTAxA3jIDJaoWBAhD+ZnqN9xPzhDBp7Q/qf6eB5Z4jmyI9oMngQeAm4Dggs+GWoxuk/Wbz6XcsPe89sms1+zlhPRDA/cRbyB4LuM7gkgqVLRe/Gfib0t2IntWftx/r3/QfUR6GXVfbi1moFzYUflFLDmdK3kd8Q42AHzx8eLK1DbHY7p8rqyjFZrZkRSL3IVFglmAH4CYgcCEi4npj8SXAqGDqyS3vMMi0SffnO1P/A4LqRnsJ6c1rELNTuNZx2NXbHdzDnkJfVp/+3/ofiV8u3e6cTdqSmERV7FLTz8WMjIk0xUqB2r4wulm24bNU8D4s5+ocJ6NlRSOH4jBgwuBBICxgA6DFYe4jOOTfZxqpoixsb28ynvYweZe9R0EzxJCIUMvozw1Sc5URl97aEtwnnZde3h+5X+ff6d9A3rAdPBtqWUJXDBRQkVpONAqpRwZDl3/o/Ad4v3Tc8asudWtFaOSmWqRvIqchRyCSYApgLuB+4TeiVOQQ5iVoSis2Ld9xO3R+t907in96At+GrsobTZlQ3lPflpPZMts1HNUeTd9cH/3f8p+73ttd1ZxvGm7YHFWAUuRPk0xYSP8FFAGkPfr6JXavsyWv0mzAKjknRWVsY3Th46D8IACgMiAPoNehxeNWJQHnQanNbJsvoLLS9mX5zf29wSnExQiDTBjPedJcVXXX/hos3Dvdpd7mX7tf45/fX3AeWZ0f20kZXFbh1CLRKU3AirQG0ANg/7L70nhMdOwxfa4Lq2Aog+Z/ZBlil2F9oE8gDSA4IE4hTOKvpDEmCmizayMuD/FudLN4EzvA/7BDFMbiSkyNx5EI1AXW9ZkPW0xdJl5Y32Df/F/rH64ex538HBBaSxg0FVQStM9hDCPIiUUdwW39hXoxdn3y9q+m7Jjp1idnZRQjYmHW4PWgAKA4IBwg6eHeI3OlJKdpKfisie/Scwb2m7oEPfRBX4U5iLXMCI+mUoTVmdgdGkacT93z3u5fvR/e39RfX15C3QObZ5k2FrdT9JD4DY0KfsaZwyp/fPuduBl0u/EQbiIrOuhjpiRkBCKH4XRgS+AQYAGgneFiYoqkUWZvaJzrUG5AcaF06HhJPDd/pkNKBxXKvY310TNULBbXGWubYt03HmOfZV/6n+Mfn97znaJcMRonF8uVZ5JFD25L70hThOdBN31P+f12DDLH77tscamzpwnlPCMQIcqg76AA4D7gKOD8ofajUaVHZ5CqJGz5L8RzevaROnq96oGVRW3I6Ax4D5KS7RW9mDvaX9xjncFfNd++H9nfyR9N3muc5tsF2Q+WjJPGUMbNmUoJhqOC8/8G+6j35nRLcSNt+SrWKEPmCeQvInjhK2BJYBQgC2CtoXgipiRyJlToxqu97nDxlLUdeL98Lf/cg79HCUrujiORXVRSFzgZR5u5XQeerh9pn/if2p+RXt8diBwRmgKX4pU60hUPO8u6yB2EsMDBPVp5ibYaspkvUGxKqZFnLKTkYz4hvuCp4AFgBaB14M+iD2Ov5WrnuGoQLShwNnNvNsb6sT4hAcsFokkaTKdP/pLU1eEYWlq5HHbdzp88378f1F/9nzxeFBzJ2yOY6NZhk5fQlU1lidQGbUK9ftD7dDeztBtw9q2QKvGoJCXvY9piaiEioEbgF+AVoL3hTiLB5JLmuqjwq6uuofHH9VJ49XxkABLD9Ed8it9OUVGHVLeXGNmjG49dV964H21f9h/SH4Keyl2tm/HZ3he5lM3SJM7JC4YIJ4R6QIr9JTlV9ekyaq8lrCPpbybP5MzjLKGzYKSgAmAM4ENhIyIoo45ljmfganwtF/Bos6O3PLqnfleCAMXWSUxM1pAqUzyVxFi4WpGcid4bnwOf/5/On/GfKh48XKyawVjB1naTaRBjzTHJnsY2wkb+2vs/t0E0K3CJ7adqjWgEpdVjxiJboRpgROAcYCAgjqGkot3ktCagqRrr2a7S8jt1R7krvJqASMQpR6+LD86+kbEUnRd5mb6bpR1nnoHfsN/zX8jfs161HVLb0dn5F1BU4NH0jpYLUQfxhAPAlLzv+SI1t/I8bvrr/WkNZvNkteLbYaggn6ADoBSgUSE24gIj7WWyJ8jqqG1HcJsz1/dyet3+jcJ2RcqJvgzFkFXTZBYnGJZa6hycXihfCh//n8if5R8X3iQcjxremJqWCxN6EDIM/clpBcCCUL6lOss3TrP7sF2tfuppZ+Wlu+Ox4g2hEqBDYCDgKuCfobui+iSVpsbpRWwH7wPybvW8+SH80QC+xB4H4otATuvR2pTCF5nZ2Zv6XXceix+0H/Af/59j3p/dd9uxmZPXZtSzkYQOowscR7uDzUBefLq47rVGsg5u0GvXaSwmluSfIsphnWCbIAVgHGBfIQriW+PMZdYoMWqU7bcwjbQMd6g7FH7EQqvGPomvzTSQQROLVknY89rCHO6eNF8QH/+fwh/YnwUeC5yxGruYctXfkwsQAAzJiXOFigIaPm96lrccc4wwcW0WqkWnxuWiY55iP+DLIEIgJeA2ILDhkqMW5Pem7WlwLDYvNTJidfI5WD0HgPTEUsgVi7CO2RID1ScXudn0G89dhh7UH7bf7J/1n1Peid1cW5DZrlc9FEYRk05vyudHRYPWwCg8RXj7dRXx4G6ma7Foyua7JEji+eFS4JbgB2Ak4G2hH2J14+vl+qgaKsGt5zDANEE33jtK/zqCoUZySeGNYxCsU7JWbBjRGxncwJ5AX1Xf/t/7H4tfMh3y3FLamFhLFfPS28/ODJVJPcVTweO+ObpiduozXLAFbS6qIieoZUljiyIyoMPgQSArYAHgwmHqIzPk2acUKZrsZK9mspZ2J7mOfX4A6sSHiEhL4M8F0mzVC5fZWg6cJB2U3tzfuR/on+ufQ56z3QCbsBlI1xMUWFFijjyKskcPQ6C/8fwQeIf1JPGy7nxrS6jp5l9kcqKp4UjgkyAJ4C1gfGE0IlBkC6YfKEMrLm3XcTL0dffUO4F/cMLWhqYKEw2RkNcT2RaOGS4bMVzSHkvfWx/93/Pfvh7e3dncdFp02CMVh9LsT5vMYQjIBV1BrX3D+m42uDMtb9msxuo+50plcKN4IeWg/SAAoDEgDaDUYcHjUSU8JzsphiyTL5hyyjZc+cT9tIEgxPxIesvQz3KSVZVv1/jaKJw4naNe5R+7H+Rf4R9zHl1dJJtO2WLW6NQqUTGNyUq9BtkDaj+7+9t4VPT0cUVuUqtmaIlmRCRc4pnhfyBPoAygNqBLoUkiqyQrpgQorGsbrgexZfSquAo79/9nAwwG2cpETf/QwdQ/lq/ZCptIXSNeVx9gH/yf7F+wXssdwFxVmlEYOtVbkrzPaUwsiJJFJsF2/Y56OjZGMz5vriyfadvnbGUYI2Vh2SD2oABgNyAaIObh2iNupR6nYmnxbIIvyjM+NlK6Oz2rAVaFMMitTACPntK+FVPYF9pCXEyd8V7s37zf35/WH2IeRp0IW21ZPJa+U/xQwE3VikfG4sMzv0X75ngh9IPxWC4pKwEoqSYo5AeiimF14ExgD+A/4FshXqKGJEvmaSiV60jueDFY9N94QDwuf51DQUcNSrVN7hEsFCXW0Vlm218dNF5h32Sf+t/kX6Je9t2mnDZaLRfSVW8STQ92y/gIXITwQQC9mPnGNlRyz6+CrLgpuWcO5QAjUyHM4PCgAKA9oCag+WHyY0ylQaeJ6hzs8S/78zI2iDpxfeGBjEVlCN+McA+LEuZVt5g22lvcYF3/HvSfvh/an8sfUN5vnOvbC5kWFpPTzhDPDaIKEoasgv0/D/uxt+70U7Eq7f/q3GhJJg5kMqJ7YSzgSaATYAmgqyF0YqFkbKZOqP+rdm5o8Yv1FHi2PCT/04O2RwCK5k4b0VZUS5cymULbtZ0E3qxfaN/439wfk97inYycFxoI1+mVAlJdDwRLw4hmhLnAyj1jeZI2IvKg71esUSmW5zGk6GMBIcDg6uABYARgc6DMogsjquVk57GqCO0gcC4zZnb9+mf+GAHCBZmJEcyfj/cSzlXbGFVatNxzncyfO5++39Vf/18/HhgcztspWO9WaNOfkJ2NbkndBnZChr8Z+3z3vDQjcP4tlur3qCll8+Pd4myhJCBHYBdgE+C7IUqi/SRNZrRo6aukLpmx/3UJuOx8WwAJg+tHc8rXDkmRgFSxVxOZnpuLnVUetp9s3/af05+FHs3dshv3WeQXgJUVkizO0YuOyDCEQ0DT/S35XnXxcnJvLKwqaXTm1KTQ4y9htWCloAIgC6BBIR/iJGOJZYhn2ap07Q/wYDOatzO6nn5OQjfFjYlDzM7QItM2Ff5Yc1qNnIaeGZ8Cn/+fz5/zny1eAFzxmscYyFZ903DQbA06SaeGAAKQPuP7CHeJtDNwkW2uKpNoCeXZ48liXiEb4EVgG6AeYIvhoOLZJK6mmikT69HuyrIytX644ryRgH/D4EenCwfOtxGqFJbXdBm526FdZN6AX7Bf89/KX7XeuN1XW9dZ/1dXVOhR/I6ei1oH+oQMwJ28+Lkq9YAyRC8CLAPpUyb4JLmi3iGqIKCgA2ATIE6hM6I9o6glrCfB6qEtf3BSs883aXrU/oTCbUXBybXM/dAOk12WIViRWuYcmV4mHwkf/5/Jn+dfGt4oHJQa5FihFhJTQhB6TMZJsgXJglm+rjrT91czw7ClLUWqr2fq5YAj9WIP4RPgQ6AgICkgnKG3ovVkkCbAaX4rwC87siY1s/kY/MgAtcQVR9oLeE6kUdOU+9dUWdUb9t10nomfs5/wn8Efpl6jXXxbtxmaF23UuxGMDquLJQeEhBZAZ3yDeTd1TvIWLter3akxppukouLNYZ8gm+AFIBsgXOEHoldjxyXQKCpqjW2vMIU0A7efOws++wJixjXJp40skHnTRNZEGO7a/hyrnjJfDx//n8Mf2p8IXg/cthqBmLmV5tMTEAhM0kl8hZNCIz54ep93JLOUMHjtHWpLp8wlpqOhogIhDGBCYCUgNGCt4Y7jEiTx5ubpaOwubyzyWfXpOU89PoCrxEoIDQuojtGSPNTg17RZ79vL3YOe0p+2X+0f919Wno2dYRuWWbTXBBSNkZuOeIrwB06D38AxPE54w/Vd8egurWu3qNBmv6RMovyhVKCXoAcgI2BrIRvicaPmpfRoEyr6LZ8w97Q4d5U7Qb8xgphGaYnZTVtQpROr1mZYzBsV3P2ePl8U3/8f/F+NnzVd9xxX2p5YUdX7EuPP1kyeCQbFnMHs/gK6qzbys2SwDK01aifnraVNY44iNODFIEFgKmA/4L+hpiMu5NPnDamTrFyvXnKNth65hX11AOHEvsg/y5jPPlIl1QWX1BoKHCCdkp7bX7jf6V/tX0Zet50FW7WZTxcaFGARas4FSvsHGEOpv/s8GTiQtS0xum5Da5Ho72Zj5HZirGFKoJOgCWAsIHnhMKJL5AYmGOh8KubtzzEqdGz3yvu4PyfCzcadSgqNidDP09KWiFkpGy1cz15KH1pf/h/1H4BfIh3eHHmaetgp1Y8S9E+kDGnI0QVmQbZ9zPp29oBzdW/g7M2qBOePZXSjeyHn4P4gAKAwIAug0WH94wwlNic0qb7sS2+P8sF2VDn7vWuBF8TzSHJLyM9rEk6VadfzmiRcNR2g3uOfut/lH+Lfdd5hHSlbVFlpFvAUMhE5zdHKhgciQ3M/hPwkOF10/HFM7lmrbKiO5kikYKKcoUDgkCAMIDTgSSFFoqakJiY96GVrE+4/sR10obgA++6/XgMDBtEKfA24EPqT+RaqWQXbRJ0gnlVfX1/83+2fsp7OXcScWtpXGAGVotKEz7HMNYibRTABf/2XegL2jrMGb/Vspenh53FlHCNoYdsg96AAoDYgF+DjodXjaeUY51vp6iy6L4GzNXZJujH9ogFNhSfIpMw4j1eSt1VN2BLafhwJXe8e65+8n+Cf2B9k3kpdDRty2QMWxZQEEQiN3kpQxuwDPL9O++94KnSL8V+uMCsHaK6mLWQLIo0hd2BM4A9gPmBYoVsigaRGZmLojutBbm/xUHTWuHc75T+UQ3hGxIqtDeZRJRQfVsvZYhtbXTGeYB9j3/tf5d+knvpdqtw7mjMX2RV2klUPf0vBCKWE+YEJvaH5zvZc8tdviey+qb8nE+UEI1YhzuDxoACgPKAkoPZh7mNHpXunQ2oVrOlv87Mpdr86KH3YQYNFXEjXTGgPg9LflbGYMZpXnF0d/N7zX73f25/M31Pec1zwmxEZHJaa09XQ102qyhuGtcLGP1j7urf3dFuxMq3G6yJoTmYSpDYifeEuYEogEuAIIKhhcKKc5GcmSGj4q26uYLGDdQu4rTwbv8pDrUc4Cp4OFFFPVEVXLRl+G3HdAh6qn2hf+V/dn5Ze5h2Q3BxaDtfwVQnSZQ8My8xIb4SDARN9bHma9isyqK9e7FepnKc2ZOxjBCHC4OvgASADYHFgyWIHI6WlXuerKgFtGHAls1229Ppe/g7B+QVQyQmMl4/v0seV1VhQGrCccF3KXzqfvt/WX8FfQh5cHNObLxj11nATp1CmDXcJ5gZ/Qo+/IvtF98S0a7DFrd3q/egupfhj4SJu4SWgR6AWoBIguGFG4vikR+at6OKrnG6Rcfa1ALjjfFHAAIPih2tKzw5B0blUaxcOGZnbiB1SXrTfbB/239Tfh57RXbab/JnqV4dVHRI1DtoLl4g5xEyA3P02+Wc1+bJ6LzPsMOl6ptlk1OMyYbcgpmAB4ApgfuDcoiAjhCWCZ9LqbW0H8FfzkfcqupU+RUIuxYTJe4yG0BuTL1X4mG5aiVyDXhdfAV//X9Cf9Z8wXgRc9lrM2M7WRRO40HRNAwnwhgkCmX7tOxE3kjQ7sJjttOqZaA8l3iPM4mBhHSBFoBrgHGCI4Z0i1GSpJpPpDKvKLsJyKjV1+Nl8iEB2w9eHnos/jm+RoxSQl26ZtVud3WJevp9v3/RfzB+4XrxdW9vcmcWXnlTwEcTO50tix8PEVgCmvMG5c3WIckvvCSwKaVjm/OS9ouEhq+ChYAMgEeBMYTAiOWOi5aYn+ypZrXdwSjPGd2B6y767giRF+QltjPXQB1NW1huYjFrh3JYeJB8H3/+fyp/pXx4eLFyY2upYp5YZ00nQQ==\" type=\"audio/wav\" />\n",
       "                    Your browser does not support the audio element.\n",
       "                </audio>\n",
       "              "
      ],
      "text/plain": [
       "<IPython.lib.display.Audio object>"
      ]
     },
     "metadata": {},
     "output_type": "display_data"
    },
    {
     "name": "stdout",
     "output_type": "stream",
     "text": [
      "\n",
      "\n",
      "Column 2\n",
      "Vector state with shape (4,)\n",
      "(0.33-0.14j)\n",
      "(0.14-0.6j)\n",
      "(0.14+0.33j)\n",
      "(0.6+0.14j)\n",
      "---\n",
      "Vector phases with shape (4,)\n",
      "-0.39\n",
      "-1.35\n",
      "1.18\n",
      "0.22\n",
      "---\n",
      "Vector probabilities with shape (4,)\n",
      "0.13\n",
      "0.37\n",
      "0.12\n",
      "0.38\n",
      "---\n",
      "Phase -0.39269908169872403 maps to C4\n",
      "Phase -1.348015699823233 maps to B4\n",
      "Phase 1.1780972450961724 maps to E4\n",
      "Phase 0.2227806269716632 maps to C4\n",
      "notes [('C4', 261.63), ('B4', 493.88), ('E4', 329.63), ('C4', 261.63)]\n"
     ]
    },
    {
     "data": {
      "text/html": [
       "\n",
       "                <audio  controls=\"controls\" autoplay=\"autoplay\">\n",
       "                    <source src=\"data:audio/wav;base64,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\" type=\"audio/wav\" />\n",
       "                    Your browser does not support the audio element.\n",
       "                </audio>\n",
       "              "
      ],
      "text/plain": [
       "<IPython.lib.display.Audio object>"
      ]
     },
     "metadata": {},
     "output_type": "display_data"
    },
    {
     "data": {
      "text/html": [
       "\n",
       "                <audio  controls=\"controls\" autoplay=\"autoplay\">\n",
       "                    <source src=\"data:audio/wav;base64,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\" type=\"audio/wav\" />\n",
       "                    Your browser does not support the audio element.\n",
       "                </audio>\n",
       "              "
      ],
      "text/plain": [
       "<IPython.lib.display.Audio object>"
      ]
     },
     "metadata": {},
     "output_type": "display_data"
    },
    {
     "data": {
      "text/html": [
       "\n",
       "                <audio  controls=\"controls\" autoplay=\"autoplay\">\n",
       "                    <source src=\"data:audio/wav;base64,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\" type=\"audio/wav\" />\n",
       "                    Your browser does not support the audio element.\n",
       "                </audio>\n",
       "              "
      ],
      "text/plain": [
       "<IPython.lib.display.Audio object>"
      ]
     },
     "metadata": {},
     "output_type": "display_data"
    },
    {
     "data": {
      "text/html": [
       "\n",
       "                <audio  controls=\"controls\" autoplay=\"autoplay\">\n",
       "                    <source src=\"data:audio/wav;base64,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\" type=\"audio/wav\" />\n",
       "                    Your browser does not support the audio element.\n",
       "                </audio>\n",
       "              "
      ],
      "text/plain": [
       "<IPython.lib.display.Audio object>"
      ]
     },
     "metadata": {},
     "output_type": "display_data"
    },
    {
     "name": "stdout",
     "output_type": "stream",
     "text": [
      "\n",
      "\n"
     ]
    }
   ],
   "source": [
    "# Iterate through circuit\n",
    "prev_state_vector = get_state_vector(sub_circuits[0])\n",
    "for i in range(1, len(sub_circuits)):\n",
    "    print(f'Column {i}')\n",
    "    sub_circuit = sub_circuits[i]\n",
    "    unitary_matrix = get_unitary_matrix(sub_circuit)\n",
    "    \n",
    "    # Multiply this column's unitary matrix with previous state_vector\n",
    "    state_vector = np.matmul(unitary_matrix, prev_state_vector)\n",
    "    print_vector(state_vector, comment='state')\n",
    "    print_vector(get_phases(state_vector), comment='phases')\n",
    "    print_vector(get_probabilities(state_vector), comment='probabilities')\n",
    "    \n",
    "    notes = get_notes(state_vector)\n",
    "    print('notes', notes)\n",
    "    \n",
    "    # Sounds horrible!\n",
    "    play_notes(notes)\n",
    "    sleep(1) # Add some delay\n",
    "        \n",
    "    # Update this state vector to next iteration's prev_state_vector\n",
    "    prev_state_vector = state_vector\n",
    "        \n",
    "    print('\\n')"
   ]
  },
  {
   "cell_type": "code",
   "execution_count": null,
   "id": "2a614613",
   "metadata": {},
   "outputs": [],
   "source": []
  }
 ],
 "metadata": {
  "kernelspec": {
   "display_name": "Python 3",
   "language": "python",
   "name": "python3"
  },
  "language_info": {
   "codemirror_mode": {
    "name": "ipython",
    "version": 3
   },
   "file_extension": ".py",
   "mimetype": "text/x-python",
   "name": "python",
   "nbconvert_exporter": "python",
   "pygments_lexer": "ipython3",
   "version": "3.8.8"
  }
 },
 "nbformat": 4,
 "nbformat_minor": 5
}
