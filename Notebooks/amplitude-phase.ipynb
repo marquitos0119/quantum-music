{
 "cells": [
  {
   "cell_type": "code",
   "execution_count": 18,
   "id": "3f6ed423",
   "metadata": {},
   "outputs": [
    {
     "name": "stderr",
     "output_type": "stream",
     "text": [
      "ibmqfactory.load_account:WARNING:2021-05-06 21:46:03,084: Credentials are already in use. The existing account in the session will be replaced.\n"
     ]
    }
   ],
   "source": [
    "import cmath\n",
    "import numpy as np\n",
    "# Importing standard Qiskit libraries\n",
    "from qiskit import QuantumCircuit, transpile, Aer, IBMQ, execute, QuantumRegister, ClassicalRegister\n",
    "from qiskit.tools.jupyter import *\n",
    "from qiskit.visualization import *\n",
    "from ibm_quantum_widgets import *\n",
    "\n",
    "# Loading your IBM Q account(s)\n",
    "provider = IBMQ.load_account()"
   ]
  },
  {
   "cell_type": "code",
   "execution_count": 10,
   "id": "58c17a42",
   "metadata": {},
   "outputs": [],
   "source": [
    "# Setup simulators\n",
    "state_vector_sim = Aer.get_backend('statevector_simulator')\n",
    "unitary_sim = Aer.get_backend('unitary_simulator')\n",
    "\n",
    "# Define helper functions\n",
    "def get_state_vector(circuit):\n",
    "    return state_vector_sim.run(circuit).result().get_statevector()\n",
    "\n",
    "def get_unitary_matrix(circuit):\n",
    "    return execute(circuit, unitary_sim).result().get_unitary()\n",
    "\n",
    "def get_amplitudes(matrix):\n",
    "    \"\"\"Can also pass in a state vector\"\"\"\n",
    "    return abs(matrix)\n",
    "\n",
    "def get_phases(matrix):\n",
    "    \"\"\"Can also pass in a state vector\"\"\"\n",
    "    return np.angle(matrix)\n",
    "\n",
    "# Pretty-printing\n",
    "def print_matrix(matrix):\n",
    "    for row in matrix:\n",
    "        for num in row:\n",
    "            print(f\"{np.around(num, 2)}   \", end='')\n",
    "        print('')\n",
    "    print('\\n---')\n",
    "    \n",
    "def print_vector(svec):\n",
    "    for num in svec:\n",
    "        print(np.around(num, 2))\n",
    "    print('---')"
   ]
  },
  {
   "cell_type": "code",
   "execution_count": 13,
   "id": "dacfda1d",
   "metadata": {},
   "outputs": [
    {
     "data": {
      "image/png": "[encoded data removed]",
      "text/plain": [
       "<Figure size 253.926x144.48 with 1 Axes>"
      ]
     },
     "execution_count": 13,
     "metadata": {},
     "output_type": "execute_result"
    }
   ],
   "source": [
    "# Insert quantum circuit here\n",
    "qasm = \"\"\"\n",
    "OPENQASM 2.0;\n",
    "include \"qelib1.inc\";\n",
    "\n",
    "qreg q[1];\n",
    "creg c[1];\n",
    "\n",
    "x q[0];\n",
    "h q[0];\n",
    "sx q[0];\n",
    "\"\"\"\n",
    "qc = QuantumCircuit.from_qasm_str(qasm)\n",
    "qc.draw()"
   ]
  },
  {
   "cell_type": "code",
   "execution_count": 14,
   "id": "26e3eebf",
   "metadata": {},
   "outputs": [
    {
     "name": "stdout",
     "output_type": "stream",
     "text": [
      "State vector\n",
      "0.71j\n",
      "(-0-0.71j)\n",
      "---\n",
      "Unitary Matrix\n",
      "0.71j   (0.71-0j)   \n",
      "-0.71j   (0.71+0j)   \n",
      "\n",
      "---\n",
      "Amplitudes\n",
      "0.71   0.71   \n",
      "0.71   0.71   \n",
      "\n",
      "---\n",
      "Phases\n",
      "1.57   -0.0   \n",
      "-1.57   0.0   \n",
      "\n",
      "---\n"
     ]
    }
   ],
   "source": [
    "print('State vector')\n",
    "sv = get_state_vector(qc)\n",
    "print_vector(sv)\n",
    "\n",
    "print('Unitary Matrix')\n",
    "um = get_unitary_matrix(qc)\n",
    "print_matrix(um)\n",
    "\n",
    "print('Amplitudes')\n",
    "amps = get_amplitudes(um)\n",
    "print_matrix(amps)\n",
    "\n",
    "print('Phases')\n",
    "phases = get_phases(um)\n",
    "print_matrix(phases)"
   ]
  },
  {
   "cell_type": "code",
   "execution_count": 45,
   "id": "18190621",
   "metadata": {},
   "outputs": [
    {
     "name": "stdout",
     "output_type": "stream",
     "text": [
      "Phases Chart\n",
      "π/1: 3.14\n",
      "π/2: 1.57\n",
      "π/3: 1.05\n",
      "π/4: 0.79\n"
     ]
    }
   ],
   "source": [
    "\"\"\"\n",
    "The range of np.angle is (-pi, pi]. After reaching an angle of π,\n",
    "the angle measures clockwise from 1+0i (and the angle is negative).\n",
    "\n",
    "For example, π/2 = 1.57, and 3π/2 = -1.57\n",
    "\"\"\"\n",
    "print('Phases Chart')\n",
    "for i in range(1, 5):\n",
    "    print(f'π/{i}: {np.round(np.pi/i, 2)}')"
   ]
  },
  {
   "cell_type": "code",
   "execution_count": 46,
   "id": "baf82d0a",
   "metadata": {},
   "outputs": [
    {
     "name": "stdout",
     "output_type": "stream",
     "text": [
      "[ 1.57079633 -1.57079633]\n"
     ]
    }
   ],
   "source": [
    "# Examples on np.angle\n",
    "cnums = [complex(0, np.pi/2), complex(0, -np.pi/2)]\n",
    "print(np.angle(cnums))"
   ]
  },
  {
   "cell_type": "code",
   "execution_count": null,
   "id": "90641cc7",
   "metadata": {},
   "outputs": [],
   "source": []
  }
 ],
 "metadata": {
  "kernelspec": {
   "display_name": "Python 3",
   "language": "python",
   "name": "python3"
  },
  "language_info": {
   "codemirror_mode": {
    "name": "ipython",
    "version": 3
   },
   "file_extension": ".py",
   "mimetype": "text/x-python",
   "name": "python",
   "nbconvert_exporter": "python",
   "pygments_lexer": "ipython3",
   "version": "3.8.8"
  }
 },
 "nbformat": 4,
 "nbformat_minor": 5
}
