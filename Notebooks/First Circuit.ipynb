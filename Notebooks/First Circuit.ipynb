{
 "cells": [
  {
   "cell_type": "markdown",
   "metadata": {},
   "source": [
    "# Quantum Hearing\n",
    "The goal of this project is to design an alternative way for anyone interested in quantum computing to experience quantum state evolution through music."
   ]
  },
  {
   "cell_type": "code",
   "execution_count": 38,
   "metadata": {
    "hide_input": true,
    "tags": [
     "hide-input"
    ]
   },
   "outputs": [],
   "source": [
    "from qiskit import QuantumRegister, ClassicalRegister\n",
    "from qiskit import QuantumCircuit, BasicAer, execute\n",
    "from qiskit.visualization import plot_bloch_multivector\n",
    "from ipywidgets import widgets\n",
    "import math"
   ]
  },
  {
   "cell_type": "code",
   "execution_count": 2,
   "metadata": {
    "tags": [
     "hide-input"
    ]
   },
   "outputs": [],
   "source": [
    "def get_unitary(circuit):\n",
    "    backend = BasicAer.get_backend(\"unitary_simulator\")\n",
    "    job_sim = execute(circuit, backend)\n",
    "    result_sim = job_sim.result()\n",
    "    output_state = result_sim.get_unitary(circuit, decimals=3)\n",
    "    return output_state\n",
    "\n",
    "def get_statevector(circuit):\n",
    "    backend = BasicAer.get_backend('statevector_simulator')\n",
    "    job = execute(circuit, backend)\n",
    "    return job.result().get_statevector(circuit)"
   ]
  },
  {
   "cell_type": "code",
   "execution_count": 3,
   "metadata": {},
   "outputs": [],
   "source": [
    "qasm = widgets.Text()\n",
    "\n",
    "input_text = widgets.Text(\n",
    " placeholder='Your QASM here',\n",
    " description='Raw QASM:'\n",
    " )\n",
    "\n",
    "def bind_input_to_output(sender):\n",
    "    qasm.value = input_text.value\n",
    "\n",
    "input_text.on_submit(bind_input_to_output)"
   ]
  },
  {
   "cell_type": "markdown",
   "metadata": {},
   "source": [
    "## QASM\n",
    "Insert QASM code below and hit enter to save input"
   ]
  },
  {
   "cell_type": "code",
   "execution_count": 27,
   "metadata": {},
   "outputs": [
    {
     "data": {
      "application/vnd.jupyter.widget-view+json": {
       "model_id": "c3f27ccf92eb42ebbc80be0034ec78f3",
       "version_major": 2,
       "version_minor": 0
      },
      "text/plain": [
       "Text(value='OPENQASM 2.0; include \"qelib1.inc\";  qreg q[1]; creg c[1];  h q[0]; s q[0];', description='Raw QAS…"
      ]
     },
     "metadata": {},
     "output_type": "display_data"
    }
   ],
   "source": [
    "input_text\n",
    "# Insert QASM code below and hit enter to save input"
   ]
  },
  {
   "cell_type": "code",
   "execution_count": 32,
   "metadata": {},
   "outputs": [
    {
     "data": {
      "text/html": [
       "<pre style=\"word-wrap: normal;white-space: pre;background: #fff0;line-height: 1.1;font-family: &quot;Courier New&quot;,Courier,monospace\">     ┌───┐┌───┐\n",
       "q_0: ┤ H ├┤ S ├\n",
       "     └───┘└───┘\n",
       "c: 1/══════════\n",
       "               </pre>"
      ],
      "text/plain": [
       "     ┌───┐┌───┐\n",
       "q_0: ┤ H ├┤ S ├\n",
       "     └───┘└───┘\n",
       "c: 1/══════════\n",
       "               "
      ]
     },
     "metadata": {},
     "output_type": "display_data"
    }
   ],
   "source": [
    "try:\n",
    "    circuit = QuantumCircuit.from_qasm_str(qasm.value)\n",
    "    vector = get_statevector(circuit)\n",
    "    unitary = get_unitary(circuit)\n",
    "    display(circuit.draw())\n",
    "    num_qubits = circuit.num_qubits\n",
    "    if num_qubits >= 2:\n",
    "        display(plot_bloch_multivector(vector))\n",
    "except:\n",
    "    print(\"Either no circuit was input or you forgot to hit enter \\U0001f600\")"
   ]
  },
  {
   "cell_type": "code",
   "execution_count": 39,
   "metadata": {},
   "outputs": [
    {
     "name": "stdout",
     "output_type": "stream",
     "text": [
      "['h', 's']\n",
      "['0', '0']\n"
     ]
    }
   ],
   "source": [
    "lines = qasm.value.split(';')[4:-1]\n",
    "gates = []\n",
    "qubit = []\n",
    "gate_phases = {\"s\":(math.pi/2), \"sdg\":(-math.pi/2), \"t\":(math.pi/4), \"tdg\":(-math.pi/4)}\n",
    "for i,line in enumerate(lines):\n",
    "    lines[i] = line.strip()\n",
    "    gates.append(lines[i].split(' ')[0])\n",
    "    qubit.append(lines[i].split(' ')[1][2])\n",
    "print(gates)\n",
    "print(qubit)"
   ]
  },
  {
   "cell_type": "code",
   "execution_count": 35,
   "metadata": {},
   "outputs": [
    {
     "name": "stdout",
     "output_type": "stream",
     "text": [
      "[[ 7.07106781e-01+0.00000000e+00j  7.07106781e-01-8.65956056e-17j]\n",
      " [ 4.32978028e-17+7.07106781e-01j -1.29893408e-16-7.07106781e-01j]]\n",
      "[7.07106781e-01+0.j         4.32978028e-17+0.70710678j]\n"
     ]
    }
   ],
   "source": [
    "print(unitary)\n",
    "print(vector)"
   ]
  }
 ],
 "metadata": {
  "celltoolbar": "Tags",
  "kernelspec": {
   "display_name": "Python 3",
   "language": "python",
   "name": "python3"
  },
  "language_info": {
   "codemirror_mode": {
    "name": "ipython",
    "version": 3
   },
   "file_extension": ".py",
   "mimetype": "text/x-python",
   "name": "python",
   "nbconvert_exporter": "python",
   "pygments_lexer": "ipython3",
   "version": "3.8.3"
  }
 },
 "nbformat": 4,
 "nbformat_minor": 4
}
