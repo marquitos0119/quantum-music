{
 "cells": [
  {
   "cell_type": "code",
   "execution_count": 1,
   "id": "21c6b0dd",
   "metadata": {},
   "outputs": [],
   "source": [
    "import numpy as np\n",
    "# Importing standard Qiskit libraries\n",
    "from qiskit import QuantumCircuit, transpile, Aer, IBMQ, execute\n",
    "from qiskit.tools.jupyter import *\n",
    "from qiskit.visualization import *\n",
    "from ibm_quantum_widgets import *\n",
    "\n",
    "from qiskit.circuit.library import QFT\n",
    "\n",
    "# Loading your IBM Q account(s)\n",
    "provider = IBMQ.load_account()"
   ]
  },
  {
   "cell_type": "code",
   "execution_count": 2,
   "id": "4e63ad06",
   "metadata": {},
   "outputs": [
    {
     "data": {
      "text/plain": [
       "'Creates a list of sub-circuits of a QuantumCircuit'"
      ]
     },
     "execution_count": 2,
     "metadata": {},
     "output_type": "execute_result"
    }
   ],
   "source": [
    "\"\"\"Creates a list of sub-circuits of a QuantumCircuit\"\"\""
   ]
  },
  {
   "cell_type": "code",
   "execution_count": 3,
   "id": "c8d22de5",
   "metadata": {},
   "outputs": [],
   "source": [
    "# Setup simulators\n",
    "state_vector_sim = Aer.get_backend('statevector_simulator')\n",
    "unitary_sim = Aer.get_backend('unitary_simulator')\n",
    "\n",
    "# Define helper functions\n",
    "def get_state_vector(circuit):\n",
    "    return state_vector_sim.run(circuit).result().get_statevector()\n",
    "\n",
    "def get_unitary_matrix(circuit):\n",
    "    return execute(circuit, unitary_sim).result().get_unitary()\n",
    "\n",
    "# Pretty-printing\n",
    "def print_matrix(matrix):\n",
    "    for row in matrix:\n",
    "        for num in row:\n",
    "            print(f\"{np.around(num, 2)}   \", end='')\n",
    "        print('')\n",
    "    print('\\n---')\n",
    "    \n",
    "def print_state_vector(svec):\n",
    "    for num in svec:\n",
    "        print(np.around(num, 2))\n",
    "    print('---')"
   ]
  },
  {
   "cell_type": "code",
   "execution_count": 4,
   "id": "dc036072",
   "metadata": {},
   "outputs": [
    {
     "data": {
      "image/png": "[encoded data removed]",
      "text/plain": [
       "<Figure size 688.597x204.68 with 1 Axes>"
      ]
     },
     "execution_count": 4,
     "metadata": {},
     "output_type": "execute_result"
    }
   ],
   "source": [
    "# Place circuit here\n",
    "circuit = QFT(3)\n",
    "\n",
    "# GHZ\n",
    "# circuit = QuantumCircuit(3)\n",
    "# circuit.h(0)\n",
    "# circuit.cx(0, 1)\n",
    "# circuit.cx(0, 2)\n",
    "\n",
    "circuit.draw()"
   ]
  },
  {
   "cell_type": "code",
   "execution_count": 5,
   "id": "d3996316",
   "metadata": {},
   "outputs": [
    {
     "name": "stdout",
     "output_type": "stream",
     "text": [
      "7 sub circuits\n"
     ]
    }
   ],
   "source": [
    "# Each sub-circuit will have the same number of qubits as the original circuit\n",
    "num_qubits = circuit.num_qubits\n",
    "sub_circuits = []\n",
    "\n",
    "# https://qiskit.org/documentation/stubs/qiskit.circuit.QuantumCircuit.html#qiskit.circuit.QuantumCircuit.data\n",
    "for (insn, qargs, cargs) in circuit.data:\n",
    "    #print(insn)\n",
    "    #print(qargs)\n",
    "    #print(cargs)\n",
    "    sub_circuit = QuantumCircuit(num_qubits)\n",
    "    \n",
    "    #state_vector = get_state_vector(sub_circuit)\n",
    "    #print_state_vector(state_vector)\n",
    "    \n",
    "    #unitary_matrix = get_unitary_matrix(circuit)\n",
    "    #print_matrix(unitary_matrix)\n",
    "    \n",
    "    # https://qiskit.org/documentation/stubs/qiskit.circuit.QuantumCircuit.html#qiskit.circuit.QuantumCircuit.append\n",
    "    sub_circuit.append(insn, qargs, cargs)\n",
    "    sub_circuits.append(sub_circuit)\n",
    "\n",
    "print('%i sub circuits' % len(sub_circuits))"
   ]
  },
  {
   "cell_type": "code",
   "execution_count": 6,
   "id": "9b80b373",
   "metadata": {},
   "outputs": [
    {
     "name": "stdout",
     "output_type": "stream",
     "text": [
      "Test print\n",
      "Test print\n",
      "Test print\n",
      "Test print\n",
      "Test print\n",
      "Test print\n",
      "Test print\n"
     ]
    }
   ],
   "source": [
    "# Unfortunately we can't print each sub-circuit in a for-loop...\n",
    "for sub_circuit in sub_circuits:\n",
    "    print('Test print')\n",
    "    sub_circuit.draw()"
   ]
  },
  {
   "cell_type": "code",
   "execution_count": 7,
   "id": "192d43f6",
   "metadata": {},
   "outputs": [
    {
     "data": {
      "image/png": "[encoded data removed]",
      "text/plain": [
       "<Figure size 146.797x204.68 with 1 Axes>"
      ]
     },
     "execution_count": 7,
     "metadata": {},
     "output_type": "execute_result"
    }
   ],
   "source": [
    "# Printing individually works\n",
    "sub_circuits[0].draw()"
   ]
  },
  {
   "cell_type": "code",
   "execution_count": 8,
   "id": "d351a593",
   "metadata": {},
   "outputs": [
    {
     "data": {
      "image/png": "[encoded data removed]",
      "text/plain": [
       "<Figure size 206.997x204.68 with 1 Axes>"
      ]
     },
     "execution_count": 8,
     "metadata": {},
     "output_type": "execute_result"
    }
   ],
   "source": [
    "sub_circuits[1].draw()"
   ]
  },
  {
   "cell_type": "code",
   "execution_count": 9,
   "id": "ae0dbd44",
   "metadata": {},
   "outputs": [
    {
     "data": {
      "image/png": "[encoded data removed]",
      "text/plain": [
       "<Figure size 688.597x204.68 with 1 Axes>"
      ]
     },
     "execution_count": 9,
     "metadata": {},
     "output_type": "execute_result"
    }
   ],
   "source": [
    "# Check if the combined circuit looks like the original\n",
    "combined_circuit = sub_circuits[0]\n",
    "for i in range(1, len(sub_circuits)):\n",
    "    # https://qiskit.org/documentation/stubs/qiskit.circuit.QuantumCircuit.html#qiskit.circuit.QuantumCircuit.compose\n",
    "    combined_circuit = combined_circuit.compose(sub_circuits[i])\n",
    "    # combined_circuit += sub_circuits[i]\n",
    "\n",
    "# Print combined circuit\n",
    "combined_circuit.draw()"
   ]
  },
  {
   "cell_type": "code",
   "execution_count": 10,
   "id": "d14851ef",
   "metadata": {},
   "outputs": [
    {
     "data": {
      "image/png": "[encoded data removed]",
      "text/plain": [
       "<Figure size 688.597x204.68 with 1 Axes>"
      ]
     },
     "execution_count": 10,
     "metadata": {},
     "output_type": "execute_result"
    }
   ],
   "source": [
    "# Print original\n",
    "circuit.draw()"
   ]
  },
  {
   "cell_type": "code",
   "execution_count": 11,
   "id": "ea065ed8",
   "metadata": {},
   "outputs": [
    {
     "data": {
      "text/plain": [
       "True"
      ]
     },
     "execution_count": 11,
     "metadata": {},
     "output_type": "execute_result"
    }
   ],
   "source": [
    "# Compare the combined circuit with the original\n",
    "if combined_circuit == circuit:\n",
    "    print('It worked!!!')\n",
    "else:\n",
    "    print('It failed...')"
   ]
  },
  {
   "cell_type": "code",
   "execution_count": null,
   "id": "fc83f9ef",
   "metadata": {},
   "outputs": [],
   "source": []
  }
 ],
 "metadata": {
  "kernelspec": {
   "display_name": "Python 3",
   "language": "python",
   "name": "python3"
  },
  "language_info": {
   "codemirror_mode": {
    "name": "ipython",
    "version": 3
   },
   "file_extension": ".py",
   "mimetype": "text/x-python",
   "name": "python",
   "nbconvert_exporter": "python",
   "pygments_lexer": "ipython3",
   "version": "3.8.8"
  }
 },
 "nbformat": 4,
 "nbformat_minor": 5
}
