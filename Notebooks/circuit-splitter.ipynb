{
 "cells": [
  {
   "cell_type": "code",
   "execution_count": 75,
   "id": "21c6b0dd",
   "metadata": {},
   "outputs": [
    {
     "name": "stderr",
     "output_type": "stream",
     "text": [
      "ibmqfactory.load_account:WARNING:2021-05-13 10:45:31,228: Credentials are already in use. The existing account in the session will be replaced.\n"
     ]
    }
   ],
   "source": [
    "import numpy as np\n",
    "# Importing standard Qiskit libraries\n",
    "from qiskit import QuantumCircuit, transpile, Aer, IBMQ, execute, QuantumRegister, ClassicalRegister\n",
    "from qiskit.tools.jupyter import *\n",
    "from qiskit.visualization import *\n",
    "from qiskit.visualization.utils import _get_layered_instructions\n",
    "from ibm_quantum_widgets import *\n",
    "\n",
    "from qiskit.circuit.library import QFT\n",
    "\n",
    "from numpy import pi\n",
    "\n",
    "# Loading your IBM Q account(s)\n",
    "provider = IBMQ.load_account()"
   ]
  },
  {
   "cell_type": "code",
   "execution_count": 76,
   "id": "4e63ad06",
   "metadata": {},
   "outputs": [
    {
     "data": {
      "text/plain": [
       "'Creates a list of sub-circuits of a QuantumCircuit by column'"
      ]
     },
     "execution_count": 76,
     "metadata": {},
     "output_type": "execute_result"
    }
   ],
   "source": [
    "\"\"\"Creates a list of sub-circuits of a QuantumCircuit by column\"\"\""
   ]
  },
  {
   "cell_type": "code",
   "execution_count": 77,
   "id": "c8d22de5",
   "metadata": {},
   "outputs": [],
   "source": [
    "# Setup simulators\n",
    "state_vector_sim = Aer.get_backend('statevector_simulator')\n",
    "unitary_sim = Aer.get_backend('unitary_simulator')\n",
    "\n",
    "# Define helper functions\n",
    "def get_state_vector(circuit):\n",
    "    return state_vector_sim.run(circuit).result().get_statevector()\n",
    "\n",
    "def get_unitary_matrix(circuit):\n",
    "    return execute(circuit, unitary_sim).result().get_unitary()\n",
    "\n",
    "# Pretty-printing\n",
    "def print_matrix(matrix):\n",
    "    for row in matrix:\n",
    "        for num in row:\n",
    "            print(f\"{np.around(num, 2)}   \", end='')\n",
    "        print('')\n",
    "    print('\\n---')\n",
    "    \n",
    "def print_state_vector(svec):\n",
    "    for num in svec:\n",
    "        print(np.around(num, 2))\n",
    "    print('---')"
   ]
  },
  {
   "cell_type": "code",
   "execution_count": 78,
   "id": "dc036072",
   "metadata": {},
   "outputs": [
    {
     "data": {
      "image/png": "[encoded data removed]",
      "text/plain": [
       "<Figure size 507.997x385.28 with 1 Axes>"
      ]
     },
     "execution_count": 78,
     "metadata": {},
     "output_type": "execute_result"
    }
   ],
   "source": [
    "# Place circuit here\n",
    "\n",
    "#From QASM string\n",
    "qasm = \"\"\"\n",
    "OPENQASM 2.0;\n",
    "include \"qelib1.inc\";\n",
    "\n",
    "qreg q[5];\n",
    "creg c[5];\n",
    "\n",
    "s q[1];\n",
    "p(pi/2) q[2];\n",
    "p(pi/2) q[3];\n",
    "h q[4];\n",
    "cx q[2],q[3];\n",
    "h q[4];\n",
    "p(pi/2) q[2];\n",
    "t q[4];\n",
    "cx q[2],q[3];\n",
    "h q[4];\n",
    "s q[2];\n",
    "t q[4];\n",
    "ccx q[1],q[2],q[3];\n",
    "id q[1];\n",
    "rx(pi/2) q[0];\n",
    "\"\"\"\n",
    "circuit = QuantumCircuit.from_qasm_str(qasm)\n",
    "circuit.draw()"
   ]
  },
  {
   "cell_type": "code",
   "execution_count": 91,
   "id": "9a4a4003",
   "metadata": {},
   "outputs": [
    {
     "name": "stdout",
     "output_type": "stream",
     "text": [
      "Number of columns: 7\n",
      "Number of qubits: 5\n"
     ]
    }
   ],
   "source": [
    "# Each sub-circuit will have the same number of qubits as the original circuit\n",
    "num_qubits = circuit.num_qubits\n",
    "# We only care about the number of columns from _get_layered_instructions()\n",
    "_, _, ops = _get_layered_instructions(circuit)\n",
    "num_columns = len(ops)\n",
    "print(f'Number of columns: {num_columns}')\n",
    "print(f'Number of qubits: {num_qubits}')"
   ]
  },
  {
   "cell_type": "code",
   "execution_count": 92,
   "id": "8d1aabba",
   "metadata": {},
   "outputs": [
    {
     "name": "stdout",
     "output_type": "stream",
     "text": [
      "A preview of circuit.data (15 gates total)\n",
      "(<qiskit.circuit.library.standard_gates.rx.RXGate object at 0x7fa0dfb16c40>, [Qubit(QuantumRegister(5, 'q'), 0)], [])\n",
      "(<qiskit.circuit.library.standard_gates.s.SGate object at 0x7fa0dfb16f70>, [Qubit(QuantumRegister(5, 'q'), 1)], [])\n",
      "(<qiskit.circuit.library.standard_gates.p.PhaseGate object at 0x7fa0dfb16f40>, [Qubit(QuantumRegister(5, 'q'), 2)], [])\n",
      "(<qiskit.circuit.library.standard_gates.p.PhaseGate object at 0x7fa0dfb16f10>, [Qubit(QuantumRegister(5, 'q'), 3)], [])\n",
      "(<qiskit.circuit.library.standard_gates.x.CXGate object at 0x7fa0dfb16ee0>, [Qubit(QuantumRegister(5, 'q'), 2), Qubit(QuantumRegister(5, 'q'), 3)], [])\n"
     ]
    }
   ],
   "source": [
    "print(f'A preview of circuit.data ({len(circuit.data)} gates total)')\n",
    "for i in range(0, 5):\n",
    "    print(circuit.data[i])"
   ]
  },
  {
   "cell_type": "code",
   "execution_count": 105,
   "id": "4b5d2f42",
   "metadata": {},
   "outputs": [
    {
     "name": "stdout",
     "output_type": "stream",
     "text": [
      "curr_columns [0, 0, 0, 0, 0]\n",
      "columns [[], [], [], [], [], [], []]\n"
     ]
    }
   ],
   "source": [
    "# Initialize the data structures that hold column information\n",
    "\n",
    "# A list that keeps track of the column to insert the next gate\n",
    "# curr_column[qubit.index] = column\n",
    "curr_column = [0] * num_qubits # creates a list of size num_qubits\n",
    "print('curr_columns', curr_column)\n",
    "\n",
    "# A 2-D array that holds the actual instructions by column\n",
    "# where columns[0] = [(insn, qargs, cargs) tuples] (list of instructions at column 0)\n",
    "columns = []\n",
    "for i in range(num_columns):\n",
    "    columns.append([])\n",
    "print('columns', columns)"
   ]
  },
  {
   "cell_type": "code",
   "execution_count": 102,
   "id": "58b0c9bc",
   "metadata": {},
   "outputs": [
    {
     "name": "stdout",
     "output_type": "stream",
     "text": [
      "curr_columns [0, 0, 0, 0, 0]\n",
      "columns [[], [], [], [], [], [], []]\n",
      "---\n",
      "By column (7 columns total)\n",
      "Column 0: 5 gates\n",
      "<qiskit.circuit.library.standard_gates.rx.RXGate object at 0x7fa0dfb16c40>\n",
      "[Qubit(QuantumRegister(5, 'q'), 0)]\n",
      "<qiskit.circuit.library.standard_gates.s.SGate object at 0x7fa0dfb16f70>\n",
      "[Qubit(QuantumRegister(5, 'q'), 1)]\n",
      "<qiskit.circuit.library.standard_gates.p.PhaseGate object at 0x7fa0dfb16f40>\n",
      "[Qubit(QuantumRegister(5, 'q'), 2)]\n",
      "<qiskit.circuit.library.standard_gates.p.PhaseGate object at 0x7fa0dfb16f10>\n",
      "[Qubit(QuantumRegister(5, 'q'), 3)]\n",
      "<qiskit.circuit.library.standard_gates.h.HGate object at 0x7fa0dfb11430>\n",
      "[Qubit(QuantumRegister(5, 'q'), 4)]\n",
      "---\n",
      "Column 1: 2 gates\n",
      "<qiskit.circuit.library.standard_gates.x.CXGate object at 0x7fa0dfb16ee0>\n",
      "[Qubit(QuantumRegister(5, 'q'), 2), Qubit(QuantumRegister(5, 'q'), 3)]\n",
      "<qiskit.circuit.library.standard_gates.h.HGate object at 0x7fa0dfb11460>\n",
      "[Qubit(QuantumRegister(5, 'q'), 4)]\n",
      "---\n",
      "Column 2: 2 gates\n",
      "<qiskit.circuit.library.standard_gates.p.PhaseGate object at 0x7fa0dfb16c70>\n",
      "[Qubit(QuantumRegister(5, 'q'), 2)]\n",
      "<qiskit.circuit.library.standard_gates.t.TGate object at 0x7fa0dfb11490>\n",
      "[Qubit(QuantumRegister(5, 'q'), 4)]\n",
      "---\n",
      "Column 3: 2 gates\n",
      "<qiskit.circuit.library.standard_gates.x.CXGate object at 0x7fa0dfb16a60>\n",
      "[Qubit(QuantumRegister(5, 'q'), 2), Qubit(QuantumRegister(5, 'q'), 3)]\n",
      "<qiskit.circuit.library.standard_gates.h.HGate object at 0x7fa0dfb114c0>\n",
      "[Qubit(QuantumRegister(5, 'q'), 4)]\n",
      "---\n",
      "Column 4: 2 gates\n",
      "<qiskit.circuit.library.standard_gates.s.SGate object at 0x7fa0dfb11100>\n",
      "[Qubit(QuantumRegister(5, 'q'), 2)]\n",
      "<qiskit.circuit.library.standard_gates.t.TGate object at 0x7fa0dfb114f0>\n",
      "[Qubit(QuantumRegister(5, 'q'), 4)]\n",
      "---\n",
      "Column 5: 1 gates\n",
      "<qiskit.circuit.library.standard_gates.x.CCXGate object at 0x7fa0dfb113d0>\n",
      "[Qubit(QuantumRegister(5, 'q'), 1), Qubit(QuantumRegister(5, 'q'), 2), Qubit(QuantumRegister(5, 'q'), 3)]\n",
      "---\n",
      "Column 6: 1 gates\n",
      "<qiskit.circuit.library.standard_gates.i.IGate object at 0x7fa0dfb11400>\n",
      "[Qubit(QuantumRegister(5, 'q'), 1)]\n",
      "---\n"
     ]
    },
    {
     "name": "stderr",
     "output_type": "stream",
     "text": [
      "<ipython-input-102-03eda23b6e5d>:25: DeprecationWarning: Back-references to from Bit instances to their containing Registers have been deprecated. Instead, inspect Registers to find their contained Bits.\n",
      "  if curr_column[qubit.index] > col:\n",
      "<ipython-input-102-03eda23b6e5d>:26: DeprecationWarning: Back-references to from Bit instances to their containing Registers have been deprecated. Instead, inspect Registers to find their contained Bits.\n",
      "  col = curr_column[qubit.index]\n",
      "<ipython-input-102-03eda23b6e5d>:27: DeprecationWarning: Back-references to from Bit instances to their containing Registers have been deprecated. Instead, inspect Registers to find their contained Bits.\n",
      "  anchor_qubit = qubit.index\n",
      "<ipython-input-102-03eda23b6e5d>:41: DeprecationWarning: Back-references to from Bit instances to their containing Registers have been deprecated. Instead, inspect Registers to find their contained Bits.\n",
      "  curr_column[qubit.index] = curr_column[anchor_qubit]\n"
     ]
    }
   ],
   "source": [
    "# Obtain the instructions by column\n",
    "for (insn, qargs, cargs) in circuit.data:    \n",
    "    # First find the right-most column\n",
    "    # This will determine the column of all the gates\n",
    "    col = -1\n",
    "    anchor_qubit = -1 # the qubit with the highest column value\n",
    "    for qubit in qargs:\n",
    "        if curr_column[qubit.index] > col:\n",
    "            col = curr_column[qubit.index]\n",
    "            anchor_qubit = qubit.index\n",
    "    if col == -1 or anchor_qubit == -1:\n",
    "        print('Something went wrong...')\n",
    "        continue\n",
    "    \n",
    "    # At this point \"col\" contains the rightmost column\n",
    "    columns[col].append((insn, qargs, cargs))\n",
    "    # Update the column for this qubit for the next gate in the future\n",
    "    curr_column[anchor_qubit] += 1\n",
    "    # All the qubits in this instruction will have the same column value\n",
    "    # for the next gate in the future\n",
    "    for qubit in qargs:\n",
    "        curr_column[qubit.index] = curr_column[anchor_qubit]\n",
    "\n",
    "print(f'By column ({num_columns} columns total)')\n",
    "for col in range(0, num_columns):\n",
    "    print(f'Column {col}: {len(columns[col])} gates')\n",
    "    for (insn, qargs, cargs) in columns[col]:\n",
    "        print(insn)\n",
    "        print(qargs)\n",
    "    print('---')"
   ]
  },
  {
   "cell_type": "code",
   "execution_count": null,
   "id": "9cb10302",
   "metadata": {},
   "outputs": [],
   "source": [
    "# Build the subcircuits by column\n",
    "sub_circuits = []\n",
    "for col in range(0, num_columns):\n",
    "    sub_circuit = QuantumCircuit(num_qubits)\n",
    "    for (insn, qargs, cargs) in columns[col]:\n",
    "        sub_circuit.append(insn, qargs, cargs)\n",
    "    sub_circuits.append(sub_circuit)"
   ]
  },
  {
   "cell_type": "code",
   "execution_count": 34,
   "id": "447d0385",
   "metadata": {},
   "outputs": [
    {
     "data": {
      "image/png": "[encoded data removed]",
      "text/plain": [
       "<Figure size 146.797x325.08 with 1 Axes>"
      ]
     },
     "execution_count": 34,
     "metadata": {},
     "output_type": "execute_result"
    }
   ],
   "source": [
    "sub_circuits[4].draw()"
   ]
  },
  {
   "cell_type": "code",
   "execution_count": 19,
   "id": "d3996316",
   "metadata": {},
   "outputs": [
    {
     "name": "stdout",
     "output_type": "stream",
     "text": [
      "<qiskit.circuit.library.standard_gates.rx.RXGate object at 0x7fa0e5e40d30>\n",
      "[Qubit(QuantumRegister(5, 'q'), 0)]\n",
      "---\n",
      "<qiskit.circuit.library.standard_gates.s.SGate object at 0x7fa0e5e40e80>\n",
      "[Qubit(QuantumRegister(5, 'q'), 1)]\n",
      "---\n",
      "<qiskit.circuit.library.standard_gates.p.PhaseGate object at 0x7fa0e5e40e20>\n",
      "[Qubit(QuantumRegister(5, 'q'), 2)]\n",
      "---\n",
      "<qiskit.circuit.library.standard_gates.p.PhaseGate object at 0x7fa0e5e40760>\n",
      "[Qubit(QuantumRegister(5, 'q'), 3)]\n",
      "---\n",
      "<qiskit.circuit.library.standard_gates.x.CXGate object at 0x7fa0df7b7640>\n",
      "[Qubit(QuantumRegister(5, 'q'), 2), Qubit(QuantumRegister(5, 'q'), 3)]\n",
      "---\n",
      "<qiskit.circuit.library.standard_gates.p.PhaseGate object at 0x7fa0df7b76a0>\n",
      "[Qubit(QuantumRegister(5, 'q'), 2)]\n",
      "---\n",
      "<qiskit.circuit.library.standard_gates.x.CXGate object at 0x7fa0df7b7580>\n",
      "[Qubit(QuantumRegister(5, 'q'), 2), Qubit(QuantumRegister(5, 'q'), 3)]\n",
      "---\n",
      "<qiskit.circuit.library.standard_gates.s.SGate object at 0x7fa0df7b73a0>\n",
      "[Qubit(QuantumRegister(5, 'q'), 2)]\n",
      "---\n",
      "<qiskit.circuit.library.standard_gates.x.CCXGate object at 0x7fa0df7b79d0>\n",
      "[Qubit(QuantumRegister(5, 'q'), 1), Qubit(QuantumRegister(5, 'q'), 2), Qubit(QuantumRegister(5, 'q'), 3)]\n",
      "---\n",
      "<qiskit.circuit.library.standard_gates.i.IGate object at 0x7fa0df7b7a00>\n",
      "[Qubit(QuantumRegister(5, 'q'), 1)]\n",
      "---\n",
      "<qiskit.circuit.library.standard_gates.h.HGate object at 0x7fa0df7b7a30>\n",
      "[Qubit(QuantumRegister(5, 'q'), 4)]\n",
      "---\n",
      "<qiskit.circuit.library.standard_gates.h.HGate object at 0x7fa0df7b7a60>\n",
      "[Qubit(QuantumRegister(5, 'q'), 4)]\n",
      "---\n",
      "<qiskit.circuit.library.standard_gates.t.TGate object at 0x7fa0df7b7a90>\n",
      "[Qubit(QuantumRegister(5, 'q'), 4)]\n",
      "---\n",
      "<qiskit.circuit.library.standard_gates.h.HGate object at 0x7fa0df7b7ac0>\n",
      "[Qubit(QuantumRegister(5, 'q'), 4)]\n",
      "---\n",
      "<qiskit.circuit.library.standard_gates.t.TGate object at 0x7fa0df7b7af0>\n",
      "[Qubit(QuantumRegister(5, 'q'), 4)]\n",
      "---\n",
      "15 sub circuits\n"
     ]
    }
   ],
   "source": [
    "# Each sub-circuit will have the same number of qubits as the original circuit\n",
    "num_qubits = circuit.num_qubits\n",
    "sub_circuits = []\n",
    "amplitudes = []\n",
    "phases = []\n",
    "\n",
    "# https://qiskit.org/documentation/stubs/qiskit.circuit.QuantumCircuit.html#qiskit.circuit.QuantumCircuit.data\n",
    "prev_qubit = 0\n",
    "for (insn, qargs, cargs) in circuit.data:\n",
    "    print(insn)\n",
    "    print(qargs)\n",
    "    #print(cargs)\n",
    "    print('---')\n",
    "    sub_circuit = QuantumCircuit(num_qubits)\n",
    "    \n",
    "    state_vector = get_state_vector(sub_circuit)\n",
    "    #print_state_vector(state_vector)\n",
    "    amplitudes.append(abs(state_vector))\n",
    "    phases.append(np.angle(state_vector))\n",
    "    \n",
    "    #unitary_matrix = get_unitary_matrix(circuit)\n",
    "    #print_matrix(unitary_matrix)\n",
    "    \n",
    "    # https://qiskit.org/documentation/stubs/qiskit.circuit.QuantumCircuit.html#qiskit.circuit.QuantumCircuit.append\n",
    "    sub_circuit.append(insn, qargs, cargs)\n",
    "    sub_circuits.append(sub_circuit)\n",
    "\n",
    "print('%i sub circuits' % len(sub_circuits))"
   ]
  },
  {
   "cell_type": "code",
   "execution_count": 35,
   "id": "ae0dbd44",
   "metadata": {},
   "outputs": [
    {
     "data": {
      "image/png": "[encoded data removed]",
      "text/plain": [
       "<Figure size 507.997x325.08 with 1 Axes>"
      ]
     },
     "execution_count": 35,
     "metadata": {},
     "output_type": "execute_result"
    }
   ],
   "source": [
    "# Check if the combined circuit looks like the original\n",
    "combined_circuit = sub_circuits[0]\n",
    "for i in range(1, len(sub_circuits)):\n",
    "    # https://qiskit.org/documentation/stubs/qiskit.circuit.QuantumCircuit.html#qiskit.circuit.QuantumCircuit.compose\n",
    "    combined_circuit = combined_circuit.compose(sub_circuits[i])\n",
    "    # combined_circuit += sub_circuits[i]\n",
    "\n",
    "# Print combined circuit\n",
    "combined_circuit.draw()"
   ]
  },
  {
   "cell_type": "code",
   "execution_count": 36,
   "id": "d14851ef",
   "metadata": {},
   "outputs": [
    {
     "data": {
      "image/png": "[encoded data removed]",
      "text/plain": [
       "<Figure size 507.997x385.28 with 1 Axes>"
      ]
     },
     "execution_count": 36,
     "metadata": {},
     "output_type": "execute_result"
    }
   ],
   "source": [
    "# Print original\n",
    "circuit.draw()"
   ]
  },
  {
   "cell_type": "code",
   "execution_count": 37,
   "id": "ea065ed8",
   "metadata": {},
   "outputs": [
    {
     "name": "stdout",
     "output_type": "stream",
     "text": [
      "Statevector compare:  True\n",
      "Raw compare:  False\n"
     ]
    }
   ],
   "source": [
    "# Correct way to compare two circuits\n",
    "# https://quantumcomputing.stackexchange.com/questions/13723/test-equivalence-of-circuits-exactly-on-qiskit\n",
    "from qiskit.quantum_info import Statevector\n",
    "print('Statevector compare: ', Statevector.from_instruction(circuit).equiv(Statevector.from_instruction(combined_circuit))) # True\n",
    "print('Raw compare: ', circuit == combined_circuit)"
   ]
  },
  {
   "cell_type": "code",
   "execution_count": null,
   "id": "fc83f9ef",
   "metadata": {},
   "outputs": [],
   "source": []
  }
 ],
 "metadata": {
  "kernelspec": {
   "display_name": "Python 3",
   "language": "python",
   "name": "python3"
  },
  "language_info": {
   "codemirror_mode": {
    "name": "ipython",
    "version": 3
   },
   "file_extension": ".py",
   "mimetype": "text/x-python",
   "name": "python",
   "nbconvert_exporter": "python",
   "pygments_lexer": "ipython3",
   "version": "3.8.8"
  }
 },
 "nbformat": 4,
 "nbformat_minor": 5
}
